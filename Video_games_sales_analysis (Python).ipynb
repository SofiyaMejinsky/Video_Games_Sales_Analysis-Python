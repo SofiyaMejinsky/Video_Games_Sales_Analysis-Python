{
 "cells": [
  {
   "cell_type": "markdown",
   "metadata": {},
   "source": [
    "Project 4"
   ]
  },
  {
   "cell_type": "markdown",
   "metadata": {},
   "source": [
    "# Project description  \n",
    "Game sales data analysis to spot potential big winners and plan advertising campaigns. Identifying patterns that determine whether a game succeeds or not."
   ]
  },
  {
   "cell_type": "markdown",
   "metadata": {},
   "source": [
    "### Table of Contents: <a class=\"anchor\" id=\"contents\"></a>\n",
    "\n",
    "#### [1. Uploading data and studying the general information](#chapter1)\n",
    "   * [Conclusion](#chapter2)\n",
    "\n",
    "#### [2. Data preprocessing](#chapter3)\n",
    "   * [2.1 Processing missing values](#chapter4)  \n",
    "   * [2.2 Data type replacment](#chapter5)\n",
    "   * [2.3 Making calculations](#chapter6)\n",
    "   * [Conclusion](#chapter7)\n",
    "   \n",
    "#### [3. Data analysis](#chapter8)\n",
    "   * [Conclusion](#chapter9)\n",
    "   \n",
    "#### [4. Creating a user profile for each region](#chapter10)\n",
    "   * [Conclusion](#chapter11)\n",
    "\n",
    "#### [5. Testing hypotheses](#chapter12)\n",
    "   * [Conclusion](#chapter13)\n",
    "\n",
    "#### [Overall conclusion](#chapter14)"
   ]
  },
  {
   "cell_type": "markdown",
   "metadata": {},
   "source": [
    "### 1.  Uploading data and studying the general information <a class=\"anchor\" id=\"chapter1\"></a>"
   ]
  },
  {
   "cell_type": "code",
   "execution_count": 3,
   "metadata": {},
   "outputs": [],
   "source": [
    "#importing libraries\n",
    "import pandas as pd\n",
    "import matplotlib.pyplot as plt\n",
    "import numpy as np\n",
    "from scipy import stats as st\n",
    "import seaborn as sns"
   ]
  },
  {
   "cell_type": "code",
   "execution_count": 2,
   "metadata": {},
   "outputs": [
    {
     "data": {
      "text/html": [
       "<div>\n",
       "<style scoped>\n",
       "    .dataframe tbody tr th:only-of-type {\n",
       "        vertical-align: middle;\n",
       "    }\n",
       "\n",
       "    .dataframe tbody tr th {\n",
       "        vertical-align: top;\n",
       "    }\n",
       "\n",
       "    .dataframe thead th {\n",
       "        text-align: right;\n",
       "    }\n",
       "</style>\n",
       "<table border=\"1\" class=\"dataframe\">\n",
       "  <thead>\n",
       "    <tr style=\"text-align: right;\">\n",
       "      <th></th>\n",
       "      <th>Name</th>\n",
       "      <th>Platform</th>\n",
       "      <th>Year_of_Release</th>\n",
       "      <th>Genre</th>\n",
       "      <th>NA_sales</th>\n",
       "      <th>EU_sales</th>\n",
       "      <th>JP_sales</th>\n",
       "      <th>Other_sales</th>\n",
       "      <th>Critic_Score</th>\n",
       "      <th>User_Score</th>\n",
       "      <th>Rating</th>\n",
       "    </tr>\n",
       "  </thead>\n",
       "  <tbody>\n",
       "    <tr>\n",
       "      <th>0</th>\n",
       "      <td>Wii Sports</td>\n",
       "      <td>Wii</td>\n",
       "      <td>2006.0</td>\n",
       "      <td>Sports</td>\n",
       "      <td>41.36</td>\n",
       "      <td>28.96</td>\n",
       "      <td>3.77</td>\n",
       "      <td>8.45</td>\n",
       "      <td>76.0</td>\n",
       "      <td>8</td>\n",
       "      <td>E</td>\n",
       "    </tr>\n",
       "    <tr>\n",
       "      <th>1</th>\n",
       "      <td>Super Mario Bros.</td>\n",
       "      <td>NES</td>\n",
       "      <td>1985.0</td>\n",
       "      <td>Platform</td>\n",
       "      <td>29.08</td>\n",
       "      <td>3.58</td>\n",
       "      <td>6.81</td>\n",
       "      <td>0.77</td>\n",
       "      <td>NaN</td>\n",
       "      <td>NaN</td>\n",
       "      <td>NaN</td>\n",
       "    </tr>\n",
       "    <tr>\n",
       "      <th>2</th>\n",
       "      <td>Mario Kart Wii</td>\n",
       "      <td>Wii</td>\n",
       "      <td>2008.0</td>\n",
       "      <td>Racing</td>\n",
       "      <td>15.68</td>\n",
       "      <td>12.76</td>\n",
       "      <td>3.79</td>\n",
       "      <td>3.29</td>\n",
       "      <td>82.0</td>\n",
       "      <td>8.3</td>\n",
       "      <td>E</td>\n",
       "    </tr>\n",
       "    <tr>\n",
       "      <th>3</th>\n",
       "      <td>Wii Sports Resort</td>\n",
       "      <td>Wii</td>\n",
       "      <td>2009.0</td>\n",
       "      <td>Sports</td>\n",
       "      <td>15.61</td>\n",
       "      <td>10.93</td>\n",
       "      <td>3.28</td>\n",
       "      <td>2.95</td>\n",
       "      <td>80.0</td>\n",
       "      <td>8</td>\n",
       "      <td>E</td>\n",
       "    </tr>\n",
       "    <tr>\n",
       "      <th>4</th>\n",
       "      <td>Pokemon Red/Pokemon Blue</td>\n",
       "      <td>GB</td>\n",
       "      <td>1996.0</td>\n",
       "      <td>Role-Playing</td>\n",
       "      <td>11.27</td>\n",
       "      <td>8.89</td>\n",
       "      <td>10.22</td>\n",
       "      <td>1.00</td>\n",
       "      <td>NaN</td>\n",
       "      <td>NaN</td>\n",
       "      <td>NaN</td>\n",
       "    </tr>\n",
       "  </tbody>\n",
       "</table>\n",
       "</div>"
      ],
      "text/plain": [
       "                       Name Platform  Year_of_Release         Genre  NA_sales  \\\n",
       "0                Wii Sports      Wii           2006.0        Sports     41.36   \n",
       "1         Super Mario Bros.      NES           1985.0      Platform     29.08   \n",
       "2            Mario Kart Wii      Wii           2008.0        Racing     15.68   \n",
       "3         Wii Sports Resort      Wii           2009.0        Sports     15.61   \n",
       "4  Pokemon Red/Pokemon Blue       GB           1996.0  Role-Playing     11.27   \n",
       "\n",
       "   EU_sales  JP_sales  Other_sales  Critic_Score User_Score Rating  \n",
       "0     28.96      3.77         8.45          76.0          8      E  \n",
       "1      3.58      6.81         0.77           NaN        NaN    NaN  \n",
       "2     12.76      3.79         3.29          82.0        8.3      E  \n",
       "3     10.93      3.28         2.95          80.0          8      E  \n",
       "4      8.89     10.22         1.00           NaN        NaN    NaN  "
      ]
     },
     "execution_count": 2,
     "metadata": {},
     "output_type": "execute_result"
    }
   ],
   "source": [
    "#opening data files\n",
    "data= pd.read_csv('games.csv')\n",
    "data.head()"
   ]
  },
  {
   "cell_type": "markdown",
   "metadata": {},
   "source": [
    "Columns name have different case of letters."
   ]
  },
  {
   "cell_type": "code",
   "execution_count": 8,
   "metadata": {},
   "outputs": [
    {
     "name": "stdout",
     "output_type": "stream",
     "text": [
      "<class 'pandas.core.frame.DataFrame'>\n",
      "RangeIndex: 16715 entries, 0 to 16714\n",
      "Data columns (total 11 columns):\n",
      "Name               16713 non-null object\n",
      "Platform           16715 non-null object\n",
      "Year_of_Release    16446 non-null float64\n",
      "Genre              16713 non-null object\n",
      "NA_sales           16715 non-null float64\n",
      "EU_sales           16715 non-null float64\n",
      "JP_sales           16715 non-null float64\n",
      "Other_sales        16715 non-null float64\n",
      "Critic_Score       8137 non-null float64\n",
      "User_Score         10014 non-null object\n",
      "Rating             9949 non-null object\n",
      "dtypes: float64(6), object(5)\n",
      "memory usage: 1.4+ MB\n"
     ]
    }
   ],
   "source": [
    "data.info()"
   ]
  },
  {
   "cell_type": "markdown",
   "metadata": {},
   "source": [
    "Data type for columns 'Critic_Score' and 'User_Score' with numeric values inside are object (text)."
   ]
  },
  {
   "cell_type": "code",
   "execution_count": 9,
   "metadata": {},
   "outputs": [
    {
     "data": {
      "text/html": [
       "<style  type=\"text/css\" >\n",
       "</style><table id=\"T_fc30a932_d5d0_11ea_89f9_02420a39725d\" ><thead>    <tr>        <th class=\"col_heading level0 col0\" >column</th>        <th class=\"col_heading level0 col1\" >amount_missing</th>        <th class=\"col_heading level0 col2\" >missing %</th>    </tr></thead><tbody>\n",
       "                <tr>\n",
       "                                <td id=\"T_fc30a932_d5d0_11ea_89f9_02420a39725drow0_col0\" class=\"data row0 col0\" >Name</td>\n",
       "                        <td id=\"T_fc30a932_d5d0_11ea_89f9_02420a39725drow0_col1\" class=\"data row0 col1\" >2</td>\n",
       "                        <td id=\"T_fc30a932_d5d0_11ea_89f9_02420a39725drow0_col2\" class=\"data row0 col2\" >0.01%</td>\n",
       "            </tr>\n",
       "            <tr>\n",
       "                                <td id=\"T_fc30a932_d5d0_11ea_89f9_02420a39725drow1_col0\" class=\"data row1 col0\" >Platform</td>\n",
       "                        <td id=\"T_fc30a932_d5d0_11ea_89f9_02420a39725drow1_col1\" class=\"data row1 col1\" >0</td>\n",
       "                        <td id=\"T_fc30a932_d5d0_11ea_89f9_02420a39725drow1_col2\" class=\"data row1 col2\" >0.00%</td>\n",
       "            </tr>\n",
       "            <tr>\n",
       "                                <td id=\"T_fc30a932_d5d0_11ea_89f9_02420a39725drow2_col0\" class=\"data row2 col0\" >Year_of_Release</td>\n",
       "                        <td id=\"T_fc30a932_d5d0_11ea_89f9_02420a39725drow2_col1\" class=\"data row2 col1\" >269</td>\n",
       "                        <td id=\"T_fc30a932_d5d0_11ea_89f9_02420a39725drow2_col2\" class=\"data row2 col2\" >1.61%</td>\n",
       "            </tr>\n",
       "            <tr>\n",
       "                                <td id=\"T_fc30a932_d5d0_11ea_89f9_02420a39725drow3_col0\" class=\"data row3 col0\" >Genre</td>\n",
       "                        <td id=\"T_fc30a932_d5d0_11ea_89f9_02420a39725drow3_col1\" class=\"data row3 col1\" >2</td>\n",
       "                        <td id=\"T_fc30a932_d5d0_11ea_89f9_02420a39725drow3_col2\" class=\"data row3 col2\" >0.01%</td>\n",
       "            </tr>\n",
       "            <tr>\n",
       "                                <td id=\"T_fc30a932_d5d0_11ea_89f9_02420a39725drow4_col0\" class=\"data row4 col0\" >NA_sales</td>\n",
       "                        <td id=\"T_fc30a932_d5d0_11ea_89f9_02420a39725drow4_col1\" class=\"data row4 col1\" >0</td>\n",
       "                        <td id=\"T_fc30a932_d5d0_11ea_89f9_02420a39725drow4_col2\" class=\"data row4 col2\" >0.00%</td>\n",
       "            </tr>\n",
       "            <tr>\n",
       "                                <td id=\"T_fc30a932_d5d0_11ea_89f9_02420a39725drow5_col0\" class=\"data row5 col0\" >EU_sales</td>\n",
       "                        <td id=\"T_fc30a932_d5d0_11ea_89f9_02420a39725drow5_col1\" class=\"data row5 col1\" >0</td>\n",
       "                        <td id=\"T_fc30a932_d5d0_11ea_89f9_02420a39725drow5_col2\" class=\"data row5 col2\" >0.00%</td>\n",
       "            </tr>\n",
       "            <tr>\n",
       "                                <td id=\"T_fc30a932_d5d0_11ea_89f9_02420a39725drow6_col0\" class=\"data row6 col0\" >JP_sales</td>\n",
       "                        <td id=\"T_fc30a932_d5d0_11ea_89f9_02420a39725drow6_col1\" class=\"data row6 col1\" >0</td>\n",
       "                        <td id=\"T_fc30a932_d5d0_11ea_89f9_02420a39725drow6_col2\" class=\"data row6 col2\" >0.00%</td>\n",
       "            </tr>\n",
       "            <tr>\n",
       "                                <td id=\"T_fc30a932_d5d0_11ea_89f9_02420a39725drow7_col0\" class=\"data row7 col0\" >Other_sales</td>\n",
       "                        <td id=\"T_fc30a932_d5d0_11ea_89f9_02420a39725drow7_col1\" class=\"data row7 col1\" >0</td>\n",
       "                        <td id=\"T_fc30a932_d5d0_11ea_89f9_02420a39725drow7_col2\" class=\"data row7 col2\" >0.00%</td>\n",
       "            </tr>\n",
       "            <tr>\n",
       "                                <td id=\"T_fc30a932_d5d0_11ea_89f9_02420a39725drow8_col0\" class=\"data row8 col0\" >Critic_Score</td>\n",
       "                        <td id=\"T_fc30a932_d5d0_11ea_89f9_02420a39725drow8_col1\" class=\"data row8 col1\" >8578</td>\n",
       "                        <td id=\"T_fc30a932_d5d0_11ea_89f9_02420a39725drow8_col2\" class=\"data row8 col2\" >51.32%</td>\n",
       "            </tr>\n",
       "            <tr>\n",
       "                                <td id=\"T_fc30a932_d5d0_11ea_89f9_02420a39725drow9_col0\" class=\"data row9 col0\" >User_Score</td>\n",
       "                        <td id=\"T_fc30a932_d5d0_11ea_89f9_02420a39725drow9_col1\" class=\"data row9 col1\" >6701</td>\n",
       "                        <td id=\"T_fc30a932_d5d0_11ea_89f9_02420a39725drow9_col2\" class=\"data row9 col2\" >40.09%</td>\n",
       "            </tr>\n",
       "            <tr>\n",
       "                                <td id=\"T_fc30a932_d5d0_11ea_89f9_02420a39725drow10_col0\" class=\"data row10 col0\" >Rating</td>\n",
       "                        <td id=\"T_fc30a932_d5d0_11ea_89f9_02420a39725drow10_col1\" class=\"data row10 col1\" >6766</td>\n",
       "                        <td id=\"T_fc30a932_d5d0_11ea_89f9_02420a39725drow10_col2\" class=\"data row10 col2\" >40.48%</td>\n",
       "            </tr>\n",
       "    </tbody></table>"
      ],
      "text/plain": [
       "<pandas.io.formats.style.Styler at 0x7fc2b407bf10>"
      ]
     },
     "execution_count": 9,
     "metadata": {},
     "output_type": "execute_result"
    }
   ],
   "source": [
    "missing_list=[]\n",
    "for x in data:\n",
    "    missing_list.append([x, data[x].isnull().sum(),(len(data[data[x].isnull()])/len(data))])\n",
    "missing_list = pd.DataFrame(missing_list, columns=['column', 'amount_missing', 'missing %'])\n",
    "missing_list.style.format({'missing %': \"{:.2%}\"}).hide_index()"
   ]
  },
  {
   "cell_type": "markdown",
   "metadata": {},
   "source": [
    "There are missing values in columns: 'Name', 'Year_of_Release', 'Critic_Score', 'User_Score', 'Rating'."
   ]
  },
  {
   "cell_type": "code",
   "execution_count": 10,
   "metadata": {},
   "outputs": [
    {
     "data": {
      "text/plain": [
       "E       3990\n",
       "T       2961\n",
       "M       1563\n",
       "E10+    1420\n",
       "EC         8\n",
       "RP         3\n",
       "K-A        3\n",
       "AO         1\n",
       "Name: Rating, dtype: int64"
      ]
     },
     "execution_count": 10,
     "metadata": {},
     "output_type": "execute_result"
    }
   ],
   "source": [
    "data['Rating'].value_counts()"
   ]
  },
  {
   "cell_type": "code",
   "execution_count": 11,
   "metadata": {},
   "outputs": [
    {
     "name": "stdout",
     "output_type": "stream",
     "text": [
      "Number of games: 11559\n",
      "Number of platforms: 31\n",
      "Number of genres: 12\n",
      "First year of release: 1980\n",
      "Last year of release: 2016\n"
     ]
    }
   ],
   "source": [
    "print('Number of games:', len(data.groupby('Name')))\n",
    "print('Number of platforms:', len(data.groupby('Platform')))\n",
    "print('Number of genres:', len(data.groupby('Genre')))\n",
    "print('First year of release: {:.0f}'.format(data['Year_of_Release'].min()))\n",
    "print('Last year of release: {:.0f}'.format(data['Year_of_Release'].max()))"
   ]
  },
  {
   "cell_type": "markdown",
   "metadata": {},
   "source": [
    "[Back to the Table of Contents](#contents)"
   ]
  },
  {
   "cell_type": "markdown",
   "metadata": {},
   "source": [
    "### Conclusion <a class=\"anchor\" id=\"chapter2\"></a>"
   ]
  },
  {
   "cell_type": "markdown",
   "metadata": {},
   "source": [
    "**In this step:**\n",
    "- all libraries that we need for analysis were imported;\n",
    "- data file were opened;\n",
    "- data was studied.  \n",
    "\n",
    "**I found:**\n",
    "- different case of letters in column's names;\n",
    "- not numeric data type for columns with numbers;\n",
    "- missing values in columns."
   ]
  },
  {
   "cell_type": "markdown",
   "metadata": {},
   "source": [
    "[Back to the Table of Contents](#contents)"
   ]
  },
  {
   "cell_type": "markdown",
   "metadata": {},
   "source": [
    "### 2. Data preprocessing <a class=\"anchor\" id=\"chapter3\"></a>"
   ]
  },
  {
   "cell_type": "code",
   "execution_count": 12,
   "metadata": {},
   "outputs": [],
   "source": [
    "#changing letter case in column names\n",
    "data.columns = data.columns.str.lower()"
   ]
  },
  {
   "cell_type": "markdown",
   "metadata": {},
   "source": [
    "I made letters in column names lowercase."
   ]
  },
  {
   "cell_type": "markdown",
   "metadata": {},
   "source": [
    "[Back to the Table of Contents](#contents)"
   ]
  },
  {
   "cell_type": "markdown",
   "metadata": {},
   "source": [
    "#### 2.1 Processing missing values <a class=\"anchor\" id=\"chapter4\"></a>"
   ]
  },
  {
   "cell_type": "code",
   "execution_count": 13,
   "metadata": {},
   "outputs": [
    {
     "data": {
      "text/html": [
       "<div>\n",
       "<style scoped>\n",
       "    .dataframe tbody tr th:only-of-type {\n",
       "        vertical-align: middle;\n",
       "    }\n",
       "\n",
       "    .dataframe tbody tr th {\n",
       "        vertical-align: top;\n",
       "    }\n",
       "\n",
       "    .dataframe thead th {\n",
       "        text-align: right;\n",
       "    }\n",
       "</style>\n",
       "<table border=\"1\" class=\"dataframe\">\n",
       "  <thead>\n",
       "    <tr style=\"text-align: right;\">\n",
       "      <th></th>\n",
       "      <th>name</th>\n",
       "      <th>platform</th>\n",
       "      <th>year_of_release</th>\n",
       "      <th>genre</th>\n",
       "      <th>na_sales</th>\n",
       "      <th>eu_sales</th>\n",
       "      <th>jp_sales</th>\n",
       "      <th>other_sales</th>\n",
       "      <th>critic_score</th>\n",
       "      <th>user_score</th>\n",
       "      <th>rating</th>\n",
       "    </tr>\n",
       "  </thead>\n",
       "  <tbody>\n",
       "    <tr>\n",
       "      <td>659</td>\n",
       "      <td>NaN</td>\n",
       "      <td>GEN</td>\n",
       "      <td>1993.0</td>\n",
       "      <td>NaN</td>\n",
       "      <td>1.78</td>\n",
       "      <td>0.53</td>\n",
       "      <td>0.00</td>\n",
       "      <td>0.08</td>\n",
       "      <td>NaN</td>\n",
       "      <td>NaN</td>\n",
       "      <td>NaN</td>\n",
       "    </tr>\n",
       "    <tr>\n",
       "      <td>14244</td>\n",
       "      <td>NaN</td>\n",
       "      <td>GEN</td>\n",
       "      <td>1993.0</td>\n",
       "      <td>NaN</td>\n",
       "      <td>0.00</td>\n",
       "      <td>0.00</td>\n",
       "      <td>0.03</td>\n",
       "      <td>0.00</td>\n",
       "      <td>NaN</td>\n",
       "      <td>NaN</td>\n",
       "      <td>NaN</td>\n",
       "    </tr>\n",
       "  </tbody>\n",
       "</table>\n",
       "</div>"
      ],
      "text/plain": [
       "      name platform  year_of_release genre  na_sales  eu_sales  jp_sales  \\\n",
       "659    NaN      GEN           1993.0   NaN      1.78      0.53      0.00   \n",
       "14244  NaN      GEN           1993.0   NaN      0.00      0.00      0.03   \n",
       "\n",
       "       other_sales  critic_score user_score rating  \n",
       "659           0.08           NaN        NaN    NaN  \n",
       "14244         0.00           NaN        NaN    NaN  "
      ]
     },
     "execution_count": 13,
     "metadata": {},
     "output_type": "execute_result"
    }
   ],
   "source": [
    "#checking rows with missing values\n",
    "data[data['name'].isna()]"
   ]
  },
  {
   "cell_type": "code",
   "execution_count": 14,
   "metadata": {},
   "outputs": [
    {
     "data": {
      "text/html": [
       "<div>\n",
       "<style scoped>\n",
       "    .dataframe tbody tr th:only-of-type {\n",
       "        vertical-align: middle;\n",
       "    }\n",
       "\n",
       "    .dataframe tbody tr th {\n",
       "        vertical-align: top;\n",
       "    }\n",
       "\n",
       "    .dataframe thead th {\n",
       "        text-align: right;\n",
       "    }\n",
       "</style>\n",
       "<table border=\"1\" class=\"dataframe\">\n",
       "  <thead>\n",
       "    <tr style=\"text-align: right;\">\n",
       "      <th></th>\n",
       "      <th>name</th>\n",
       "      <th>platform</th>\n",
       "      <th>year_of_release</th>\n",
       "      <th>genre</th>\n",
       "      <th>na_sales</th>\n",
       "      <th>eu_sales</th>\n",
       "      <th>jp_sales</th>\n",
       "      <th>other_sales</th>\n",
       "      <th>critic_score</th>\n",
       "      <th>user_score</th>\n",
       "      <th>rating</th>\n",
       "    </tr>\n",
       "  </thead>\n",
       "  <tbody>\n",
       "    <tr>\n",
       "      <td>659</td>\n",
       "      <td>NaN</td>\n",
       "      <td>GEN</td>\n",
       "      <td>1993.0</td>\n",
       "      <td>NaN</td>\n",
       "      <td>1.78</td>\n",
       "      <td>0.53</td>\n",
       "      <td>0.00</td>\n",
       "      <td>0.08</td>\n",
       "      <td>NaN</td>\n",
       "      <td>NaN</td>\n",
       "      <td>NaN</td>\n",
       "    </tr>\n",
       "    <tr>\n",
       "      <td>14244</td>\n",
       "      <td>NaN</td>\n",
       "      <td>GEN</td>\n",
       "      <td>1993.0</td>\n",
       "      <td>NaN</td>\n",
       "      <td>0.00</td>\n",
       "      <td>0.00</td>\n",
       "      <td>0.03</td>\n",
       "      <td>0.00</td>\n",
       "      <td>NaN</td>\n",
       "      <td>NaN</td>\n",
       "      <td>NaN</td>\n",
       "    </tr>\n",
       "  </tbody>\n",
       "</table>\n",
       "</div>"
      ],
      "text/plain": [
       "      name platform  year_of_release genre  na_sales  eu_sales  jp_sales  \\\n",
       "659    NaN      GEN           1993.0   NaN      1.78      0.53      0.00   \n",
       "14244  NaN      GEN           1993.0   NaN      0.00      0.00      0.03   \n",
       "\n",
       "       other_sales  critic_score user_score rating  \n",
       "659           0.08           NaN        NaN    NaN  \n",
       "14244         0.00           NaN        NaN    NaN  "
      ]
     },
     "execution_count": 14,
     "metadata": {},
     "output_type": "execute_result"
    }
   ],
   "source": [
    "#checking rows with missing values\n",
    "data[data['genre'].isna()]"
   ]
  },
  {
   "cell_type": "markdown",
   "metadata": {},
   "source": [
    "I found two rows with missing values in columns 'name' and 'genre'.  \n",
    "Possible cause for missing values is corrupted data, probably some data was lost.  \n",
    "I don't see any suitable replacement for these values, I will delete them."
   ]
  },
  {
   "cell_type": "code",
   "execution_count": 15,
   "metadata": {},
   "outputs": [
    {
     "name": "stdout",
     "output_type": "stream",
     "text": [
      "Data size after deleting: 16713\n"
     ]
    }
   ],
   "source": [
    "#deleting missing values\n",
    "data = data.drop(data[data['name'].isna()].index)\n",
    "#checking result\n",
    "print('Data size after deleting:', len(data))"
   ]
  },
  {
   "cell_type": "markdown",
   "metadata": {},
   "source": [
    "I deleted these rows, it will not affect analysis, because it only 0.01% from all data."
   ]
  },
  {
   "cell_type": "code",
   "execution_count": 16,
   "metadata": {},
   "outputs": [
    {
     "data": {
      "text/html": [
       "<div>\n",
       "<style scoped>\n",
       "    .dataframe tbody tr th:only-of-type {\n",
       "        vertical-align: middle;\n",
       "    }\n",
       "\n",
       "    .dataframe tbody tr th {\n",
       "        vertical-align: top;\n",
       "    }\n",
       "\n",
       "    .dataframe thead th {\n",
       "        text-align: right;\n",
       "    }\n",
       "</style>\n",
       "<table border=\"1\" class=\"dataframe\">\n",
       "  <thead>\n",
       "    <tr style=\"text-align: right;\">\n",
       "      <th></th>\n",
       "      <th>name</th>\n",
       "      <th>platform</th>\n",
       "      <th>year_of_release</th>\n",
       "      <th>genre</th>\n",
       "      <th>na_sales</th>\n",
       "      <th>eu_sales</th>\n",
       "      <th>jp_sales</th>\n",
       "      <th>other_sales</th>\n",
       "      <th>critic_score</th>\n",
       "      <th>user_score</th>\n",
       "      <th>rating</th>\n",
       "    </tr>\n",
       "  </thead>\n",
       "  <tbody>\n",
       "    <tr>\n",
       "      <td>183</td>\n",
       "      <td>Madden NFL 2004</td>\n",
       "      <td>PS2</td>\n",
       "      <td>NaN</td>\n",
       "      <td>Sports</td>\n",
       "      <td>4.26</td>\n",
       "      <td>0.26</td>\n",
       "      <td>0.01</td>\n",
       "      <td>0.71</td>\n",
       "      <td>94.0</td>\n",
       "      <td>8.5</td>\n",
       "      <td>E</td>\n",
       "    </tr>\n",
       "    <tr>\n",
       "      <td>377</td>\n",
       "      <td>FIFA Soccer 2004</td>\n",
       "      <td>PS2</td>\n",
       "      <td>NaN</td>\n",
       "      <td>Sports</td>\n",
       "      <td>0.59</td>\n",
       "      <td>2.36</td>\n",
       "      <td>0.04</td>\n",
       "      <td>0.51</td>\n",
       "      <td>84.0</td>\n",
       "      <td>6.4</td>\n",
       "      <td>E</td>\n",
       "    </tr>\n",
       "    <tr>\n",
       "      <td>456</td>\n",
       "      <td>LEGO Batman: The Videogame</td>\n",
       "      <td>Wii</td>\n",
       "      <td>NaN</td>\n",
       "      <td>Action</td>\n",
       "      <td>1.80</td>\n",
       "      <td>0.97</td>\n",
       "      <td>0.00</td>\n",
       "      <td>0.29</td>\n",
       "      <td>74.0</td>\n",
       "      <td>7.9</td>\n",
       "      <td>E10+</td>\n",
       "    </tr>\n",
       "    <tr>\n",
       "      <td>475</td>\n",
       "      <td>wwe Smackdown vs. Raw 2006</td>\n",
       "      <td>PS2</td>\n",
       "      <td>NaN</td>\n",
       "      <td>Fighting</td>\n",
       "      <td>1.57</td>\n",
       "      <td>1.02</td>\n",
       "      <td>0.00</td>\n",
       "      <td>0.41</td>\n",
       "      <td>NaN</td>\n",
       "      <td>NaN</td>\n",
       "      <td>NaN</td>\n",
       "    </tr>\n",
       "    <tr>\n",
       "      <td>609</td>\n",
       "      <td>Space Invaders</td>\n",
       "      <td>2600</td>\n",
       "      <td>NaN</td>\n",
       "      <td>Shooter</td>\n",
       "      <td>2.36</td>\n",
       "      <td>0.14</td>\n",
       "      <td>0.00</td>\n",
       "      <td>0.03</td>\n",
       "      <td>NaN</td>\n",
       "      <td>NaN</td>\n",
       "      <td>NaN</td>\n",
       "    </tr>\n",
       "  </tbody>\n",
       "</table>\n",
       "</div>"
      ],
      "text/plain": [
       "                           name platform  year_of_release     genre  na_sales  \\\n",
       "183             Madden NFL 2004      PS2              NaN    Sports      4.26   \n",
       "377            FIFA Soccer 2004      PS2              NaN    Sports      0.59   \n",
       "456  LEGO Batman: The Videogame      Wii              NaN    Action      1.80   \n",
       "475  wwe Smackdown vs. Raw 2006      PS2              NaN  Fighting      1.57   \n",
       "609              Space Invaders     2600              NaN   Shooter      2.36   \n",
       "\n",
       "     eu_sales  jp_sales  other_sales  critic_score user_score rating  \n",
       "183      0.26      0.01         0.71          94.0        8.5      E  \n",
       "377      2.36      0.04         0.51          84.0        6.4      E  \n",
       "456      0.97      0.00         0.29          74.0        7.9   E10+  \n",
       "475      1.02      0.00         0.41           NaN        NaN    NaN  \n",
       "609      0.14      0.00         0.03           NaN        NaN    NaN  "
      ]
     },
     "execution_count": 16,
     "metadata": {},
     "output_type": "execute_result"
    }
   ],
   "source": [
    "#checking missing values\n",
    "missing_years = data[data['year_of_release'].isna()].copy()\n",
    "names_missing_year = missing_years['name']\n",
    "missing_years.head()"
   ]
  },
  {
   "cell_type": "markdown",
   "metadata": {},
   "source": [
    "Possible cause for missing values here is corrupted data, probably some data was lost.  \n",
    "I found that some games with missing values in columns 'year_of_release' have year in the names.  \n",
    "I assume that if year in the game name bigger or equal than 1980 and less or equal than 2016 (first and last year in our data) it can be year of release.  \n",
    "Therefore I will fill some of missing values with year in the game name (if there is any), it will not affect to analysis, because percentage of all missing values in this column is 1.61%."
   ]
  },
  {
   "cell_type": "code",
   "execution_count": 17,
   "metadata": {},
   "outputs": [
    {
     "data": {
      "text/html": [
       "<div>\n",
       "<style scoped>\n",
       "    .dataframe tbody tr th:only-of-type {\n",
       "        vertical-align: middle;\n",
       "    }\n",
       "\n",
       "    .dataframe tbody tr th {\n",
       "        vertical-align: top;\n",
       "    }\n",
       "\n",
       "    .dataframe thead th {\n",
       "        text-align: right;\n",
       "    }\n",
       "</style>\n",
       "<table border=\"1\" class=\"dataframe\">\n",
       "  <thead>\n",
       "    <tr style=\"text-align: right;\">\n",
       "      <th></th>\n",
       "      <th>name</th>\n",
       "      <th>platform</th>\n",
       "      <th>year_of_release</th>\n",
       "      <th>genre</th>\n",
       "      <th>na_sales</th>\n",
       "      <th>eu_sales</th>\n",
       "      <th>jp_sales</th>\n",
       "      <th>other_sales</th>\n",
       "      <th>critic_score</th>\n",
       "      <th>user_score</th>\n",
       "      <th>rating</th>\n",
       "      <th>missing_year</th>\n",
       "    </tr>\n",
       "  </thead>\n",
       "  <tbody>\n",
       "    <tr>\n",
       "      <td>183</td>\n",
       "      <td>Madden NFL 2004</td>\n",
       "      <td>PS2</td>\n",
       "      <td>2004.0</td>\n",
       "      <td>Sports</td>\n",
       "      <td>4.26</td>\n",
       "      <td>0.26</td>\n",
       "      <td>0.01</td>\n",
       "      <td>0.71</td>\n",
       "      <td>94.0</td>\n",
       "      <td>8.5</td>\n",
       "      <td>E</td>\n",
       "      <td>2004.0</td>\n",
       "    </tr>\n",
       "    <tr>\n",
       "      <td>377</td>\n",
       "      <td>FIFA Soccer 2004</td>\n",
       "      <td>PS2</td>\n",
       "      <td>2004.0</td>\n",
       "      <td>Sports</td>\n",
       "      <td>0.59</td>\n",
       "      <td>2.36</td>\n",
       "      <td>0.04</td>\n",
       "      <td>0.51</td>\n",
       "      <td>84.0</td>\n",
       "      <td>6.4</td>\n",
       "      <td>E</td>\n",
       "      <td>2004.0</td>\n",
       "    </tr>\n",
       "    <tr>\n",
       "      <td>452</td>\n",
       "      <td>Madden NFL 2002</td>\n",
       "      <td>PS2</td>\n",
       "      <td>2001.0</td>\n",
       "      <td>Sports</td>\n",
       "      <td>2.50</td>\n",
       "      <td>0.16</td>\n",
       "      <td>0.01</td>\n",
       "      <td>0.42</td>\n",
       "      <td>94.0</td>\n",
       "      <td>7.9</td>\n",
       "      <td>E</td>\n",
       "      <td>2002.0</td>\n",
       "    </tr>\n",
       "    <tr>\n",
       "      <td>475</td>\n",
       "      <td>wwe Smackdown vs. Raw 2006</td>\n",
       "      <td>PS2</td>\n",
       "      <td>2006.0</td>\n",
       "      <td>Fighting</td>\n",
       "      <td>1.57</td>\n",
       "      <td>1.02</td>\n",
       "      <td>0.00</td>\n",
       "      <td>0.41</td>\n",
       "      <td>NaN</td>\n",
       "      <td>NaN</td>\n",
       "      <td>NaN</td>\n",
       "      <td>2006.0</td>\n",
       "    </tr>\n",
       "    <tr>\n",
       "      <td>617</td>\n",
       "      <td>PES 2009: Pro Evolution Soccer</td>\n",
       "      <td>PS2</td>\n",
       "      <td>2008.0</td>\n",
       "      <td>Sports</td>\n",
       "      <td>0.13</td>\n",
       "      <td>0.07</td>\n",
       "      <td>0.26</td>\n",
       "      <td>2.05</td>\n",
       "      <td>NaN</td>\n",
       "      <td>NaN</td>\n",
       "      <td>NaN</td>\n",
       "      <td>2009.0</td>\n",
       "    </tr>\n",
       "  </tbody>\n",
       "</table>\n",
       "</div>"
      ],
      "text/plain": [
       "                               name platform  year_of_release     genre  \\\n",
       "183                 Madden NFL 2004      PS2           2004.0    Sports   \n",
       "377                FIFA Soccer 2004      PS2           2004.0    Sports   \n",
       "452                 Madden NFL 2002      PS2           2001.0    Sports   \n",
       "475      wwe Smackdown vs. Raw 2006      PS2           2006.0  Fighting   \n",
       "617  PES 2009: Pro Evolution Soccer      PS2           2008.0    Sports   \n",
       "\n",
       "     na_sales  eu_sales  jp_sales  other_sales  critic_score user_score  \\\n",
       "183      4.26      0.26      0.01         0.71          94.0        8.5   \n",
       "377      0.59      2.36      0.04         0.51          84.0        6.4   \n",
       "452      2.50      0.16      0.01         0.42          94.0        7.9   \n",
       "475      1.57      1.02      0.00         0.41           NaN        NaN   \n",
       "617      0.13      0.07      0.26         2.05           NaN        NaN   \n",
       "\n",
       "    rating  missing_year  \n",
       "183      E        2004.0  \n",
       "377      E        2004.0  \n",
       "452      E        2002.0  \n",
       "475    NaN        2006.0  \n",
       "617    NaN        2009.0  "
      ]
     },
     "execution_count": 17,
     "metadata": {},
     "output_type": "execute_result"
    }
   ],
   "source": [
    "#creating helper column for importing numbers from game names\n",
    "data['missing_year'] = data['name']\n",
    "#importing numbers from game names\n",
    "data['missing_year'] = data.missing_year.str.extract('(\\d+)').astype(float)\n",
    "#filling missing values\n",
    "data['year_of_release'] = data['year_of_release'].mask(((data['missing_year'] >= 1980) & \n",
    "                                                        (data['missing_year'] <= 2016)), \n",
    "                                                       data['year_of_release'].fillna(data['missing_year']))\n",
    "#checking result\n",
    "data.query('missing_year >= 1980 & name in @names_missing_year').head()"
   ]
  },
  {
   "cell_type": "markdown",
   "metadata": {},
   "source": [
    "For some games I filled missing values in column 'year_of_release' with year from the game name.  \n",
    "I don't see any suitable replacement for other values, I will leave them blank."
   ]
  },
  {
   "cell_type": "code",
   "execution_count": 18,
   "metadata": {},
   "outputs": [
    {
     "data": {
      "text/html": [
       "<div>\n",
       "<style scoped>\n",
       "    .dataframe tbody tr th:only-of-type {\n",
       "        vertical-align: middle;\n",
       "    }\n",
       "\n",
       "    .dataframe tbody tr th {\n",
       "        vertical-align: top;\n",
       "    }\n",
       "\n",
       "    .dataframe thead th {\n",
       "        text-align: right;\n",
       "    }\n",
       "</style>\n",
       "<table border=\"1\" class=\"dataframe\">\n",
       "  <thead>\n",
       "    <tr style=\"text-align: right;\">\n",
       "      <th></th>\n",
       "      <th>name</th>\n",
       "      <th>platform</th>\n",
       "      <th>year_of_release</th>\n",
       "      <th>genre</th>\n",
       "      <th>na_sales</th>\n",
       "      <th>eu_sales</th>\n",
       "      <th>jp_sales</th>\n",
       "      <th>other_sales</th>\n",
       "      <th>critic_score</th>\n",
       "      <th>user_score</th>\n",
       "      <th>rating</th>\n",
       "    </tr>\n",
       "  </thead>\n",
       "  <tbody>\n",
       "    <tr>\n",
       "      <td>16056</td>\n",
       "      <td>Drone Tactics</td>\n",
       "      <td>DS</td>\n",
       "      <td>2007.0</td>\n",
       "      <td>Strategy</td>\n",
       "      <td>0.01</td>\n",
       "      <td>0.0</td>\n",
       "      <td>0.0</td>\n",
       "      <td>0.0</td>\n",
       "      <td>74.0</td>\n",
       "      <td>7.4</td>\n",
       "      <td>E10+</td>\n",
       "    </tr>\n",
       "  </tbody>\n",
       "</table>\n",
       "</div>"
      ],
      "text/plain": [
       "                name platform  year_of_release     genre  na_sales  eu_sales  \\\n",
       "16056  Drone Tactics       DS           2007.0  Strategy      0.01       0.0   \n",
       "\n",
       "       jp_sales  other_sales  critic_score user_score rating  \n",
       "16056       0.0          0.0          74.0        7.4   E10+  "
      ]
     },
     "execution_count": 18,
     "metadata": {},
     "output_type": "execute_result"
    }
   ],
   "source": [
    "#deleting helper column\n",
    "data = data.drop(columns=['missing_year'])\n",
    "#checking result\n",
    "data.sample()"
   ]
  },
  {
   "cell_type": "markdown",
   "metadata": {},
   "source": [
    "I deleted helper column that I created for filling missing values."
   ]
  },
  {
   "cell_type": "code",
   "execution_count": 19,
   "metadata": {},
   "outputs": [
    {
     "data": {
      "text/html": [
       "<style  type=\"text/css\" >\n",
       "</style><table id=\"T_fcbc04fa_d5d0_11ea_89f9_02420a39725d\" ><thead>    <tr>        <th class=\"col_heading level0 col0\" >column</th>        <th class=\"col_heading level0 col1\" >amount_missing</th>        <th class=\"col_heading level0 col2\" >missing %</th>    </tr></thead><tbody>\n",
       "                <tr>\n",
       "                                <td id=\"T_fcbc04fa_d5d0_11ea_89f9_02420a39725drow0_col0\" class=\"data row0 col0\" >Critic_Score</td>\n",
       "                        <td id=\"T_fcbc04fa_d5d0_11ea_89f9_02420a39725drow0_col1\" class=\"data row0 col1\" >8578</td>\n",
       "                        <td id=\"T_fcbc04fa_d5d0_11ea_89f9_02420a39725drow0_col2\" class=\"data row0 col2\" >51.32%</td>\n",
       "            </tr>\n",
       "            <tr>\n",
       "                                <td id=\"T_fcbc04fa_d5d0_11ea_89f9_02420a39725drow1_col0\" class=\"data row1 col0\" >User_Score</td>\n",
       "                        <td id=\"T_fcbc04fa_d5d0_11ea_89f9_02420a39725drow1_col1\" class=\"data row1 col1\" >6701</td>\n",
       "                        <td id=\"T_fcbc04fa_d5d0_11ea_89f9_02420a39725drow1_col2\" class=\"data row1 col2\" >40.09%</td>\n",
       "            </tr>\n",
       "            <tr>\n",
       "                                <td id=\"T_fcbc04fa_d5d0_11ea_89f9_02420a39725drow2_col0\" class=\"data row2 col0\" >Rating</td>\n",
       "                        <td id=\"T_fcbc04fa_d5d0_11ea_89f9_02420a39725drow2_col1\" class=\"data row2 col1\" >6766</td>\n",
       "                        <td id=\"T_fcbc04fa_d5d0_11ea_89f9_02420a39725drow2_col2\" class=\"data row2 col2\" >40.48%</td>\n",
       "            </tr>\n",
       "    </tbody></table>"
      ],
      "text/plain": [
       "<pandas.io.formats.style.Styler at 0x7fc25c4f5a10>"
      ]
     },
     "execution_count": 19,
     "metadata": {},
     "output_type": "execute_result"
    }
   ],
   "source": [
    "missing_list.loc[8:].style.format({'missing %': \"{:.2%}\"}).hide_index()"
   ]
  },
  {
   "cell_type": "markdown",
   "metadata": {},
   "source": [
    "In columns 'critic_score','user_score' and 'rating' there are more than 40% missing values.  \n",
    "Possible causes for this can be:\n",
    "- corrupted data, probably some data was lost;\n",
    "- default value in database, probably these games weren't rated.  \n",
    "\n",
    "We can't replace missing values here with mean or median, because rating can be totally different.   \n",
    "I don't see any suitable replacement for other values, I will leave them blank and perfome the analysis on the rest of 50-60% of data."
   ]
  },
  {
   "cell_type": "markdown",
   "metadata": {},
   "source": [
    "**In this step:**\n",
    "- for columns: 'name' and 'genre': missing values were deleted;\n",
    "- for column 'year_of_release': part of missing values were filled, others were left blank;\n",
    "- for columns 'critic_score','user_score' and 'rating': missing values were left blank."
   ]
  },
  {
   "cell_type": "markdown",
   "metadata": {},
   "source": [
    "[Back to the Table of Contents](#contents)"
   ]
  },
  {
   "cell_type": "markdown",
   "metadata": {},
   "source": [
    "#### 2.2 Data type replacment <a class=\"anchor\" id=\"chapter5\"></a>"
   ]
  },
  {
   "cell_type": "code",
   "execution_count": 20,
   "metadata": {},
   "outputs": [],
   "source": [
    "#changing data type\n",
    "data['critic_score'] = data['critic_score'].astype(float)"
   ]
  },
  {
   "cell_type": "markdown",
   "metadata": {},
   "source": [
    "I changed data type in column 'critic_score' with numeric values from object(text) to float(decimal numbers) for future calculations."
   ]
  },
  {
   "cell_type": "code",
   "execution_count": 21,
   "metadata": {},
   "outputs": [
    {
     "name": "stdout",
     "output_type": "stream",
     "text": [
      "Number of \"tbd\" values: 2424\n"
     ]
    },
    {
     "data": {
      "text/html": [
       "<div>\n",
       "<style scoped>\n",
       "    .dataframe tbody tr th:only-of-type {\n",
       "        vertical-align: middle;\n",
       "    }\n",
       "\n",
       "    .dataframe tbody tr th {\n",
       "        vertical-align: top;\n",
       "    }\n",
       "\n",
       "    .dataframe thead th {\n",
       "        text-align: right;\n",
       "    }\n",
       "</style>\n",
       "<table border=\"1\" class=\"dataframe\">\n",
       "  <thead>\n",
       "    <tr style=\"text-align: right;\">\n",
       "      <th></th>\n",
       "      <th>name</th>\n",
       "      <th>platform</th>\n",
       "      <th>year_of_release</th>\n",
       "      <th>genre</th>\n",
       "      <th>na_sales</th>\n",
       "      <th>eu_sales</th>\n",
       "      <th>jp_sales</th>\n",
       "      <th>other_sales</th>\n",
       "      <th>critic_score</th>\n",
       "      <th>user_score</th>\n",
       "      <th>rating</th>\n",
       "    </tr>\n",
       "  </thead>\n",
       "  <tbody>\n",
       "    <tr>\n",
       "      <td>12932</td>\n",
       "      <td>Goosebumps: The Game</td>\n",
       "      <td>3DS</td>\n",
       "      <td>2015.0</td>\n",
       "      <td>Adventure</td>\n",
       "      <td>0.05</td>\n",
       "      <td>0.0</td>\n",
       "      <td>0.0</td>\n",
       "      <td>0.01</td>\n",
       "      <td>NaN</td>\n",
       "      <td>tbd</td>\n",
       "      <td>E10+</td>\n",
       "    </tr>\n",
       "    <tr>\n",
       "      <td>11955</td>\n",
       "      <td>Jimmie Johnson's Anything With an Engine</td>\n",
       "      <td>Wii</td>\n",
       "      <td>2011.0</td>\n",
       "      <td>Racing</td>\n",
       "      <td>0.07</td>\n",
       "      <td>0.0</td>\n",
       "      <td>0.0</td>\n",
       "      <td>0.00</td>\n",
       "      <td>NaN</td>\n",
       "      <td>tbd</td>\n",
       "      <td>E10+</td>\n",
       "    </tr>\n",
       "    <tr>\n",
       "      <td>9838</td>\n",
       "      <td>Dodge Racing: Charger vs Challenger</td>\n",
       "      <td>Wii</td>\n",
       "      <td>2009.0</td>\n",
       "      <td>Racing</td>\n",
       "      <td>0.11</td>\n",
       "      <td>0.0</td>\n",
       "      <td>0.0</td>\n",
       "      <td>0.01</td>\n",
       "      <td>NaN</td>\n",
       "      <td>tbd</td>\n",
       "      <td>E</td>\n",
       "    </tr>\n",
       "  </tbody>\n",
       "</table>\n",
       "</div>"
      ],
      "text/plain": [
       "                                           name platform  year_of_release  \\\n",
       "12932                      Goosebumps: The Game      3DS           2015.0   \n",
       "11955  Jimmie Johnson's Anything With an Engine      Wii           2011.0   \n",
       "9838        Dodge Racing: Charger vs Challenger      Wii           2009.0   \n",
       "\n",
       "           genre  na_sales  eu_sales  jp_sales  other_sales  critic_score  \\\n",
       "12932  Adventure      0.05       0.0       0.0         0.01           NaN   \n",
       "11955     Racing      0.07       0.0       0.0         0.00           NaN   \n",
       "9838      Racing      0.11       0.0       0.0         0.01           NaN   \n",
       "\n",
       "      user_score rating  \n",
       "12932        tbd   E10+  \n",
       "11955        tbd   E10+  \n",
       "9838         tbd      E  "
      ]
     },
     "execution_count": 21,
     "metadata": {},
     "output_type": "execute_result"
    }
   ],
   "source": [
    "print('Number of \"tbd\" values:', data[data['user_score'] == 'tbd']['user_score'].count())\n",
    "data[data['user_score'] == 'tbd'].sample(3)"
   ]
  },
  {
   "cell_type": "markdown",
   "metadata": {},
   "source": [
    "I found that in column 'user_score' some values with text \"tbd\"(to be determined) this means that at the moment when data was received the score was not determined.\n",
    "\"tbd\" values are not a numbers, we don't need them for analysis.  \n",
    "As in case with missing values I don't see any suitable replacement for them.  \n",
    "Therefore I will left them in it's original form."
   ]
  },
  {
   "cell_type": "code",
   "execution_count": 22,
   "metadata": {},
   "outputs": [],
   "source": [
    "#changing data type\n",
    "data['user_score'] = pd.to_numeric(data['user_score'], errors='coerce')"
   ]
  },
  {
   "cell_type": "markdown",
   "metadata": {},
   "source": [
    "I changed data type for column 'user_score', \"tbd\" values were replaced with \"nan\" automatically."
   ]
  },
  {
   "cell_type": "code",
   "execution_count": 23,
   "metadata": {},
   "outputs": [
    {
     "name": "stdout",
     "output_type": "stream",
     "text": [
      "<class 'pandas.core.frame.DataFrame'>\n",
      "Int64Index: 16713 entries, 0 to 16714\n",
      "Data columns (total 11 columns):\n",
      "name               16713 non-null object\n",
      "platform           16713 non-null object\n",
      "year_of_release    16461 non-null float64\n",
      "genre              16713 non-null object\n",
      "na_sales           16713 non-null float64\n",
      "eu_sales           16713 non-null float64\n",
      "jp_sales           16713 non-null float64\n",
      "other_sales        16713 non-null float64\n",
      "critic_score       8137 non-null float64\n",
      "user_score         7590 non-null float64\n",
      "rating             9949 non-null object\n",
      "dtypes: float64(7), object(4)\n",
      "memory usage: 1.5+ MB\n"
     ]
    }
   ],
   "source": [
    "#checking result\n",
    "data.info()"
   ]
  },
  {
   "cell_type": "code",
   "execution_count": 24,
   "metadata": {},
   "outputs": [
    {
     "name": "stdout",
     "output_type": "stream",
     "text": [
      "name                   0\n",
      "platform               0\n",
      "year_of_release        0\n",
      "genre                  0\n",
      "na_sales            4507\n",
      "eu_sales            5869\n",
      "jp_sales           10513\n",
      "other_sales         6600\n",
      "critic_score           0\n",
      "user_score             1\n",
      "rating                 0\n",
      "dtype: int64\n"
     ]
    },
    {
     "data": {
      "text/html": [
       "<div>\n",
       "<style scoped>\n",
       "    .dataframe tbody tr th:only-of-type {\n",
       "        vertical-align: middle;\n",
       "    }\n",
       "\n",
       "    .dataframe tbody tr th {\n",
       "        vertical-align: top;\n",
       "    }\n",
       "\n",
       "    .dataframe thead th {\n",
       "        text-align: right;\n",
       "    }\n",
       "</style>\n",
       "<table border=\"1\" class=\"dataframe\">\n",
       "  <thead>\n",
       "    <tr style=\"text-align: right;\">\n",
       "      <th></th>\n",
       "      <th>name</th>\n",
       "      <th>platform</th>\n",
       "      <th>year_of_release</th>\n",
       "      <th>genre</th>\n",
       "      <th>na_sales</th>\n",
       "      <th>eu_sales</th>\n",
       "      <th>jp_sales</th>\n",
       "      <th>other_sales</th>\n",
       "      <th>critic_score</th>\n",
       "      <th>user_score</th>\n",
       "      <th>rating</th>\n",
       "    </tr>\n",
       "  </thead>\n",
       "  <tbody>\n",
       "    <tr>\n",
       "      <td>2835</td>\n",
       "      <td>My Little Pony: Pinkie Pie's Party</td>\n",
       "      <td>DS</td>\n",
       "      <td>2008.0</td>\n",
       "      <td>Adventure</td>\n",
       "      <td>0.66</td>\n",
       "      <td>0.0</td>\n",
       "      <td>0.0</td>\n",
       "      <td>0.06</td>\n",
       "      <td>NaN</td>\n",
       "      <td>0.0</td>\n",
       "      <td>E</td>\n",
       "    </tr>\n",
       "  </tbody>\n",
       "</table>\n",
       "</div>"
      ],
      "text/plain": [
       "                                    name platform  year_of_release      genre  \\\n",
       "2835  My Little Pony: Pinkie Pie's Party       DS           2008.0  Adventure   \n",
       "\n",
       "      na_sales  eu_sales  jp_sales  other_sales  critic_score  user_score  \\\n",
       "2835      0.66       0.0       0.0         0.06           NaN         0.0   \n",
       "\n",
       "     rating  \n",
       "2835      E  "
      ]
     },
     "execution_count": 24,
     "metadata": {},
     "output_type": "execute_result"
    }
   ],
   "source": [
    "#checking for zero values\n",
    "print(data[data == 0].count())\n",
    "data[data['user_score'] == 0]"
   ]
  },
  {
   "cell_type": "markdown",
   "metadata": {},
   "source": [
    "I found one game with zero value in column 'user_score'."
   ]
  },
  {
   "cell_type": "code",
   "execution_count": 25,
   "metadata": {},
   "outputs": [
    {
     "name": "stdout",
     "output_type": "stream",
     "text": [
      "Number of these games in data: 1\n"
     ]
    }
   ],
   "source": [
    "#checking if this game was released on the other platforms\n",
    "print('Number of these games in data:', data[data['name'] == \"My Little Pony: Pinkie Pie's Party\"]['name'].count())\n"
   ]
  },
  {
   "cell_type": "markdown",
   "metadata": {},
   "source": [
    "This game wasn't released on the other platforms.  \n",
    "I don't see any suitable replasment for this zero value, also I don't want to delete this row, because it can lead to lose important information from the other columns.  \n",
    "Therefore I will replase zero value with \"NaN\"."
   ]
  },
  {
   "cell_type": "code",
   "execution_count": 26,
   "metadata": {},
   "outputs": [
    {
     "name": "stdout",
     "output_type": "stream",
     "text": [
      "<class 'pandas.core.frame.DataFrame'>\n",
      "Int64Index: 16713 entries, 0 to 16714\n",
      "Data columns (total 11 columns):\n",
      "name               16712 non-null object\n",
      "platform           16712 non-null object\n",
      "year_of_release    16460 non-null float64\n",
      "genre              16712 non-null object\n",
      "na_sales           16712 non-null float64\n",
      "eu_sales           16712 non-null float64\n",
      "jp_sales           16712 non-null float64\n",
      "other_sales        16712 non-null float64\n",
      "critic_score       8137 non-null float64\n",
      "user_score         7589 non-null float64\n",
      "rating             9948 non-null object\n",
      "dtypes: float64(7), object(4)\n",
      "memory usage: 1.5+ MB\n"
     ]
    }
   ],
   "source": [
    "#replacing value\n",
    "data[data['user_score'] == 0] = np.nan\n",
    "#checking result\n",
    "data.info()"
   ]
  },
  {
   "cell_type": "markdown",
   "metadata": {},
   "source": [
    "**In this step:**\n",
    "- for columns: 'critic_score' and 'user_score': data type was changed to float(decimal numbers);\n",
    "- for column 'user_score': all text values and zero value were replaced with \"NaN\"."
   ]
  },
  {
   "cell_type": "markdown",
   "metadata": {},
   "source": [
    "[Back to the Table of Contents](#contents)"
   ]
  },
  {
   "cell_type": "markdown",
   "metadata": {},
   "source": [
    "#### 2.3 Making calculations <a class=\"anchor\" id=\"chapter6\"></a>"
   ]
  },
  {
   "cell_type": "code",
   "execution_count": 27,
   "metadata": {},
   "outputs": [
    {
     "data": {
      "text/html": [
       "<div>\n",
       "<style scoped>\n",
       "    .dataframe tbody tr th:only-of-type {\n",
       "        vertical-align: middle;\n",
       "    }\n",
       "\n",
       "    .dataframe tbody tr th {\n",
       "        vertical-align: top;\n",
       "    }\n",
       "\n",
       "    .dataframe thead th {\n",
       "        text-align: right;\n",
       "    }\n",
       "</style>\n",
       "<table border=\"1\" class=\"dataframe\">\n",
       "  <thead>\n",
       "    <tr style=\"text-align: right;\">\n",
       "      <th></th>\n",
       "      <th>name</th>\n",
       "      <th>na_sales</th>\n",
       "      <th>eu_sales</th>\n",
       "      <th>jp_sales</th>\n",
       "      <th>other_sales</th>\n",
       "      <th>total_sales</th>\n",
       "    </tr>\n",
       "  </thead>\n",
       "  <tbody>\n",
       "    <tr>\n",
       "      <td>913</td>\n",
       "      <td>Monopoly</td>\n",
       "      <td>0.86</td>\n",
       "      <td>0.83</td>\n",
       "      <td>0.0</td>\n",
       "      <td>0.20</td>\n",
       "      <td>1.89</td>\n",
       "    </tr>\n",
       "    <tr>\n",
       "      <td>4377</td>\n",
       "      <td>Rock Band Country Track Pack</td>\n",
       "      <td>0.41</td>\n",
       "      <td>0.00</td>\n",
       "      <td>0.0</td>\n",
       "      <td>0.03</td>\n",
       "      <td>0.44</td>\n",
       "    </tr>\n",
       "    <tr>\n",
       "      <td>8131</td>\n",
       "      <td>Pro Evolution Soccer 2013</td>\n",
       "      <td>0.05</td>\n",
       "      <td>0.02</td>\n",
       "      <td>0.1</td>\n",
       "      <td>0.01</td>\n",
       "      <td>0.18</td>\n",
       "    </tr>\n",
       "  </tbody>\n",
       "</table>\n",
       "</div>"
      ],
      "text/plain": [
       "                              name  na_sales  eu_sales  jp_sales  other_sales  \\\n",
       "913                       Monopoly      0.86      0.83       0.0         0.20   \n",
       "4377  Rock Band Country Track Pack      0.41      0.00       0.0         0.03   \n",
       "8131     Pro Evolution Soccer 2013      0.05      0.02       0.1         0.01   \n",
       "\n",
       "      total_sales  \n",
       "913          1.89  \n",
       "4377         0.44  \n",
       "8131         0.18  "
      ]
     },
     "execution_count": 27,
     "metadata": {},
     "output_type": "execute_result"
    }
   ],
   "source": [
    "#making calculation\n",
    "data['total_sales'] = data['na_sales'] + data['eu_sales'] + data['jp_sales'] + data['other_sales']\n",
    "data[['name', 'na_sales', 'eu_sales', 'jp_sales', 'other_sales', 'total_sales']].sample(3)"
   ]
  },
  {
   "cell_type": "markdown",
   "metadata": {},
   "source": [
    "I created column 'total_sales' with the sum of sales in all regions."
   ]
  },
  {
   "cell_type": "code",
   "execution_count": 28,
   "metadata": {},
   "outputs": [
    {
     "data": {
      "text/html": [
       "<div>\n",
       "<style scoped>\n",
       "    .dataframe tbody tr th:only-of-type {\n",
       "        vertical-align: middle;\n",
       "    }\n",
       "\n",
       "    .dataframe tbody tr th {\n",
       "        vertical-align: top;\n",
       "    }\n",
       "\n",
       "    .dataframe thead th {\n",
       "        text-align: right;\n",
       "    }\n",
       "</style>\n",
       "<table border=\"1\" class=\"dataframe\">\n",
       "  <thead>\n",
       "    <tr style=\"text-align: right;\">\n",
       "      <th></th>\n",
       "      <th>name</th>\n",
       "      <th>platform</th>\n",
       "      <th>year_of_release</th>\n",
       "      <th>genre</th>\n",
       "      <th>na_sales</th>\n",
       "      <th>eu_sales</th>\n",
       "      <th>jp_sales</th>\n",
       "      <th>other_sales</th>\n",
       "      <th>critic_score</th>\n",
       "      <th>user_score</th>\n",
       "      <th>rating</th>\n",
       "      <th>total_sales</th>\n",
       "    </tr>\n",
       "  </thead>\n",
       "  <tbody>\n",
       "    <tr>\n",
       "      <td>16676</td>\n",
       "      <td>G1 Jockey 4 2008</td>\n",
       "      <td>PS3</td>\n",
       "      <td>2008.0</td>\n",
       "      <td>Sports</td>\n",
       "      <td>0.0</td>\n",
       "      <td>0.0</td>\n",
       "      <td>0.0</td>\n",
       "      <td>0.0</td>\n",
       "      <td>NaN</td>\n",
       "      <td>NaN</td>\n",
       "      <td>NaN</td>\n",
       "      <td>0.0</td>\n",
       "    </tr>\n",
       "    <tr>\n",
       "      <td>16709</td>\n",
       "      <td>SCORE International Baja 1000: The Official Game</td>\n",
       "      <td>PS2</td>\n",
       "      <td>2008.0</td>\n",
       "      <td>Racing</td>\n",
       "      <td>0.0</td>\n",
       "      <td>0.0</td>\n",
       "      <td>0.0</td>\n",
       "      <td>0.0</td>\n",
       "      <td>NaN</td>\n",
       "      <td>NaN</td>\n",
       "      <td>NaN</td>\n",
       "      <td>0.0</td>\n",
       "    </tr>\n",
       "  </tbody>\n",
       "</table>\n",
       "</div>"
      ],
      "text/plain": [
       "                                                   name platform  \\\n",
       "16676                                  G1 Jockey 4 2008      PS3   \n",
       "16709  SCORE International Baja 1000: The Official Game      PS2   \n",
       "\n",
       "       year_of_release   genre  na_sales  eu_sales  jp_sales  other_sales  \\\n",
       "16676           2008.0  Sports       0.0       0.0       0.0          0.0   \n",
       "16709           2008.0  Racing       0.0       0.0       0.0          0.0   \n",
       "\n",
       "       critic_score  user_score rating  total_sales  \n",
       "16676           NaN         NaN    NaN          0.0  \n",
       "16709           NaN         NaN    NaN          0.0  "
      ]
     },
     "execution_count": 28,
     "metadata": {},
     "output_type": "execute_result"
    }
   ],
   "source": [
    "#checking zero sales\n",
    "data[data['total_sales'] == 0]"
   ]
  },
  {
   "cell_type": "markdown",
   "metadata": {},
   "source": [
    "I found that 2 games have zero values in 'total_sales' column.  \n",
    "Also there are no ratings here.  \n",
    "I don't see any suitable replacement for these values, I will delete these rows, it will not affect results."
   ]
  },
  {
   "cell_type": "code",
   "execution_count": 29,
   "metadata": {},
   "outputs": [
    {
     "name": "stdout",
     "output_type": "stream",
     "text": [
      "Data size after deleting: 16711\n"
     ]
    }
   ],
   "source": [
    "#deleting rows\n",
    "data = data.drop(data[data['total_sales'] == 0].index)\n",
    "#checking result\n",
    "print('Data size after deleting:', len(data))"
   ]
  },
  {
   "cell_type": "markdown",
   "metadata": {},
   "source": [
    "Rows with zero sales were deleted."
   ]
  },
  {
   "cell_type": "markdown",
   "metadata": {},
   "source": [
    "**In this step:**\n",
    "- column 'total_sales' with the sum of sales in all regions was created;\n",
    "- zero values in column 'total_sales' were deleted."
   ]
  },
  {
   "cell_type": "markdown",
   "metadata": {},
   "source": [
    "[Back to the Table of Contents](#contents)"
   ]
  },
  {
   "cell_type": "markdown",
   "metadata": {},
   "source": [
    "### Conclusion <a class=\"anchor\" id=\"chapter7\"></a>"
   ]
  },
  {
   "cell_type": "markdown",
   "metadata": {},
   "source": [
    "**In this step:**\n",
    "- column names were replaced with lowercase letters;\n",
    "- missing values were defined and filled/left blank or deleted;\n",
    "- zero values were replaced/deleted;\n",
    "- data type were converted;\n",
    "- total sales for each game for all regions were calculated."
   ]
  },
  {
   "cell_type": "markdown",
   "metadata": {},
   "source": [
    "[Back to the Table of Contents](#contents)"
   ]
  },
  {
   "cell_type": "markdown",
   "metadata": {},
   "source": [
    "### 3. Data analysis <a class=\"anchor\" id=\"chapter8\"></a>"
   ]
  },
  {
   "cell_type": "code",
   "execution_count": 30,
   "metadata": {},
   "outputs": [
    {
     "name": "stdout",
     "output_type": "stream",
     "text": [
      "Number of games: 11557\n",
      "First year of release: 1980\n",
      "Last year of release: 2016\n"
     ]
    },
    {
     "data": {
      "image/png": "[encoded data removed]",
      "text/plain": [
       "<Figure size 432x288 with 1 Axes>"
      ]
     },
     "metadata": {
      "needs_background": "light"
     },
     "output_type": "display_data"
    }
   ],
   "source": [
    "print('Number of games:', len(data.groupby('name')))\n",
    "print('First year of release: {:.0f}'.format(data['year_of_release'].min()))\n",
    "print('Last year of release: {:.0f}'.format(data['year_of_release'].max()))\n",
    "#calculating released games per year\n",
    "data.pivot_table(index='year_of_release', values = 'name', aggfunc=['count']).plot(legend=False)\n",
    "plt.xlabel('Year of release')\n",
    "plt.ylabel('Amount of games')\n",
    "plt.title('Amount of games released pre year')\n",
    "plt.show()"
   ]
  },
  {
   "cell_type": "markdown",
   "metadata": {},
   "source": [
    "11557 games were released during considered period.  \n",
    "As we can see on the graph since 1994 year the number of released games started to grow rapidly. During 2006-2011 most games were released, in 2008-2009 years amount of games are highest, then it were going down. In 2016 year number of released games slightly more than in 2001."
   ]
  },
  {
   "cell_type": "code",
   "execution_count": 31,
   "metadata": {},
   "outputs": [
    {
     "name": "stdout",
     "output_type": "stream",
     "text": [
      "Number of platforms: 31\n"
     ]
    }
   ],
   "source": [
    "print('Number of platforms:', len(data.groupby('platform')))"
   ]
  },
  {
   "cell_type": "markdown",
   "metadata": {},
   "source": [
    "During 1980-2016 year games were available on 31 platform."
   ]
  },
  {
   "cell_type": "code",
   "execution_count": 32,
   "metadata": {},
   "outputs": [
    {
     "data": {
      "text/html": [
       "<div>\n",
       "<style scoped>\n",
       "    .dataframe tbody tr th:only-of-type {\n",
       "        vertical-align: middle;\n",
       "    }\n",
       "\n",
       "    .dataframe tbody tr th {\n",
       "        vertical-align: top;\n",
       "    }\n",
       "\n",
       "    .dataframe thead th {\n",
       "        text-align: right;\n",
       "    }\n",
       "</style>\n",
       "<table border=\"1\" class=\"dataframe\">\n",
       "  <thead>\n",
       "    <tr style=\"text-align: right;\">\n",
       "      <th></th>\n",
       "      <th>platform</th>\n",
       "      <th>total_sales</th>\n",
       "    </tr>\n",
       "  </thead>\n",
       "  <tbody>\n",
       "    <tr>\n",
       "      <td>0</td>\n",
       "      <td>PS2</td>\n",
       "      <td>1255.77</td>\n",
       "    </tr>\n",
       "    <tr>\n",
       "      <td>1</td>\n",
       "      <td>X360</td>\n",
       "      <td>971.42</td>\n",
       "    </tr>\n",
       "    <tr>\n",
       "      <td>2</td>\n",
       "      <td>PS3</td>\n",
       "      <td>939.65</td>\n",
       "    </tr>\n",
       "    <tr>\n",
       "      <td>3</td>\n",
       "      <td>Wii</td>\n",
       "      <td>907.51</td>\n",
       "    </tr>\n",
       "    <tr>\n",
       "      <td>4</td>\n",
       "      <td>DS</td>\n",
       "      <td>805.40</td>\n",
       "    </tr>\n",
       "  </tbody>\n",
       "</table>\n",
       "</div>"
      ],
      "text/plain": [
       "  platform  total_sales\n",
       "0      PS2      1255.77\n",
       "1     X360       971.42\n",
       "2      PS3       939.65\n",
       "3      Wii       907.51\n",
       "4       DS       805.40"
      ]
     },
     "execution_count": 32,
     "metadata": {},
     "output_type": "execute_result"
    }
   ],
   "source": [
    "data_top = data.groupby('platform').sum().sort_values('total_sales', ascending=False).head(5).reset_index()\n",
    "data_top[['platform', 'total_sales']]"
   ]
  },
  {
   "cell_type": "markdown",
   "metadata": {},
   "source": [
    "I found 5 platforms that have the highest total sales for the entire period.  \n",
    "let's take a look on distribution based on total sales for each year for these platforms."
   ]
  },
  {
   "cell_type": "code",
   "execution_count": 33,
   "metadata": {},
   "outputs": [
    {
     "data": {
      "image/png": "[encoded data removed]",
      "text/plain": [
       "<Figure size 432x288 with 1 Axes>"
      ]
     },
     "metadata": {
      "needs_background": "light"
     },
     "output_type": "display_data"
    },
    {
     "data": {
      "image/png": "[encoded data removed]",
      "text/plain": [
       "<Figure size 432x288 with 1 Axes>"
      ]
     },
     "metadata": {
      "needs_background": "light"
     },
     "output_type": "display_data"
    },
    {
     "data": {
      "image/png": "[encoded data removed]",
      "text/plain": [
       "<Figure size 432x288 with 1 Axes>"
      ]
     },
     "metadata": {
      "needs_background": "light"
     },
     "output_type": "display_data"
    },
    {
     "data": {
      "image/png": "[encoded data removed]",
      "text/plain": [
       "<Figure size 432x288 with 1 Axes>"
      ]
     },
     "metadata": {
      "needs_background": "light"
     },
     "output_type": "display_data"
    },
    {
     "data": {
      "image/png": "[encoded data removed]",
      "text/plain": [
       "<Figure size 432x288 with 1 Axes>"
      ]
     },
     "metadata": {
      "needs_background": "light"
     },
     "output_type": "display_data"
    }
   ],
   "source": [
    "#building a distribution\n",
    "data.query('platform == \"PS2\"').pivot_table(index='year_of_release', values='total_sales', aggfunc='sum').plot(kind='bar')\n",
    "plt.title('PS2')\n",
    "plt.show()\n",
    "data.query('platform == \"X360\"').pivot_table(index='year_of_release', values='total_sales', aggfunc='sum').plot(kind='bar')\n",
    "plt.title('X360')\n",
    "plt.show()\n",
    "data.query('platform == \"PS3\"').pivot_table(index='year_of_release', values='total_sales', aggfunc='sum').plot(kind='bar')\n",
    "plt.title('PS3')\n",
    "plt.show()\n",
    "data.query('platform == \"Wii\"').pivot_table(index='year_of_release', values='total_sales', aggfunc='sum').plot(kind='bar')\n",
    "plt.title('Wii')\n",
    "plt.show()\n",
    "data.query('platform == \"DS\"').pivot_table(index='year_of_release', values='total_sales', aggfunc='sum').plot(kind='bar')\n",
    "plt.title('DS')\n",
    "plt.show()"
   ]
  },
  {
   "cell_type": "markdown",
   "metadata": {},
   "source": [
    "looking on distributions for each year I found:\n",
    "- Sales for each platform, after reaching their highest peak, decline year after year until they reach zero sales.\n",
    "- Some of top platform have no longer release games and have zero total sales in 2016 year. I assume they can be considered obsolete."
   ]
  },
  {
   "cell_type": "code",
   "execution_count": 34,
   "metadata": {
    "scrolled": false
   },
   "outputs": [
    {
     "name": "stdout",
     "output_type": "stream",
     "text": [
      "Average platforms life cycle: 8 years\n"
     ]
    },
    {
     "data": {
      "text/html": [
       "<style  type=\"text/css\" >\n",
       "    #T_fea4084e_d5d0_11ea_89f9_02420a39725drow2_col2 {\n",
       "            : ;\n",
       "            background-color:  yellow;\n",
       "        }    #T_fea4084e_d5d0_11ea_89f9_02420a39725drow6_col2 {\n",
       "            background-color:  red;\n",
       "            : ;\n",
       "        }    #T_fea4084e_d5d0_11ea_89f9_02420a39725drow12_col2 {\n",
       "            background-color:  red;\n",
       "            : ;\n",
       "        }    #T_fea4084e_d5d0_11ea_89f9_02420a39725drow14_col2 {\n",
       "            background-color:  red;\n",
       "            : ;\n",
       "        }</style><table id=\"T_fea4084e_d5d0_11ea_89f9_02420a39725d\" ><thead>    <tr>        <th class=\"blank level0\" ></th>        <th class=\"col_heading level0 col0\" >first_year</th>        <th class=\"col_heading level0 col1\" >last_year</th>        <th class=\"col_heading level0 col2\" >cycle</th>    </tr>    <tr>        <th class=\"index_name level0\" >platform</th>        <th class=\"blank\" ></th>        <th class=\"blank\" ></th>        <th class=\"blank\" ></th>    </tr></thead><tbody>\n",
       "                <tr>\n",
       "                        <th id=\"T_fea4084e_d5d0_11ea_89f9_02420a39725dlevel0_row0\" class=\"row_heading level0 row0\" >2600</th>\n",
       "                        <td id=\"T_fea4084e_d5d0_11ea_89f9_02420a39725drow0_col0\" class=\"data row0 col0\" >1980</td>\n",
       "                        <td id=\"T_fea4084e_d5d0_11ea_89f9_02420a39725drow0_col1\" class=\"data row0 col1\" >1989</td>\n",
       "                        <td id=\"T_fea4084e_d5d0_11ea_89f9_02420a39725drow0_col2\" class=\"data row0 col2\" >10</td>\n",
       "            </tr>\n",
       "            <tr>\n",
       "                        <th id=\"T_fea4084e_d5d0_11ea_89f9_02420a39725dlevel0_row1\" class=\"row_heading level0 row1\" >NES</th>\n",
       "                        <td id=\"T_fea4084e_d5d0_11ea_89f9_02420a39725drow1_col0\" class=\"data row1 col0\" >1983</td>\n",
       "                        <td id=\"T_fea4084e_d5d0_11ea_89f9_02420a39725drow1_col1\" class=\"data row1 col1\" >1994</td>\n",
       "                        <td id=\"T_fea4084e_d5d0_11ea_89f9_02420a39725drow1_col2\" class=\"data row1 col2\" >12</td>\n",
       "            </tr>\n",
       "            <tr>\n",
       "                        <th id=\"T_fea4084e_d5d0_11ea_89f9_02420a39725dlevel0_row2\" class=\"row_heading level0 row2\" >DS</th>\n",
       "                        <td id=\"T_fea4084e_d5d0_11ea_89f9_02420a39725drow2_col0\" class=\"data row2 col0\" >1985</td>\n",
       "                        <td id=\"T_fea4084e_d5d0_11ea_89f9_02420a39725drow2_col1\" class=\"data row2 col1\" >2013</td>\n",
       "                        <td id=\"T_fea4084e_d5d0_11ea_89f9_02420a39725drow2_col2\" class=\"data row2 col2\" >29</td>\n",
       "            </tr>\n",
       "            <tr>\n",
       "                        <th id=\"T_fea4084e_d5d0_11ea_89f9_02420a39725dlevel0_row3\" class=\"row_heading level0 row3\" >GB</th>\n",
       "                        <td id=\"T_fea4084e_d5d0_11ea_89f9_02420a39725drow3_col0\" class=\"data row3 col0\" >1988</td>\n",
       "                        <td id=\"T_fea4084e_d5d0_11ea_89f9_02420a39725drow3_col1\" class=\"data row3 col1\" >2001</td>\n",
       "                        <td id=\"T_fea4084e_d5d0_11ea_89f9_02420a39725drow3_col2\" class=\"data row3 col2\" >14</td>\n",
       "            </tr>\n",
       "            <tr>\n",
       "                        <th id=\"T_fea4084e_d5d0_11ea_89f9_02420a39725dlevel0_row4\" class=\"row_heading level0 row4\" >SNES</th>\n",
       "                        <td id=\"T_fea4084e_d5d0_11ea_89f9_02420a39725drow4_col0\" class=\"data row4 col0\" >1990</td>\n",
       "                        <td id=\"T_fea4084e_d5d0_11ea_89f9_02420a39725drow4_col1\" class=\"data row4 col1\" >1999</td>\n",
       "                        <td id=\"T_fea4084e_d5d0_11ea_89f9_02420a39725drow4_col2\" class=\"data row4 col2\" >10</td>\n",
       "            </tr>\n",
       "            <tr>\n",
       "                        <th id=\"T_fea4084e_d5d0_11ea_89f9_02420a39725dlevel0_row5\" class=\"row_heading level0 row5\" >GEN</th>\n",
       "                        <td id=\"T_fea4084e_d5d0_11ea_89f9_02420a39725drow5_col0\" class=\"data row5 col0\" >1990</td>\n",
       "                        <td id=\"T_fea4084e_d5d0_11ea_89f9_02420a39725drow5_col1\" class=\"data row5 col1\" >1994</td>\n",
       "                        <td id=\"T_fea4084e_d5d0_11ea_89f9_02420a39725drow5_col2\" class=\"data row5 col2\" >5</td>\n",
       "            </tr>\n",
       "            <tr>\n",
       "                        <th id=\"T_fea4084e_d5d0_11ea_89f9_02420a39725dlevel0_row6\" class=\"row_heading level0 row6\" >GG</th>\n",
       "                        <td id=\"T_fea4084e_d5d0_11ea_89f9_02420a39725drow6_col0\" class=\"data row6 col0\" >1992</td>\n",
       "                        <td id=\"T_fea4084e_d5d0_11ea_89f9_02420a39725drow6_col1\" class=\"data row6 col1\" >1992</td>\n",
       "                        <td id=\"T_fea4084e_d5d0_11ea_89f9_02420a39725drow6_col2\" class=\"data row6 col2\" >1</td>\n",
       "            </tr>\n",
       "            <tr>\n",
       "                        <th id=\"T_fea4084e_d5d0_11ea_89f9_02420a39725dlevel0_row7\" class=\"row_heading level0 row7\" >NG</th>\n",
       "                        <td id=\"T_fea4084e_d5d0_11ea_89f9_02420a39725drow7_col0\" class=\"data row7 col0\" >1993</td>\n",
       "                        <td id=\"T_fea4084e_d5d0_11ea_89f9_02420a39725drow7_col1\" class=\"data row7 col1\" >1996</td>\n",
       "                        <td id=\"T_fea4084e_d5d0_11ea_89f9_02420a39725drow7_col2\" class=\"data row7 col2\" >4</td>\n",
       "            </tr>\n",
       "            <tr>\n",
       "                        <th id=\"T_fea4084e_d5d0_11ea_89f9_02420a39725dlevel0_row8\" class=\"row_heading level0 row8\" >SCD</th>\n",
       "                        <td id=\"T_fea4084e_d5d0_11ea_89f9_02420a39725drow8_col0\" class=\"data row8 col0\" >1993</td>\n",
       "                        <td id=\"T_fea4084e_d5d0_11ea_89f9_02420a39725drow8_col1\" class=\"data row8 col1\" >1994</td>\n",
       "                        <td id=\"T_fea4084e_d5d0_11ea_89f9_02420a39725drow8_col2\" class=\"data row8 col2\" >2</td>\n",
       "            </tr>\n",
       "            <tr>\n",
       "                        <th id=\"T_fea4084e_d5d0_11ea_89f9_02420a39725dlevel0_row9\" class=\"row_heading level0 row9\" >3DO</th>\n",
       "                        <td id=\"T_fea4084e_d5d0_11ea_89f9_02420a39725drow9_col0\" class=\"data row9 col0\" >1994</td>\n",
       "                        <td id=\"T_fea4084e_d5d0_11ea_89f9_02420a39725drow9_col1\" class=\"data row9 col1\" >1995</td>\n",
       "                        <td id=\"T_fea4084e_d5d0_11ea_89f9_02420a39725drow9_col2\" class=\"data row9 col2\" >2</td>\n",
       "            </tr>\n",
       "            <tr>\n",
       "                        <th id=\"T_fea4084e_d5d0_11ea_89f9_02420a39725dlevel0_row10\" class=\"row_heading level0 row10\" >PS</th>\n",
       "                        <td id=\"T_fea4084e_d5d0_11ea_89f9_02420a39725drow10_col0\" class=\"data row10 col0\" >1994</td>\n",
       "                        <td id=\"T_fea4084e_d5d0_11ea_89f9_02420a39725drow10_col1\" class=\"data row10 col1\" >2003</td>\n",
       "                        <td id=\"T_fea4084e_d5d0_11ea_89f9_02420a39725drow10_col2\" class=\"data row10 col2\" >10</td>\n",
       "            </tr>\n",
       "            <tr>\n",
       "                        <th id=\"T_fea4084e_d5d0_11ea_89f9_02420a39725dlevel0_row11\" class=\"row_heading level0 row11\" >SAT</th>\n",
       "                        <td id=\"T_fea4084e_d5d0_11ea_89f9_02420a39725drow11_col0\" class=\"data row11 col0\" >1994</td>\n",
       "                        <td id=\"T_fea4084e_d5d0_11ea_89f9_02420a39725drow11_col1\" class=\"data row11 col1\" >1999</td>\n",
       "                        <td id=\"T_fea4084e_d5d0_11ea_89f9_02420a39725drow11_col2\" class=\"data row11 col2\" >6</td>\n",
       "            </tr>\n",
       "            <tr>\n",
       "                        <th id=\"T_fea4084e_d5d0_11ea_89f9_02420a39725dlevel0_row12\" class=\"row_heading level0 row12\" >TG16</th>\n",
       "                        <td id=\"T_fea4084e_d5d0_11ea_89f9_02420a39725drow12_col0\" class=\"data row12 col0\" >1995</td>\n",
       "                        <td id=\"T_fea4084e_d5d0_11ea_89f9_02420a39725drow12_col1\" class=\"data row12 col1\" >1995</td>\n",
       "                        <td id=\"T_fea4084e_d5d0_11ea_89f9_02420a39725drow12_col2\" class=\"data row12 col2\" >1</td>\n",
       "            </tr>\n",
       "            <tr>\n",
       "                        <th id=\"T_fea4084e_d5d0_11ea_89f9_02420a39725dlevel0_row13\" class=\"row_heading level0 row13\" >N64</th>\n",
       "                        <td id=\"T_fea4084e_d5d0_11ea_89f9_02420a39725drow13_col0\" class=\"data row13 col0\" >1996</td>\n",
       "                        <td id=\"T_fea4084e_d5d0_11ea_89f9_02420a39725drow13_col1\" class=\"data row13 col1\" >2002</td>\n",
       "                        <td id=\"T_fea4084e_d5d0_11ea_89f9_02420a39725drow13_col2\" class=\"data row13 col2\" >7</td>\n",
       "            </tr>\n",
       "            <tr>\n",
       "                        <th id=\"T_fea4084e_d5d0_11ea_89f9_02420a39725dlevel0_row14\" class=\"row_heading level0 row14\" >PCFX</th>\n",
       "                        <td id=\"T_fea4084e_d5d0_11ea_89f9_02420a39725drow14_col0\" class=\"data row14 col0\" >1996</td>\n",
       "                        <td id=\"T_fea4084e_d5d0_11ea_89f9_02420a39725drow14_col1\" class=\"data row14 col1\" >1996</td>\n",
       "                        <td id=\"T_fea4084e_d5d0_11ea_89f9_02420a39725drow14_col2\" class=\"data row14 col2\" >1</td>\n",
       "            </tr>\n",
       "            <tr>\n",
       "                        <th id=\"T_fea4084e_d5d0_11ea_89f9_02420a39725dlevel0_row15\" class=\"row_heading level0 row15\" >DC</th>\n",
       "                        <td id=\"T_fea4084e_d5d0_11ea_89f9_02420a39725drow15_col0\" class=\"data row15 col0\" >1998</td>\n",
       "                        <td id=\"T_fea4084e_d5d0_11ea_89f9_02420a39725drow15_col1\" class=\"data row15 col1\" >2008</td>\n",
       "                        <td id=\"T_fea4084e_d5d0_11ea_89f9_02420a39725drow15_col2\" class=\"data row15 col2\" >11</td>\n",
       "            </tr>\n",
       "            <tr>\n",
       "                        <th id=\"T_fea4084e_d5d0_11ea_89f9_02420a39725dlevel0_row16\" class=\"row_heading level0 row16\" >WS</th>\n",
       "                        <td id=\"T_fea4084e_d5d0_11ea_89f9_02420a39725drow16_col0\" class=\"data row16 col0\" >1999</td>\n",
       "                        <td id=\"T_fea4084e_d5d0_11ea_89f9_02420a39725drow16_col1\" class=\"data row16 col1\" >2001</td>\n",
       "                        <td id=\"T_fea4084e_d5d0_11ea_89f9_02420a39725drow16_col2\" class=\"data row16 col2\" >3</td>\n",
       "            </tr>\n",
       "            <tr>\n",
       "                        <th id=\"T_fea4084e_d5d0_11ea_89f9_02420a39725dlevel0_row17\" class=\"row_heading level0 row17\" >PS2</th>\n",
       "                        <td id=\"T_fea4084e_d5d0_11ea_89f9_02420a39725drow17_col0\" class=\"data row17 col0\" >2000</td>\n",
       "                        <td id=\"T_fea4084e_d5d0_11ea_89f9_02420a39725drow17_col1\" class=\"data row17 col1\" >2011</td>\n",
       "                        <td id=\"T_fea4084e_d5d0_11ea_89f9_02420a39725drow17_col2\" class=\"data row17 col2\" >12</td>\n",
       "            </tr>\n",
       "            <tr>\n",
       "                        <th id=\"T_fea4084e_d5d0_11ea_89f9_02420a39725dlevel0_row18\" class=\"row_heading level0 row18\" >GBA</th>\n",
       "                        <td id=\"T_fea4084e_d5d0_11ea_89f9_02420a39725drow18_col0\" class=\"data row18 col0\" >2000</td>\n",
       "                        <td id=\"T_fea4084e_d5d0_11ea_89f9_02420a39725drow18_col1\" class=\"data row18 col1\" >2007</td>\n",
       "                        <td id=\"T_fea4084e_d5d0_11ea_89f9_02420a39725drow18_col2\" class=\"data row18 col2\" >8</td>\n",
       "            </tr>\n",
       "            <tr>\n",
       "                        <th id=\"T_fea4084e_d5d0_11ea_89f9_02420a39725dlevel0_row19\" class=\"row_heading level0 row19\" >XB</th>\n",
       "                        <td id=\"T_fea4084e_d5d0_11ea_89f9_02420a39725drow19_col0\" class=\"data row19 col0\" >2000</td>\n",
       "                        <td id=\"T_fea4084e_d5d0_11ea_89f9_02420a39725drow19_col1\" class=\"data row19 col1\" >2008</td>\n",
       "                        <td id=\"T_fea4084e_d5d0_11ea_89f9_02420a39725drow19_col2\" class=\"data row19 col2\" >9</td>\n",
       "            </tr>\n",
       "            <tr>\n",
       "                        <th id=\"T_fea4084e_d5d0_11ea_89f9_02420a39725dlevel0_row20\" class=\"row_heading level0 row20\" >GC</th>\n",
       "                        <td id=\"T_fea4084e_d5d0_11ea_89f9_02420a39725drow20_col0\" class=\"data row20 col0\" >2001</td>\n",
       "                        <td id=\"T_fea4084e_d5d0_11ea_89f9_02420a39725drow20_col1\" class=\"data row20 col1\" >2007</td>\n",
       "                        <td id=\"T_fea4084e_d5d0_11ea_89f9_02420a39725drow20_col2\" class=\"data row20 col2\" >7</td>\n",
       "            </tr>\n",
       "            <tr>\n",
       "                        <th id=\"T_fea4084e_d5d0_11ea_89f9_02420a39725dlevel0_row21\" class=\"row_heading level0 row21\" >PSP</th>\n",
       "                        <td id=\"T_fea4084e_d5d0_11ea_89f9_02420a39725drow21_col0\" class=\"data row21 col0\" >2004</td>\n",
       "                        <td id=\"T_fea4084e_d5d0_11ea_89f9_02420a39725drow21_col1\" class=\"data row21 col1\" >2015</td>\n",
       "                        <td id=\"T_fea4084e_d5d0_11ea_89f9_02420a39725drow21_col2\" class=\"data row21 col2\" >12</td>\n",
       "            </tr>\n",
       "    </tbody></table>"
      ],
      "text/plain": [
       "<pandas.io.formats.style.Styler at 0x7fc29a01f290>"
      ]
     },
     "execution_count": 34,
     "metadata": {},
     "output_type": "execute_result"
    }
   ],
   "source": [
    "#grouping platform by year of release\n",
    "platform_cycle = data.pivot_table(index='platform', values = 'year_of_release', aggfunc=['min', 'max'])\n",
    "platform_cycle.columns = ['first_year', 'last_year']\n",
    "#calculating life cycle for each platform\n",
    "platform_cycle['cycle'] = platform_cycle['last_year'] - platform_cycle['first_year'] + 1\n",
    "#finding average\n",
    "print('Average platforms life cycle: {:.0f} years'.format(platform_cycle.query('last_year != 2016')['cycle'].mean()))\n",
    "#formula for making background color in table\n",
    "def highlight_max(s):\n",
    "    is_max = s == s.max()\n",
    "    return ['background-color: yellow' if v else '' for v in is_max]\n",
    "\n",
    "def highlight_min(s):\n",
    "    is_min = s == s.min()\n",
    "    return ['background-color: red' if v else '' for v in is_min]\n",
    "#result\n",
    "platform_cycle.query('last_year != 2016').sort_values('first_year').style.format(\"{:.0f}\").apply(highlight_min, subset=['cycle']).apply(highlight_max, subset=['cycle'])\n"
   ]
  },
  {
   "cell_type": "markdown",
   "metadata": {},
   "source": [
    "I took platforms that faded by 2016 year and I found their life cycle (how many years they had sales).  \n",
    "3 platforms have life cycle only a year (red color), \"DS\" platform - 28 years(yellow color).  \n",
    "In average life cycle for platforms is 8 years."
   ]
  },
  {
   "cell_type": "code",
   "execution_count": 35,
   "metadata": {},
   "outputs": [
    {
     "data": {
      "text/html": [
       "<style  type=\"text/css\" >\n",
       "    #T_fea7f378_d5d0_11ea_89f9_02420a39725drow0_col2 {\n",
       "            background-color:  yellow;\n",
       "        }</style><table id=\"T_fea7f378_d5d0_11ea_89f9_02420a39725d\" ><thead>    <tr>        <th class=\"blank level0\" ></th>        <th class=\"col_heading level0 col0\" >first_year</th>        <th class=\"col_heading level0 col1\" >last_year</th>        <th class=\"col_heading level0 col2\" >cycle</th>    </tr>    <tr>        <th class=\"index_name level0\" >platform</th>        <th class=\"blank\" ></th>        <th class=\"blank\" ></th>        <th class=\"blank\" ></th>    </tr></thead><tbody>\n",
       "                <tr>\n",
       "                        <th id=\"T_fea7f378_d5d0_11ea_89f9_02420a39725dlevel0_row0\" class=\"row_heading level0 row0\" >PC</th>\n",
       "                        <td id=\"T_fea7f378_d5d0_11ea_89f9_02420a39725drow0_col0\" class=\"data row0 col0\" >1985</td>\n",
       "                        <td id=\"T_fea7f378_d5d0_11ea_89f9_02420a39725drow0_col1\" class=\"data row0 col1\" >2016</td>\n",
       "                        <td id=\"T_fea7f378_d5d0_11ea_89f9_02420a39725drow0_col2\" class=\"data row0 col2\" >32</td>\n",
       "            </tr>\n",
       "            <tr>\n",
       "                        <th id=\"T_fea7f378_d5d0_11ea_89f9_02420a39725dlevel0_row1\" class=\"row_heading level0 row1\" >X360</th>\n",
       "                        <td id=\"T_fea7f378_d5d0_11ea_89f9_02420a39725drow1_col0\" class=\"data row1 col0\" >2005</td>\n",
       "                        <td id=\"T_fea7f378_d5d0_11ea_89f9_02420a39725drow1_col1\" class=\"data row1 col1\" >2016</td>\n",
       "                        <td id=\"T_fea7f378_d5d0_11ea_89f9_02420a39725drow1_col2\" class=\"data row1 col2\" >12</td>\n",
       "            </tr>\n",
       "            <tr>\n",
       "                        <th id=\"T_fea7f378_d5d0_11ea_89f9_02420a39725dlevel0_row2\" class=\"row_heading level0 row2\" >PS3</th>\n",
       "                        <td id=\"T_fea7f378_d5d0_11ea_89f9_02420a39725drow2_col0\" class=\"data row2 col0\" >2006</td>\n",
       "                        <td id=\"T_fea7f378_d5d0_11ea_89f9_02420a39725drow2_col1\" class=\"data row2 col1\" >2016</td>\n",
       "                        <td id=\"T_fea7f378_d5d0_11ea_89f9_02420a39725drow2_col2\" class=\"data row2 col2\" >11</td>\n",
       "            </tr>\n",
       "            <tr>\n",
       "                        <th id=\"T_fea7f378_d5d0_11ea_89f9_02420a39725dlevel0_row3\" class=\"row_heading level0 row3\" >Wii</th>\n",
       "                        <td id=\"T_fea7f378_d5d0_11ea_89f9_02420a39725drow3_col0\" class=\"data row3 col0\" >2006</td>\n",
       "                        <td id=\"T_fea7f378_d5d0_11ea_89f9_02420a39725drow3_col1\" class=\"data row3 col1\" >2016</td>\n",
       "                        <td id=\"T_fea7f378_d5d0_11ea_89f9_02420a39725drow3_col2\" class=\"data row3 col2\" >11</td>\n",
       "            </tr>\n",
       "            <tr>\n",
       "                        <th id=\"T_fea7f378_d5d0_11ea_89f9_02420a39725dlevel0_row4\" class=\"row_heading level0 row4\" >3DS</th>\n",
       "                        <td id=\"T_fea7f378_d5d0_11ea_89f9_02420a39725drow4_col0\" class=\"data row4 col0\" >2011</td>\n",
       "                        <td id=\"T_fea7f378_d5d0_11ea_89f9_02420a39725drow4_col1\" class=\"data row4 col1\" >2016</td>\n",
       "                        <td id=\"T_fea7f378_d5d0_11ea_89f9_02420a39725drow4_col2\" class=\"data row4 col2\" >6</td>\n",
       "            </tr>\n",
       "            <tr>\n",
       "                        <th id=\"T_fea7f378_d5d0_11ea_89f9_02420a39725dlevel0_row5\" class=\"row_heading level0 row5\" >PSV</th>\n",
       "                        <td id=\"T_fea7f378_d5d0_11ea_89f9_02420a39725drow5_col0\" class=\"data row5 col0\" >2011</td>\n",
       "                        <td id=\"T_fea7f378_d5d0_11ea_89f9_02420a39725drow5_col1\" class=\"data row5 col1\" >2016</td>\n",
       "                        <td id=\"T_fea7f378_d5d0_11ea_89f9_02420a39725drow5_col2\" class=\"data row5 col2\" >6</td>\n",
       "            </tr>\n",
       "            <tr>\n",
       "                        <th id=\"T_fea7f378_d5d0_11ea_89f9_02420a39725dlevel0_row6\" class=\"row_heading level0 row6\" >WiiU</th>\n",
       "                        <td id=\"T_fea7f378_d5d0_11ea_89f9_02420a39725drow6_col0\" class=\"data row6 col0\" >2012</td>\n",
       "                        <td id=\"T_fea7f378_d5d0_11ea_89f9_02420a39725drow6_col1\" class=\"data row6 col1\" >2016</td>\n",
       "                        <td id=\"T_fea7f378_d5d0_11ea_89f9_02420a39725drow6_col2\" class=\"data row6 col2\" >5</td>\n",
       "            </tr>\n",
       "            <tr>\n",
       "                        <th id=\"T_fea7f378_d5d0_11ea_89f9_02420a39725dlevel0_row7\" class=\"row_heading level0 row7\" >PS4</th>\n",
       "                        <td id=\"T_fea7f378_d5d0_11ea_89f9_02420a39725drow7_col0\" class=\"data row7 col0\" >2013</td>\n",
       "                        <td id=\"T_fea7f378_d5d0_11ea_89f9_02420a39725drow7_col1\" class=\"data row7 col1\" >2016</td>\n",
       "                        <td id=\"T_fea7f378_d5d0_11ea_89f9_02420a39725drow7_col2\" class=\"data row7 col2\" >4</td>\n",
       "            </tr>\n",
       "            <tr>\n",
       "                        <th id=\"T_fea7f378_d5d0_11ea_89f9_02420a39725dlevel0_row8\" class=\"row_heading level0 row8\" >XOne</th>\n",
       "                        <td id=\"T_fea7f378_d5d0_11ea_89f9_02420a39725drow8_col0\" class=\"data row8 col0\" >2013</td>\n",
       "                        <td id=\"T_fea7f378_d5d0_11ea_89f9_02420a39725drow8_col1\" class=\"data row8 col1\" >2016</td>\n",
       "                        <td id=\"T_fea7f378_d5d0_11ea_89f9_02420a39725drow8_col2\" class=\"data row8 col2\" >4</td>\n",
       "            </tr>\n",
       "    </tbody></table>"
      ],
      "text/plain": [
       "<pandas.io.formats.style.Styler at 0x7fc29a135fd0>"
      ]
     },
     "execution_count": 35,
     "metadata": {},
     "output_type": "execute_result"
    }
   ],
   "source": [
    "platform_cycle.query('last_year == 2016').sort_values('first_year').style.format(\"{:.0f}\").apply(highlight_max, subset=['cycle'])"
   ]
  },
  {
   "cell_type": "markdown",
   "metadata": {},
   "source": [
    "There is table with platforms that have sales in 2016 year.  \n",
    "Except \"PC\" platform that appeared in 1985 and has sales during 32 year, oher platforms with sales in 2016 appear since 2005 year.  \n",
    "Last year when the new platforms appeared is 2013.  \n",
    "Therefore to equally evaluate platforms and build a prognosis for 2017 we need to take platforms with sales in 2016 and games released since 2013. "
   ]
  },
  {
   "cell_type": "code",
   "execution_count": 36,
   "metadata": {},
   "outputs": [],
   "source": [
    "#finding names of platforms with sales in 2016\n",
    "active_data = data.query('year_of_release == 2016 & total_sales >0').copy()\n",
    "name = active_data['platform'].unique()"
   ]
  },
  {
   "cell_type": "code",
   "execution_count": 37,
   "metadata": {},
   "outputs": [
    {
     "name": "stdout",
     "output_type": "stream",
     "text": [
      "Number of platforms: 9\n",
      "Number of games: 1210\n",
      "Years: 2013 - 2016\n"
     ]
    }
   ],
   "source": [
    "#selecting data\n",
    "new_data = data.query('platform in(@name) & year_of_release >= 2013').copy()\n",
    "#changing data type\n",
    "new_data['year_of_release'] = new_data['year_of_release'].astype(int)\n",
    "#result\n",
    "print('Number of platforms:', len(new_data.groupby('platform')))\n",
    "print('Number of games:', len(new_data.groupby('name')))\n",
    "print('Years: {:.0f} - {:.0f}'.format(new_data['year_of_release'].min(), new_data['year_of_release'].max()))"
   ]
  },
  {
   "cell_type": "markdown",
   "metadata": {},
   "source": [
    "For analysis I selected platforms without zero sales in 2016 and games released since 2013 inclusive.  \n",
    "Also I changed data type for column 'year of release' to ing (integer numbers).  "
   ]
  },
  {
   "cell_type": "code",
   "execution_count": 38,
   "metadata": {},
   "outputs": [
    {
     "data": {
      "image/png": "[encoded data removed]",
      "text/plain": [
       "<Figure size 432x288 with 1 Axes>"
      ]
     },
     "metadata": {
      "needs_background": "light"
     },
     "output_type": "display_data"
    }
   ],
   "source": [
    "new_data.pivot_table(index='platform', values='name', aggfunc='count').plot(kind='bar', legend=False)\n",
    "plt.xlabel('Platform')\n",
    "plt.ylabel('Amount of games')\n",
    "plt.title('Amount of games released on each platform')\n",
    "plt.show()"
   ]
  },
  {
   "cell_type": "markdown",
   "metadata": {},
   "source": [
    "Graph shows us:\n",
    "- over the past 4 years the largest number of games were released for Playstation (PSV, PS3, PS4) platforms - 345+ games;\n",
    "- next platform 3DS (Nintendo) - around 300 games;\n",
    "- XOne - around 250 games, X360 - around 190 games (xbox); \n",
    "- next to them PC - 190 games;\n",
    "- WiiU - 115 (Nintendo);\n",
    "- and old Nintendo's platform Wii have lowest amount of games - around 20."
   ]
  },
  {
   "cell_type": "code",
   "execution_count": 39,
   "metadata": {},
   "outputs": [
    {
     "data": {
      "image/png": "[encoded data removed]",
      "text/plain": [
       "<Figure size 432x288 with 1 Axes>"
      ]
     },
     "metadata": {
      "needs_background": "light"
     },
     "output_type": "display_data"
    }
   ],
   "source": [
    "new_data.pivot_table(index='platform', values='total_sales', aggfunc='sum').plot(kind='bar', legend=False)\n",
    "plt.xlabel('Platform')\n",
    "plt.ylabel('Total sales')\n",
    "plt.title('Total sales for each platform')\n",
    "plt.show()"
   ]
  },
  {
   "cell_type": "markdown",
   "metadata": {},
   "source": [
    "Over the past 4 years PS4 platform has the highest profit.  \n",
    "Wii platform has the lowest profit.\n",
    "In most cases profit connected to the number of games that were released on platform, but for PSV and PC platform it's not. I assume that games on these platforms are cheaper in average."
   ]
  },
  {
   "cell_type": "code",
   "execution_count": 40,
   "metadata": {},
   "outputs": [
    {
     "data": {
      "text/html": [
       "<div>\n",
       "<style scoped>\n",
       "    .dataframe tbody tr th:only-of-type {\n",
       "        vertical-align: middle;\n",
       "    }\n",
       "\n",
       "    .dataframe tbody tr th {\n",
       "        vertical-align: top;\n",
       "    }\n",
       "\n",
       "    .dataframe thead th {\n",
       "        text-align: right;\n",
       "    }\n",
       "</style>\n",
       "<table border=\"1\" class=\"dataframe\">\n",
       "  <thead>\n",
       "    <tr style=\"text-align: right;\">\n",
       "      <th></th>\n",
       "      <th>2013</th>\n",
       "      <th>2014</th>\n",
       "      <th>2015</th>\n",
       "      <th>2016</th>\n",
       "      <th>decline %</th>\n",
       "      <th>forecast_sales_2017</th>\n",
       "    </tr>\n",
       "    <tr>\n",
       "      <th>platform</th>\n",
       "      <th></th>\n",
       "      <th></th>\n",
       "      <th></th>\n",
       "      <th></th>\n",
       "      <th></th>\n",
       "      <th></th>\n",
       "    </tr>\n",
       "  </thead>\n",
       "  <tbody>\n",
       "    <tr>\n",
       "      <td>Wii</td>\n",
       "      <td>8.59</td>\n",
       "      <td>3.75</td>\n",
       "      <td>1.14</td>\n",
       "      <td>0.18</td>\n",
       "      <td>84.2%</td>\n",
       "      <td>0.03</td>\n",
       "    </tr>\n",
       "    <tr>\n",
       "      <td>X360</td>\n",
       "      <td>88.58</td>\n",
       "      <td>34.74</td>\n",
       "      <td>11.96</td>\n",
       "      <td>1.52</td>\n",
       "      <td>87.3%</td>\n",
       "      <td>0.19</td>\n",
       "    </tr>\n",
       "    <tr>\n",
       "      <td>PS3</td>\n",
       "      <td>113.25</td>\n",
       "      <td>47.76</td>\n",
       "      <td>16.82</td>\n",
       "      <td>3.60</td>\n",
       "      <td>78.6%</td>\n",
       "      <td>0.77</td>\n",
       "    </tr>\n",
       "    <tr>\n",
       "      <td>WiiU</td>\n",
       "      <td>21.65</td>\n",
       "      <td>22.03</td>\n",
       "      <td>16.35</td>\n",
       "      <td>4.60</td>\n",
       "      <td>71.9%</td>\n",
       "      <td>1.29</td>\n",
       "    </tr>\n",
       "    <tr>\n",
       "      <td>PSV</td>\n",
       "      <td>10.59</td>\n",
       "      <td>11.90</td>\n",
       "      <td>6.25</td>\n",
       "      <td>4.25</td>\n",
       "      <td>32.0%</td>\n",
       "      <td>2.89</td>\n",
       "    </tr>\n",
       "    <tr>\n",
       "      <td>PC</td>\n",
       "      <td>12.73</td>\n",
       "      <td>13.28</td>\n",
       "      <td>8.52</td>\n",
       "      <td>5.25</td>\n",
       "      <td>38.4%</td>\n",
       "      <td>3.24</td>\n",
       "    </tr>\n",
       "    <tr>\n",
       "      <td>3DS</td>\n",
       "      <td>56.57</td>\n",
       "      <td>43.76</td>\n",
       "      <td>27.78</td>\n",
       "      <td>15.14</td>\n",
       "      <td>45.5%</td>\n",
       "      <td>8.25</td>\n",
       "    </tr>\n",
       "    <tr>\n",
       "      <td>XOne</td>\n",
       "      <td>18.96</td>\n",
       "      <td>54.07</td>\n",
       "      <td>60.14</td>\n",
       "      <td>26.15</td>\n",
       "      <td>56.5%</td>\n",
       "      <td>11.37</td>\n",
       "    </tr>\n",
       "    <tr>\n",
       "      <td>PS4</td>\n",
       "      <td>25.99</td>\n",
       "      <td>100.00</td>\n",
       "      <td>118.90</td>\n",
       "      <td>69.25</td>\n",
       "      <td>41.8%</td>\n",
       "      <td>40.33</td>\n",
       "    </tr>\n",
       "  </tbody>\n",
       "</table>\n",
       "</div>"
      ],
      "text/plain": [
       "            2013    2014    2015   2016 decline %  forecast_sales_2017\n",
       "platform                                                              \n",
       "Wii         8.59    3.75    1.14   0.18     84.2%                 0.03\n",
       "X360       88.58   34.74   11.96   1.52     87.3%                 0.19\n",
       "PS3       113.25   47.76   16.82   3.60     78.6%                 0.77\n",
       "WiiU       21.65   22.03   16.35   4.60     71.9%                 1.29\n",
       "PSV        10.59   11.90    6.25   4.25     32.0%                 2.89\n",
       "PC         12.73   13.28    8.52   5.25     38.4%                 3.24\n",
       "3DS        56.57   43.76   27.78  15.14     45.5%                 8.25\n",
       "XOne       18.96   54.07   60.14  26.15     56.5%                11.37\n",
       "PS4        25.99  100.00  118.90  69.25     41.8%                40.33"
      ]
     },
     "execution_count": 40,
     "metadata": {},
     "output_type": "execute_result"
    }
   ],
   "source": [
    "#calculating total sales for each plrtform per year\n",
    "sales_new_data = new_data.pivot_table(index= 'platform', values='total_sales', columns = 'year_of_release', aggfunc='sum')\n",
    "sales_new_data.columns = ['2013', '2014', '2015', '2016']\n",
    "#calculating percentage of decline sales\n",
    "sales_new_data['decline %'] = (sales_new_data['2015'] - sales_new_data['2016']) / sales_new_data['2015']\n",
    "#building forecast for 2017\n",
    "sales_new_data['forecast_sales_2017'] = sales_new_data['2016'] - sales_new_data['2016'] * sales_new_data['decline %']\n",
    "sales_new_data['decline %'] = sales_new_data['decline %'].map('{:.1%}'.format)\n",
    "sales_new_data['forecast_sales_2017'] = sales_new_data['forecast_sales_2017'].map('{:.2f}'.format).astype(float)\n",
    "sales_new_data.sort_values(by='forecast_sales_2017')"
   ]
  },
  {
   "cell_type": "markdown",
   "metadata": {},
   "source": [
    "I calculated: \n",
    "- total sales for each platform per year (columns '2013 -2016)';\n",
    "- percentage of decline sales for each platform based on data from 2015-2016 (column 'decline %');\n",
    "- forecast sales for 2017 for each platform based on percentage of decline sales in 2016 (column 'forecast_sales_2017).\n",
    "\n",
    "I found that:\n",
    "- total sales for all platforms are shrinking;\n",
    "- the lowest total sales and fastest decline in sales have platforms Wii, X360 and PS3 created in 2005-2006;\n",
    "- platforms created in 2013 - Xone and PS4 are leading in sales in 2016;\n",
    "- the slowest decline in sales have platforms PSV and PC."
   ]
  },
  {
   "cell_type": "code",
   "execution_count": 41,
   "metadata": {},
   "outputs": [
    {
     "data": {
      "image/png": "[encoded data removed]",
      "text/plain": [
       "<Figure size 432x288 with 1 Axes>"
      ]
     },
     "metadata": {
      "needs_background": "light"
     },
     "output_type": "display_data"
    }
   ],
   "source": [
    "sales_new_data.sort_values('forecast_sales_2017', ascending=False)['forecast_sales_2017'].plot(kind='barh', color='c')\n",
    "plt.xlabel('Total sales')\n",
    "plt.ylabel('Platform')\n",
    "plt.title('Sales forecast for 2017')\n",
    "plt.show()"
   ]
  },
  {
   "cell_type": "markdown",
   "metadata": {},
   "source": [
    "Based on approximate forecast for 2017:\n",
    "- Wii, X360 and PS3 probably will have less that 1 million USD sales in 2017;\n",
    "- WiiU, PSV and PC will have 1-5 mln USD in 2017;\n",
    "- 3DS 5-10 mln USD;\n",
    "- XOne 10-15 mln USD;\n",
    "- PS4 - around 40 mln.\n",
    "\n",
    "PS4, XOne and 3DS are most potentially profitable platforms for 2017."
   ]
  },
  {
   "cell_type": "code",
   "execution_count": 42,
   "metadata": {},
   "outputs": [
    {
     "data": {
      "text/html": [
       "<style  type=\"text/css\" >\n",
       "</style><table id=\"T_ff5394f8_d5d0_11ea_89f9_02420a39725d\" ><thead>    <tr>        <th class=\"blank level0\" ></th>        <th class=\"col_heading level0 col0\" >count</th>        <th class=\"col_heading level0 col1\" >mean</th>        <th class=\"col_heading level0 col2\" >std</th>        <th class=\"col_heading level0 col3\" >min</th>        <th class=\"col_heading level0 col4\" >25%</th>        <th class=\"col_heading level0 col5\" >50%</th>        <th class=\"col_heading level0 col6\" >75%</th>        <th class=\"col_heading level0 col7\" >max</th>    </tr>    <tr>        <th class=\"index_name level0\" >platform</th>        <th class=\"blank\" ></th>        <th class=\"blank\" ></th>        <th class=\"blank\" ></th>        <th class=\"blank\" ></th>        <th class=\"blank\" ></th>        <th class=\"blank\" ></th>        <th class=\"blank\" ></th>        <th class=\"blank\" ></th>    </tr></thead><tbody>\n",
       "                <tr>\n",
       "                        <th id=\"T_ff5394f8_d5d0_11ea_89f9_02420a39725dlevel0_row0\" class=\"row_heading level0 row0\" >3DS</th>\n",
       "                        <td id=\"T_ff5394f8_d5d0_11ea_89f9_02420a39725drow0_col0\" class=\"data row0 col0\" >303.00</td>\n",
       "                        <td id=\"T_ff5394f8_d5d0_11ea_89f9_02420a39725drow0_col1\" class=\"data row0 col1\" >0.47</td>\n",
       "                        <td id=\"T_ff5394f8_d5d0_11ea_89f9_02420a39725drow0_col2\" class=\"data row0 col2\" >1.38</td>\n",
       "                        <td id=\"T_ff5394f8_d5d0_11ea_89f9_02420a39725drow0_col3\" class=\"data row0 col3\" >0.01</td>\n",
       "                        <td id=\"T_ff5394f8_d5d0_11ea_89f9_02420a39725drow0_col4\" class=\"data row0 col4\" >0.04</td>\n",
       "                        <td id=\"T_ff5394f8_d5d0_11ea_89f9_02420a39725drow0_col5\" class=\"data row0 col5\" >0.09</td>\n",
       "                        <td id=\"T_ff5394f8_d5d0_11ea_89f9_02420a39725drow0_col6\" class=\"data row0 col6\" >0.28</td>\n",
       "                        <td id=\"T_ff5394f8_d5d0_11ea_89f9_02420a39725drow0_col7\" class=\"data row0 col7\" >14.60</td>\n",
       "            </tr>\n",
       "            <tr>\n",
       "                        <th id=\"T_ff5394f8_d5d0_11ea_89f9_02420a39725dlevel0_row1\" class=\"row_heading level0 row1\" >PS4</th>\n",
       "                        <td id=\"T_ff5394f8_d5d0_11ea_89f9_02420a39725drow1_col0\" class=\"data row1 col0\" >392.00</td>\n",
       "                        <td id=\"T_ff5394f8_d5d0_11ea_89f9_02420a39725drow1_col1\" class=\"data row1 col1\" >0.80</td>\n",
       "                        <td id=\"T_ff5394f8_d5d0_11ea_89f9_02420a39725drow1_col2\" class=\"data row1 col2\" >1.61</td>\n",
       "                        <td id=\"T_ff5394f8_d5d0_11ea_89f9_02420a39725drow1_col3\" class=\"data row1 col3\" >0.01</td>\n",
       "                        <td id=\"T_ff5394f8_d5d0_11ea_89f9_02420a39725drow1_col4\" class=\"data row1 col4\" >0.06</td>\n",
       "                        <td id=\"T_ff5394f8_d5d0_11ea_89f9_02420a39725drow1_col5\" class=\"data row1 col5\" >0.20</td>\n",
       "                        <td id=\"T_ff5394f8_d5d0_11ea_89f9_02420a39725drow1_col6\" class=\"data row1 col6\" >0.73</td>\n",
       "                        <td id=\"T_ff5394f8_d5d0_11ea_89f9_02420a39725drow1_col7\" class=\"data row1 col7\" >14.63</td>\n",
       "            </tr>\n",
       "            <tr>\n",
       "                        <th id=\"T_ff5394f8_d5d0_11ea_89f9_02420a39725dlevel0_row2\" class=\"row_heading level0 row2\" >XOne</th>\n",
       "                        <td id=\"T_ff5394f8_d5d0_11ea_89f9_02420a39725drow2_col0\" class=\"data row2 col0\" >247.00</td>\n",
       "                        <td id=\"T_ff5394f8_d5d0_11ea_89f9_02420a39725drow2_col1\" class=\"data row2 col1\" >0.65</td>\n",
       "                        <td id=\"T_ff5394f8_d5d0_11ea_89f9_02420a39725drow2_col2\" class=\"data row2 col2\" >1.04</td>\n",
       "                        <td id=\"T_ff5394f8_d5d0_11ea_89f9_02420a39725drow2_col3\" class=\"data row2 col3\" >0.01</td>\n",
       "                        <td id=\"T_ff5394f8_d5d0_11ea_89f9_02420a39725drow2_col4\" class=\"data row2 col4\" >0.06</td>\n",
       "                        <td id=\"T_ff5394f8_d5d0_11ea_89f9_02420a39725drow2_col5\" class=\"data row2 col5\" >0.22</td>\n",
       "                        <td id=\"T_ff5394f8_d5d0_11ea_89f9_02420a39725drow2_col6\" class=\"data row2 col6\" >0.69</td>\n",
       "                        <td id=\"T_ff5394f8_d5d0_11ea_89f9_02420a39725drow2_col7\" class=\"data row2 col7\" >7.39</td>\n",
       "            </tr>\n",
       "    </tbody></table>"
      ],
      "text/plain": [
       "<pandas.io.formats.style.Styler at 0x7fc299decad0>"
      ]
     },
     "execution_count": 42,
     "metadata": {},
     "output_type": "execute_result"
    }
   ],
   "source": [
    "new_data.query('platform == \"PS4\" or platform == \"XOne\" or platform == \"3DS\"').groupby('platform')['total_sales'].describe().style.format(\"{:.2f}\")"
   ]
  },
  {
   "cell_type": "markdown",
   "metadata": {},
   "source": [
    "PS4:\n",
    "- range from 0.01 to 14.6 mln USD per game;\n",
    "- average profit per game is 0.8 mln USD;\n",
    "- median is 0.2 mln USD;\n",
    "- standard deviation is 1.6 mln USD;\n",
    "\n",
    "Standard deviation is twice higher than mean, spread of the data is high - there are a lot outliers.\n",
    "\n",
    "XOne:\n",
    "- range from 0.01 to 7.4 mln USD per game;\n",
    "- average profit per game is 0.65 mln USD;\n",
    "- median is 0.22 mln USD;\n",
    "- standard deviation is 1.0 mln USD;\n",
    "\n",
    "Standard deviation is almost twice higher than mean, spread of the data is high - there are a lot outliers.\n",
    "\n",
    "3DS:\n",
    "- range from 0.01 to 14.6 mln USD per game;\n",
    "- average profit per game is 0.47 mln USD;\n",
    "- median is 0.09 mln USD;\n",
    "- standard deviation is 1.4 mln USD;\n",
    "\n",
    "Standard deviation is three times higher than mean, spread of the data is very high - there are huge outliers.  \n",
    "\n",
    "Median profit from most of the games on PS4 and XOne platforms are the same, but PS4 have highest profit from some games than XOne.  \n",
    "3DS platform mostly have profit less than 0.30 mln USD, but spread of the data is so high and maxumum range is 14.6 mln USD - it means that this platform had some games that brought profit even higher than games from Xone platform."
   ]
  },
  {
   "cell_type": "code",
   "execution_count": 43,
   "metadata": {},
   "outputs": [
    {
     "data": {
      "image/png": "[encoded data removed]",
      "text/plain": [
       "<Figure size 1440x504 with 1 Axes>"
      ]
     },
     "metadata": {
      "needs_background": "light"
     },
     "output_type": "display_data"
    }
   ],
   "source": [
    "#bulding box plots\n",
    "plt.figure(figsize=(20,7))\n",
    "sns.boxplot(data=new_data, x='platform', y='total_sales', showmeans=True, \n",
    "            meanprops={\"marker\":\"o\", \"markerfacecolor\":\"white\", \"markeredgecolor\":\"black\", \"markersize\":\"10\"})\n",
    "plt.ylim(0, 3)\n",
    "plt.show()"
   ]
  },
  {
   "cell_type": "markdown",
   "metadata": {},
   "source": [
    "The lower whiskers of boxplots starts at the minimum value (0.01 mln USD) and they are close to boxs itself.    \n",
    "\n",
    "Medians are not in the middle of box plots - distributions are not symmetrical. \n",
    "\n",
    "White circle on the box plots - is average sales.  \n",
    "As we can see mean is close to the eng of boxes and higher tan median - it means that distributions have positive skew.\n",
    "\n",
    "Higher whiskers are lower than maximum value, we can see outliers higher them. Also whiskers of each platforms much farther than lower whisker from the boxes - it means than distribution have tail to the right.  \n",
    "\n",
    "Platforms PS4, X360 and XOne have highest average sales, platforms 3DS, PC and PSV have lowest average sales."
   ]
  },
  {
   "cell_type": "code",
   "execution_count": 44,
   "metadata": {},
   "outputs": [
    {
     "data": {
      "text/html": [
       "<div>\n",
       "<style scoped>\n",
       "    .dataframe tbody tr th:only-of-type {\n",
       "        vertical-align: middle;\n",
       "    }\n",
       "\n",
       "    .dataframe tbody tr th {\n",
       "        vertical-align: top;\n",
       "    }\n",
       "\n",
       "    .dataframe thead th {\n",
       "        text-align: right;\n",
       "    }\n",
       "</style>\n",
       "<table border=\"1\" class=\"dataframe\">\n",
       "  <thead>\n",
       "    <tr style=\"text-align: right;\">\n",
       "      <th></th>\n",
       "      <th>critic_score</th>\n",
       "      <th>user_score</th>\n",
       "    </tr>\n",
       "    <tr>\n",
       "      <th>platform</th>\n",
       "      <th></th>\n",
       "      <th></th>\n",
       "    </tr>\n",
       "  </thead>\n",
       "  <tbody>\n",
       "    <tr>\n",
       "      <td>3DS</td>\n",
       "      <td>71</td>\n",
       "      <td>80</td>\n",
       "    </tr>\n",
       "    <tr>\n",
       "      <td>PC</td>\n",
       "      <td>150</td>\n",
       "      <td>156</td>\n",
       "    </tr>\n",
       "    <tr>\n",
       "      <td>PS3</td>\n",
       "      <td>121</td>\n",
       "      <td>186</td>\n",
       "    </tr>\n",
       "    <tr>\n",
       "      <td>PS4</td>\n",
       "      <td>252</td>\n",
       "      <td>257</td>\n",
       "    </tr>\n",
       "    <tr>\n",
       "      <td>PSV</td>\n",
       "      <td>77</td>\n",
       "      <td>99</td>\n",
       "    </tr>\n",
       "    <tr>\n",
       "      <td>Wii</td>\n",
       "      <td>0</td>\n",
       "      <td>7</td>\n",
       "    </tr>\n",
       "    <tr>\n",
       "      <td>WiiU</td>\n",
       "      <td>70</td>\n",
       "      <td>80</td>\n",
       "    </tr>\n",
       "    <tr>\n",
       "      <td>X360</td>\n",
       "      <td>81</td>\n",
       "      <td>143</td>\n",
       "    </tr>\n",
       "    <tr>\n",
       "      <td>XOne</td>\n",
       "      <td>169</td>\n",
       "      <td>182</td>\n",
       "    </tr>\n",
       "  </tbody>\n",
       "</table>\n",
       "</div>"
      ],
      "text/plain": [
       "          critic_score  user_score\n",
       "platform                          \n",
       "3DS                 71          80\n",
       "PC                 150         156\n",
       "PS3                121         186\n",
       "PS4                252         257\n",
       "PSV                 77          99\n",
       "Wii                  0           7\n",
       "WiiU                70          80\n",
       "X360                81         143\n",
       "XOne               169         182"
      ]
     },
     "execution_count": 44,
     "metadata": {},
     "output_type": "execute_result"
    }
   ],
   "source": [
    "#finding number of scores for each platform\n",
    "new_data.pivot_table(index='platform', values=['critic_score', 'user_score'], aggfunc='count')"
   ]
  },
  {
   "cell_type": "markdown",
   "metadata": {},
   "source": [
    "PS4 platform has biggest numbers of user and critic scores."
   ]
  },
  {
   "cell_type": "code",
   "execution_count": 45,
   "metadata": {},
   "outputs": [
    {
     "data": {
      "image/png": "[encoded data removed]",
      "text/plain": [
       "<Figure size 432x288 with 1 Axes>"
      ]
     },
     "metadata": {
      "needs_background": "light"
     },
     "output_type": "display_data"
    },
    {
     "name": "stdout",
     "output_type": "stream",
     "text": [
      "Correlation coefficient: 0.4\n"
     ]
    }
   ],
   "source": [
    "#finding correlation\n",
    "PS4_data = new_data.query('platform == \"PS4\" & total_sales <= 10').copy()\n",
    "PS4_data.plot(x='total_sales', y='critic_score', kind='scatter', grid=True)\n",
    "plt.show()\n",
    "#finding correlation coefficient\n",
    "print('Correlation coefficient: {:.1f}'.format(PS4_data['total_sales'].corr(PS4_data['critic_score'])))"
   ]
  },
  {
   "cell_type": "markdown",
   "metadata": {},
   "source": [
    "Correlation coefficient is 0.4. Correlation is positive and not a very strong, but still implies a connection. Increasing sales is accompanied by increasing the rating, but this isn't always the case."
   ]
  },
  {
   "cell_type": "code",
   "execution_count": 46,
   "metadata": {},
   "outputs": [
    {
     "data": {
      "image/png": "[encoded data removed]",
      "text/plain": [
       "<Figure size 432x288 with 1 Axes>"
      ]
     },
     "metadata": {
      "needs_background": "light"
     },
     "output_type": "display_data"
    },
    {
     "name": "stdout",
     "output_type": "stream",
     "text": [
      "Correlation coefficient: -0.1\n"
     ]
    }
   ],
   "source": [
    "#finding correlation\n",
    "PS4_data.plot(x='total_sales', y='user_score', kind='scatter', grid=True)\n",
    "plt.show()\n",
    "#finding correlation coefficient\n",
    "print('Correlation coefficient: {:.1f}'.format(PS4_data['total_sales'].corr(PS4_data['user_score'])))"
   ]
  },
  {
   "cell_type": "markdown",
   "metadata": {},
   "source": [
    "Correlation coefficient is -0.1. Correlation is negative and close to zero. Connection is practically absent."
   ]
  },
  {
   "cell_type": "code",
   "execution_count": 47,
   "metadata": {},
   "outputs": [
    {
     "data": {
      "text/html": [
       "<div>\n",
       "<style scoped>\n",
       "    .dataframe tbody tr th:only-of-type {\n",
       "        vertical-align: middle;\n",
       "    }\n",
       "\n",
       "    .dataframe tbody tr th {\n",
       "        vertical-align: top;\n",
       "    }\n",
       "\n",
       "    .dataframe thead th {\n",
       "        text-align: right;\n",
       "    }\n",
       "</style>\n",
       "<table border=\"1\" class=\"dataframe\">\n",
       "  <thead>\n",
       "    <tr style=\"text-align: right;\">\n",
       "      <th></th>\n",
       "      <th>name</th>\n",
       "      <th>platform</th>\n",
       "    </tr>\n",
       "  </thead>\n",
       "  <tbody>\n",
       "    <tr>\n",
       "      <td>0</td>\n",
       "      <td>LEGO Marvel Super Heroes</td>\n",
       "      <td>8</td>\n",
       "    </tr>\n",
       "    <tr>\n",
       "      <td>1</td>\n",
       "      <td>FIFA 15</td>\n",
       "      <td>8</td>\n",
       "    </tr>\n",
       "    <tr>\n",
       "      <td>2</td>\n",
       "      <td>LEGO The Hobbit</td>\n",
       "      <td>8</td>\n",
       "    </tr>\n",
       "    <tr>\n",
       "      <td>3</td>\n",
       "      <td>Lego Batman 3: Beyond Gotham</td>\n",
       "      <td>8</td>\n",
       "    </tr>\n",
       "    <tr>\n",
       "      <td>4</td>\n",
       "      <td>FIFA 14</td>\n",
       "      <td>8</td>\n",
       "    </tr>\n",
       "  </tbody>\n",
       "</table>\n",
       "</div>"
      ],
      "text/plain": [
       "                           name  platform\n",
       "0      LEGO Marvel Super Heroes         8\n",
       "1                       FIFA 15         8\n",
       "2               LEGO The Hobbit         8\n",
       "3  Lego Batman 3: Beyond Gotham         8\n",
       "4                       FIFA 14         8"
      ]
     },
     "execution_count": 47,
     "metadata": {},
     "output_type": "execute_result"
    }
   ],
   "source": [
    "#finding the most common games\n",
    "common_games = new_data.groupby('name').count().sort_values('platform', ascending=False).head(5).reset_index()\n",
    "common_games[['name', 'platform']]"
   ]
  },
  {
   "cell_type": "markdown",
   "metadata": {},
   "source": [
    "I found 5 the most common games."
   ]
  },
  {
   "cell_type": "code",
   "execution_count": 48,
   "metadata": {},
   "outputs": [
    {
     "data": {
      "text/html": [
       "<div>\n",
       "<style scoped>\n",
       "    .dataframe tbody tr th:only-of-type {\n",
       "        vertical-align: middle;\n",
       "    }\n",
       "\n",
       "    .dataframe tbody tr th {\n",
       "        vertical-align: top;\n",
       "    }\n",
       "\n",
       "    .dataframe thead th {\n",
       "        text-align: right;\n",
       "    }\n",
       "</style>\n",
       "<table border=\"1\" class=\"dataframe\">\n",
       "  <thead>\n",
       "    <tr style=\"text-align: right;\">\n",
       "      <th>platform</th>\n",
       "      <th>3DS</th>\n",
       "      <th>PC</th>\n",
       "      <th>PS3</th>\n",
       "      <th>PS4</th>\n",
       "      <th>PSV</th>\n",
       "      <th>Wii</th>\n",
       "      <th>WiiU</th>\n",
       "      <th>X360</th>\n",
       "      <th>XOne</th>\n",
       "    </tr>\n",
       "    <tr>\n",
       "      <th>name</th>\n",
       "      <th></th>\n",
       "      <th></th>\n",
       "      <th></th>\n",
       "      <th></th>\n",
       "      <th></th>\n",
       "      <th></th>\n",
       "      <th></th>\n",
       "      <th></th>\n",
       "      <th></th>\n",
       "    </tr>\n",
       "  </thead>\n",
       "  <tbody>\n",
       "    <tr>\n",
       "      <td>FIFA 14</td>\n",
       "      <td>0.23</td>\n",
       "      <td>0.40</td>\n",
       "      <td>6.46</td>\n",
       "      <td>3.01</td>\n",
       "      <td>0.41</td>\n",
       "      <td>0.38</td>\n",
       "      <td>NaN</td>\n",
       "      <td>4.22</td>\n",
       "      <td>1.16</td>\n",
       "    </tr>\n",
       "    <tr>\n",
       "      <td>FIFA 15</td>\n",
       "      <td>0.46</td>\n",
       "      <td>0.29</td>\n",
       "      <td>4.28</td>\n",
       "      <td>6.08</td>\n",
       "      <td>0.60</td>\n",
       "      <td>0.56</td>\n",
       "      <td>NaN</td>\n",
       "      <td>2.92</td>\n",
       "      <td>2.18</td>\n",
       "    </tr>\n",
       "    <tr>\n",
       "      <td>LEGO Marvel Super Heroes</td>\n",
       "      <td>0.89</td>\n",
       "      <td>0.17</td>\n",
       "      <td>1.83</td>\n",
       "      <td>1.62</td>\n",
       "      <td>0.51</td>\n",
       "      <td>NaN</td>\n",
       "      <td>0.74</td>\n",
       "      <td>2.22</td>\n",
       "      <td>1.05</td>\n",
       "    </tr>\n",
       "    <tr>\n",
       "      <td>LEGO The Hobbit</td>\n",
       "      <td>0.24</td>\n",
       "      <td>0.05</td>\n",
       "      <td>0.46</td>\n",
       "      <td>0.60</td>\n",
       "      <td>0.14</td>\n",
       "      <td>NaN</td>\n",
       "      <td>0.22</td>\n",
       "      <td>0.45</td>\n",
       "      <td>0.27</td>\n",
       "    </tr>\n",
       "    <tr>\n",
       "      <td>Lego Batman 3: Beyond Gotham</td>\n",
       "      <td>0.45</td>\n",
       "      <td>0.06</td>\n",
       "      <td>0.73</td>\n",
       "      <td>0.92</td>\n",
       "      <td>0.31</td>\n",
       "      <td>NaN</td>\n",
       "      <td>0.46</td>\n",
       "      <td>0.89</td>\n",
       "      <td>0.44</td>\n",
       "    </tr>\n",
       "  </tbody>\n",
       "</table>\n",
       "</div>"
      ],
      "text/plain": [
       "platform                       3DS    PC   PS3   PS4   PSV   Wii  WiiU  X360  \\\n",
       "name                                                                           \n",
       "FIFA 14                       0.23  0.40  6.46  3.01  0.41  0.38   NaN  4.22   \n",
       "FIFA 15                       0.46  0.29  4.28  6.08  0.60  0.56   NaN  2.92   \n",
       "LEGO Marvel Super Heroes      0.89  0.17  1.83  1.62  0.51   NaN  0.74  2.22   \n",
       "LEGO The Hobbit               0.24  0.05  0.46  0.60  0.14   NaN  0.22  0.45   \n",
       "Lego Batman 3: Beyond Gotham  0.45  0.06  0.73  0.92  0.31   NaN  0.46  0.89   \n",
       "\n",
       "platform                      XOne  \n",
       "name                                \n",
       "FIFA 14                       1.16  \n",
       "FIFA 15                       2.18  \n",
       "LEGO Marvel Super Heroes      1.05  \n",
       "LEGO The Hobbit               0.27  \n",
       "Lego Batman 3: Beyond Gotham  0.44  "
      ]
     },
     "execution_count": 48,
     "metadata": {},
     "output_type": "execute_result"
    }
   ],
   "source": [
    "#comparing sales for these games\n",
    "common_game_names = common_games['name']\n",
    "new_data.query('name in @common_game_names').pivot_table(index='name', values='total_sales', columns='platform', aggfunc='sum')"
   ]
  },
  {
   "cell_type": "markdown",
   "metadata": {},
   "source": [
    "I compared the sales of the same games on different platforms. \n",
    "I found:\n",
    "- sales of the same games are higher on PS3, PS4 and X360, Xone platform;\n",
    "- next Nintengo platforms;\n",
    "- some of the games on PSV platform have higher sales than Nintendo platforms, but moslty sales are low;\n",
    "- the lowest sales have PC."
   ]
  },
  {
   "cell_type": "code",
   "execution_count": 49,
   "metadata": {},
   "outputs": [
    {
     "data": {
      "image/png": "[encoded data removed]",
      "text/plain": [
       "<Figure size 432x288 with 1 Axes>"
      ]
     },
     "metadata": {
      "needs_background": "light"
     },
     "output_type": "display_data"
    }
   ],
   "source": [
    "#finding number of games by genre\n",
    "new_data.pivot_table(index='genre', values='name', aggfunc='count').plot(kind='bar', legend=False)\n",
    "plt.xlabel('Genre')\n",
    "plt.ylabel('Amount of games')\n",
    "plt.title('Amount of games by genre')\n",
    "plt.show()"
   ]
  },
  {
   "cell_type": "markdown",
   "metadata": {},
   "source": [
    "Over the past 4 years most games were released in the action genre."
   ]
  },
  {
   "cell_type": "code",
   "execution_count": 50,
   "metadata": {},
   "outputs": [
    {
     "data": {
      "text/html": [
       "<div>\n",
       "<style scoped>\n",
       "    .dataframe tbody tr th:only-of-type {\n",
       "        vertical-align: middle;\n",
       "    }\n",
       "\n",
       "    .dataframe tbody tr th {\n",
       "        vertical-align: top;\n",
       "    }\n",
       "\n",
       "    .dataframe thead th {\n",
       "        text-align: right;\n",
       "    }\n",
       "</style>\n",
       "<table border=\"1\" class=\"dataframe\">\n",
       "  <thead>\n",
       "    <tr style=\"text-align: right;\">\n",
       "      <th></th>\n",
       "      <th>genre</th>\n",
       "      <th>total_sales</th>\n",
       "    </tr>\n",
       "  </thead>\n",
       "  <tbody>\n",
       "    <tr>\n",
       "      <td>0</td>\n",
       "      <td>Action</td>\n",
       "      <td>1744.17</td>\n",
       "    </tr>\n",
       "    <tr>\n",
       "      <td>1</td>\n",
       "      <td>Sports</td>\n",
       "      <td>1331.27</td>\n",
       "    </tr>\n",
       "    <tr>\n",
       "      <td>2</td>\n",
       "      <td>Shooter</td>\n",
       "      <td>1052.45</td>\n",
       "    </tr>\n",
       "    <tr>\n",
       "      <td>3</td>\n",
       "      <td>Role-Playing</td>\n",
       "      <td>934.56</td>\n",
       "    </tr>\n",
       "    <tr>\n",
       "      <td>4</td>\n",
       "      <td>Platform</td>\n",
       "      <td>827.77</td>\n",
       "    </tr>\n",
       "    <tr>\n",
       "      <td>5</td>\n",
       "      <td>Misc</td>\n",
       "      <td>802.51</td>\n",
       "    </tr>\n",
       "    <tr>\n",
       "      <td>6</td>\n",
       "      <td>Racing</td>\n",
       "      <td>728.67</td>\n",
       "    </tr>\n",
       "    <tr>\n",
       "      <td>7</td>\n",
       "      <td>Fighting</td>\n",
       "      <td>447.53</td>\n",
       "    </tr>\n",
       "    <tr>\n",
       "      <td>8</td>\n",
       "      <td>Simulation</td>\n",
       "      <td>389.97</td>\n",
       "    </tr>\n",
       "    <tr>\n",
       "      <td>9</td>\n",
       "      <td>Puzzle</td>\n",
       "      <td>242.57</td>\n",
       "    </tr>\n",
       "    <tr>\n",
       "      <td>10</td>\n",
       "      <td>Adventure</td>\n",
       "      <td>236.87</td>\n",
       "    </tr>\n",
       "    <tr>\n",
       "      <td>11</td>\n",
       "      <td>Strategy</td>\n",
       "      <td>174.23</td>\n",
       "    </tr>\n",
       "  </tbody>\n",
       "</table>\n",
       "</div>"
      ],
      "text/plain": [
       "           genre  total_sales\n",
       "0         Action      1744.17\n",
       "1         Sports      1331.27\n",
       "2        Shooter      1052.45\n",
       "3   Role-Playing       934.56\n",
       "4       Platform       827.77\n",
       "5           Misc       802.51\n",
       "6         Racing       728.67\n",
       "7       Fighting       447.53\n",
       "8     Simulation       389.97\n",
       "9         Puzzle       242.57\n",
       "10     Adventure       236.87\n",
       "11      Strategy       174.23"
      ]
     },
     "execution_count": 50,
     "metadata": {},
     "output_type": "execute_result"
    }
   ],
   "source": [
    "#finding total sales per genre\n",
    "genre_data = data.groupby('genre').sum().sort_values('total_sales', ascending=False).reset_index()\n",
    "genre_data[['genre', 'total_sales']]"
   ]
  },
  {
   "cell_type": "markdown",
   "metadata": {},
   "source": [
    "The most profitable genres are Action, Sports and Shooter."
   ]
  },
  {
   "cell_type": "code",
   "execution_count": 51,
   "metadata": {},
   "outputs": [
    {
     "data": {
      "text/html": [
       "<style  type=\"text/css\" >\n",
       "    #T_00adc418_d5d1_11ea_89f9_02420a39725drow0_col3 {\n",
       "            : ;\n",
       "            background-color:  yellow;\n",
       "        }    #T_00adc418_d5d1_11ea_89f9_02420a39725drow1_col0 {\n",
       "            : ;\n",
       "            background-color:  yellow;\n",
       "        }    #T_00adc418_d5d1_11ea_89f9_02420a39725drow1_col1 {\n",
       "            : ;\n",
       "            background-color:  yellow;\n",
       "        }    #T_00adc418_d5d1_11ea_89f9_02420a39725drow1_col2 {\n",
       "            : ;\n",
       "            background-color:  yellow;\n",
       "        }    #T_00adc418_d5d1_11ea_89f9_02420a39725drow10_col1 {\n",
       "            background-color:  red;\n",
       "            : ;\n",
       "        }    #T_00adc418_d5d1_11ea_89f9_02420a39725drow11_col0 {\n",
       "            background-color:  red;\n",
       "            : ;\n",
       "        }    #T_00adc418_d5d1_11ea_89f9_02420a39725drow11_col2 {\n",
       "            background-color:  red;\n",
       "            : ;\n",
       "        }    #T_00adc418_d5d1_11ea_89f9_02420a39725drow11_col3 {\n",
       "            background-color:  red;\n",
       "            : ;\n",
       "        }</style><table id=\"T_00adc418_d5d1_11ea_89f9_02420a39725d\" ><thead>    <tr>        <th class=\"blank level0\" ></th>        <th class=\"col_heading level0 col0\" >2013</th>        <th class=\"col_heading level0 col1\" >2014</th>        <th class=\"col_heading level0 col2\" >2015</th>        <th class=\"col_heading level0 col3\" >2016</th>    </tr>    <tr>        <th class=\"index_name level0\" >genre</th>        <th class=\"blank\" ></th>        <th class=\"blank\" ></th>        <th class=\"blank\" ></th>        <th class=\"blank\" ></th>    </tr></thead><tbody>\n",
       "                <tr>\n",
       "                        <th id=\"T_00adc418_d5d1_11ea_89f9_02420a39725dlevel0_row0\" class=\"row_heading level0 row0\" >Shooter</th>\n",
       "                        <td id=\"T_00adc418_d5d1_11ea_89f9_02420a39725drow0_col0\" class=\"data row0 col0\" >62.04</td>\n",
       "                        <td id=\"T_00adc418_d5d1_11ea_89f9_02420a39725drow0_col1\" class=\"data row0 col1\" >65.21</td>\n",
       "                        <td id=\"T_00adc418_d5d1_11ea_89f9_02420a39725drow0_col2\" class=\"data row0 col2\" >67.51</td>\n",
       "                        <td id=\"T_00adc418_d5d1_11ea_89f9_02420a39725drow0_col3\" class=\"data row0 col3\" >38.22</td>\n",
       "            </tr>\n",
       "            <tr>\n",
       "                        <th id=\"T_00adc418_d5d1_11ea_89f9_02420a39725dlevel0_row1\" class=\"row_heading level0 row1\" >Action</th>\n",
       "                        <td id=\"T_00adc418_d5d1_11ea_89f9_02420a39725drow1_col0\" class=\"data row1 col0\" >121.70</td>\n",
       "                        <td id=\"T_00adc418_d5d1_11ea_89f9_02420a39725drow1_col1\" class=\"data row1 col1\" >97.15</td>\n",
       "                        <td id=\"T_00adc418_d5d1_11ea_89f9_02420a39725drow1_col2\" class=\"data row1 col2\" >71.90</td>\n",
       "                        <td id=\"T_00adc418_d5d1_11ea_89f9_02420a39725drow1_col3\" class=\"data row1 col3\" >30.11</td>\n",
       "            </tr>\n",
       "            <tr>\n",
       "                        <th id=\"T_00adc418_d5d1_11ea_89f9_02420a39725dlevel0_row2\" class=\"row_heading level0 row2\" >Sports</th>\n",
       "                        <td id=\"T_00adc418_d5d1_11ea_89f9_02420a39725drow2_col0\" class=\"data row2 col0\" >40.54</td>\n",
       "                        <td id=\"T_00adc418_d5d1_11ea_89f9_02420a39725drow2_col1\" class=\"data row2 col1\" >45.06</td>\n",
       "                        <td id=\"T_00adc418_d5d1_11ea_89f9_02420a39725drow2_col2\" class=\"data row2 col2\" >40.84</td>\n",
       "                        <td id=\"T_00adc418_d5d1_11ea_89f9_02420a39725drow2_col3\" class=\"data row2 col3\" >23.49</td>\n",
       "            </tr>\n",
       "            <tr>\n",
       "                        <th id=\"T_00adc418_d5d1_11ea_89f9_02420a39725dlevel0_row3\" class=\"row_heading level0 row3\" >Role-Playing</th>\n",
       "                        <td id=\"T_00adc418_d5d1_11ea_89f9_02420a39725drow3_col0\" class=\"data row3 col0\" >43.42</td>\n",
       "                        <td id=\"T_00adc418_d5d1_11ea_89f9_02420a39725drow3_col1\" class=\"data row3 col1\" >45.62</td>\n",
       "                        <td id=\"T_00adc418_d5d1_11ea_89f9_02420a39725drow3_col2\" class=\"data row3 col2\" >37.64</td>\n",
       "                        <td id=\"T_00adc418_d5d1_11ea_89f9_02420a39725drow3_col3\" class=\"data row3 col3\" >18.18</td>\n",
       "            </tr>\n",
       "            <tr>\n",
       "                        <th id=\"T_00adc418_d5d1_11ea_89f9_02420a39725dlevel0_row4\" class=\"row_heading level0 row4\" >Fighting</th>\n",
       "                        <td id=\"T_00adc418_d5d1_11ea_89f9_02420a39725drow4_col0\" class=\"data row4 col0\" >7.07</td>\n",
       "                        <td id=\"T_00adc418_d5d1_11ea_89f9_02420a39725drow4_col1\" class=\"data row4 col1\" >15.85</td>\n",
       "                        <td id=\"T_00adc418_d5d1_11ea_89f9_02420a39725drow4_col2\" class=\"data row4 col2\" >7.90</td>\n",
       "                        <td id=\"T_00adc418_d5d1_11ea_89f9_02420a39725drow4_col3\" class=\"data row4 col3\" >4.47</td>\n",
       "            </tr>\n",
       "            <tr>\n",
       "                        <th id=\"T_00adc418_d5d1_11ea_89f9_02420a39725dlevel0_row5\" class=\"row_heading level0 row5\" >Adventure</th>\n",
       "                        <td id=\"T_00adc418_d5d1_11ea_89f9_02420a39725drow5_col0\" class=\"data row5 col0\" >5.40</td>\n",
       "                        <td id=\"T_00adc418_d5d1_11ea_89f9_02420a39725drow5_col1\" class=\"data row5 col1\" >5.52</td>\n",
       "                        <td id=\"T_00adc418_d5d1_11ea_89f9_02420a39725drow5_col2\" class=\"data row5 col2\" >8.16</td>\n",
       "                        <td id=\"T_00adc418_d5d1_11ea_89f9_02420a39725drow5_col3\" class=\"data row5 col3\" >3.82</td>\n",
       "            </tr>\n",
       "            <tr>\n",
       "                        <th id=\"T_00adc418_d5d1_11ea_89f9_02420a39725dlevel0_row6\" class=\"row_heading level0 row6\" >Platform</th>\n",
       "                        <td id=\"T_00adc418_d5d1_11ea_89f9_02420a39725drow6_col0\" class=\"data row6 col0\" >23.85</td>\n",
       "                        <td id=\"T_00adc418_d5d1_11ea_89f9_02420a39725drow6_col1\" class=\"data row6 col1\" >8.81</td>\n",
       "                        <td id=\"T_00adc418_d5d1_11ea_89f9_02420a39725drow6_col2\" class=\"data row6 col2\" >6.05</td>\n",
       "                        <td id=\"T_00adc418_d5d1_11ea_89f9_02420a39725drow6_col3\" class=\"data row6 col3\" >3.23</td>\n",
       "            </tr>\n",
       "            <tr>\n",
       "                        <th id=\"T_00adc418_d5d1_11ea_89f9_02420a39725dlevel0_row7\" class=\"row_heading level0 row7\" >Racing</th>\n",
       "                        <td id=\"T_00adc418_d5d1_11ea_89f9_02420a39725drow7_col0\" class=\"data row7 col0\" >12.37</td>\n",
       "                        <td id=\"T_00adc418_d5d1_11ea_89f9_02420a39725drow7_col1\" class=\"data row7 col1\" >16.66</td>\n",
       "                        <td id=\"T_00adc418_d5d1_11ea_89f9_02420a39725drow7_col2\" class=\"data row7 col2\" >8.07</td>\n",
       "                        <td id=\"T_00adc418_d5d1_11ea_89f9_02420a39725drow7_col3\" class=\"data row7 col3\" >2.79</td>\n",
       "            </tr>\n",
       "            <tr>\n",
       "                        <th id=\"T_00adc418_d5d1_11ea_89f9_02420a39725dlevel0_row8\" class=\"row_heading level0 row8\" >Misc</th>\n",
       "                        <td id=\"T_00adc418_d5d1_11ea_89f9_02420a39725drow8_col0\" class=\"data row8 col0\" >25.04</td>\n",
       "                        <td id=\"T_00adc418_d5d1_11ea_89f9_02420a39725drow8_col1\" class=\"data row8 col1\" >23.36</td>\n",
       "                        <td id=\"T_00adc418_d5d1_11ea_89f9_02420a39725drow8_col2\" class=\"data row8 col2\" >11.57</td>\n",
       "                        <td id=\"T_00adc418_d5d1_11ea_89f9_02420a39725drow8_col3\" class=\"data row8 col3\" >2.60</td>\n",
       "            </tr>\n",
       "            <tr>\n",
       "                        <th id=\"T_00adc418_d5d1_11ea_89f9_02420a39725dlevel0_row9\" class=\"row_heading level0 row9\" >Simulation</th>\n",
       "                        <td id=\"T_00adc418_d5d1_11ea_89f9_02420a39725drow9_col0\" class=\"data row9 col0\" >8.42</td>\n",
       "                        <td id=\"T_00adc418_d5d1_11ea_89f9_02420a39725drow9_col1\" class=\"data row9 col1\" >5.58</td>\n",
       "                        <td id=\"T_00adc418_d5d1_11ea_89f9_02420a39725drow9_col2\" class=\"data row9 col2\" >5.66</td>\n",
       "                        <td id=\"T_00adc418_d5d1_11ea_89f9_02420a39725drow9_col3\" class=\"data row9 col3\" >1.89</td>\n",
       "            </tr>\n",
       "            <tr>\n",
       "                        <th id=\"T_00adc418_d5d1_11ea_89f9_02420a39725dlevel0_row10\" class=\"row_heading level0 row10\" >Strategy</th>\n",
       "                        <td id=\"T_00adc418_d5d1_11ea_89f9_02420a39725drow10_col0\" class=\"data row10 col0\" >6.10</td>\n",
       "                        <td id=\"T_00adc418_d5d1_11ea_89f9_02420a39725drow10_col1\" class=\"data row10 col1\" >0.98</td>\n",
       "                        <td id=\"T_00adc418_d5d1_11ea_89f9_02420a39725drow10_col2\" class=\"data row10 col2\" >1.85</td>\n",
       "                        <td id=\"T_00adc418_d5d1_11ea_89f9_02420a39725drow10_col3\" class=\"data row10 col3\" >1.13</td>\n",
       "            </tr>\n",
       "            <tr>\n",
       "                        <th id=\"T_00adc418_d5d1_11ea_89f9_02420a39725dlevel0_row11\" class=\"row_heading level0 row11\" >Puzzle</th>\n",
       "                        <td id=\"T_00adc418_d5d1_11ea_89f9_02420a39725drow11_col0\" class=\"data row11 col0\" >0.96</td>\n",
       "                        <td id=\"T_00adc418_d5d1_11ea_89f9_02420a39725drow11_col1\" class=\"data row11 col1\" >1.49</td>\n",
       "                        <td id=\"T_00adc418_d5d1_11ea_89f9_02420a39725drow11_col2\" class=\"data row11 col2\" >0.71</td>\n",
       "                        <td id=\"T_00adc418_d5d1_11ea_89f9_02420a39725drow11_col3\" class=\"data row11 col3\" >0.01</td>\n",
       "            </tr>\n",
       "    </tbody></table>"
      ],
      "text/plain": [
       "<pandas.io.formats.style.Styler at 0x7fc2ac90fb90>"
      ]
     },
     "execution_count": 51,
     "metadata": {},
     "output_type": "execute_result"
    }
   ],
   "source": [
    "genre_data = new_data.pivot_table(index='genre', values='total_sales', columns='year_of_release', aggfunc='sum')\n",
    "genre_data.columns = ['2013', '2014', '2015', '2016']\n",
    "genre_data.sort_values('2016', ascending=False).style.format(\"{:.2f}\").apply(highlight_min).apply(highlight_max)"
   ]
  },
  {
   "cell_type": "markdown",
   "metadata": {},
   "source": [
    "In 2016 year most profitable genres are the same, games in genre Shooter have highest sales (yellow color), puzzle - lowest (red color)."
   ]
  },
  {
   "cell_type": "markdown",
   "metadata": {},
   "source": [
    "[Back to the Table of Contents](#contents)"
   ]
  },
  {
   "cell_type": "markdown",
   "metadata": {},
   "source": [
    "### Conclusion <a class=\"anchor\" id=\"chapter9\"></a>"
   ]
  },
  {
   "cell_type": "markdown",
   "metadata": {},
   "source": [
    "**In this step:**\n",
    "- since 2009 number of released games is decreasing every year;\n",
    "- average platforms life cycle is 8 years;\n",
    "- 9 platforms from 31 have sales in 2016;\n",
    "\n",
    "I analyzed data since 2013-2016 for platforms with sales in 2016 and found: \n",
    "- most games were released for playstation platforms;\n",
    "- least of games were released for Wii and WiiU platforms;\n",
    "- PS4 platform has the highest profit;  \n",
    "- Wii platform has the lowest profit;\n",
    "- PS4, XOne and 3DS are potentially profitable platforms for 2017;\n",
    "- platforms PS4, X360 and XOne have highest average sales;\n",
    "- platforms 3DS, PC and PSV have lowest average sales;\n",
    "- critic score have small impact on sales;\n",
    "- user score don't affect sales;\n",
    "- the most profitable genres are Action, Sports and Shooter;\n",
    "- the least profitable genres are Puzzle, Strategy and Simulation."
   ]
  },
  {
   "cell_type": "markdown",
   "metadata": {},
   "source": [
    "[Back to the Table of Contents](#contents)"
   ]
  },
  {
   "cell_type": "markdown",
   "metadata": {},
   "source": [
    "### 4. Creating a user profile for each region <a class=\"anchor\" id=\"chapter10\"></a>"
   ]
  },
  {
   "cell_type": "code",
   "execution_count": 52,
   "metadata": {},
   "outputs": [
    {
     "data": {
      "image/png": "[encoded data removed]",
      "text/plain": [
       "<Figure size 432x288 with 1 Axes>"
      ]
     },
     "metadata": {},
     "output_type": "display_data"
    }
   ],
   "source": [
    "x = new_data['na_sales'].sum()\n",
    "y = new_data['eu_sales'].sum()\n",
    "z = new_data['jp_sales'].sum()\n",
    "t = new_data['other_sales'].sum()\n",
    "lables = ['Sales in NA', 'Sales in EU', 'Sales in JP', 'Other']\n",
    "values = [x, y, z, t]\n",
    "fig1, ax1 = plt.subplots()\n",
    "wedges, text, autotext = ax1.pie(values, labels=lables, autopct='%1.0f%%')\n",
    "ax1.axis('equal')\n",
    "plt.show()"
   ]
  },
  {
   "cell_type": "markdown",
   "metadata": {},
   "source": [
    "The biggest sales in North America and Europe."
   ]
  },
  {
   "cell_type": "code",
   "execution_count": 53,
   "metadata": {},
   "outputs": [
    {
     "data": {
      "image/png": "[encoded data removed]",
      "text/plain": [
       "<Figure size 432x288 with 1 Axes>"
      ]
     },
     "metadata": {
      "needs_background": "light"
     },
     "output_type": "display_data"
    }
   ],
   "source": [
    "new_data.pivot_table(index= 'platform', values=['na_sales', 'eu_sales', 'jp_sales'], aggfunc='sum').plot(kind='bar')\n",
    "plt.show()"
   ]
  },
  {
   "cell_type": "markdown",
   "metadata": {},
   "source": [
    "On the past 4 years the most profitable platform are:\n",
    "- North America: PS4, XOne, X360, PS3 and 3DS;\n",
    "- Europe: PS4, PS3, XOne, X360 and 3DS;\n",
    "- Japan: 3DS, PS3, PSV, PS4 and WiiU."
   ]
  },
  {
   "cell_type": "code",
   "execution_count": 54,
   "metadata": {},
   "outputs": [
    {
     "data": {
      "text/html": [
       "<style  type=\"text/css\" >\n",
       "    #T_01551394_d5d1_11ea_89f9_02420a39725drow0_col4 {\n",
       "            : ;\n",
       "            background-color:  yellow;\n",
       "        }    #T_01551394_d5d1_11ea_89f9_02420a39725drow0_col5 {\n",
       "            : ;\n",
       "            background-color:  yellow;\n",
       "        }    #T_01551394_d5d1_11ea_89f9_02420a39725drow0_col6 {\n",
       "            : ;\n",
       "            background-color:  yellow;\n",
       "        }    #T_01551394_d5d1_11ea_89f9_02420a39725drow0_col7 {\n",
       "            : ;\n",
       "            background-color:  yellow;\n",
       "        }    #T_01551394_d5d1_11ea_89f9_02420a39725drow1_col4 {\n",
       "            background-color:  red;\n",
       "            : ;\n",
       "        }    #T_01551394_d5d1_11ea_89f9_02420a39725drow1_col5 {\n",
       "            background-color:  red;\n",
       "            : ;\n",
       "        }    #T_01551394_d5d1_11ea_89f9_02420a39725drow1_col6 {\n",
       "            background-color:  red;\n",
       "            : ;\n",
       "        }    #T_01551394_d5d1_11ea_89f9_02420a39725drow1_col7 {\n",
       "            background-color:  red;\n",
       "            : ;\n",
       "        }    #T_01551394_d5d1_11ea_89f9_02420a39725drow2_col0 {\n",
       "            : ;\n",
       "            background-color:  yellow;\n",
       "        }    #T_01551394_d5d1_11ea_89f9_02420a39725drow3_col1 {\n",
       "            : ;\n",
       "            background-color:  yellow;\n",
       "        }    #T_01551394_d5d1_11ea_89f9_02420a39725drow3_col2 {\n",
       "            : ;\n",
       "            background-color:  yellow;\n",
       "        }    #T_01551394_d5d1_11ea_89f9_02420a39725drow3_col3 {\n",
       "            : ;\n",
       "            background-color:  yellow;\n",
       "        }    #T_01551394_d5d1_11ea_89f9_02420a39725drow3_col9 {\n",
       "            : ;\n",
       "            background-color:  yellow;\n",
       "        }    #T_01551394_d5d1_11ea_89f9_02420a39725drow3_col10 {\n",
       "            : ;\n",
       "            background-color:  yellow;\n",
       "        }    #T_01551394_d5d1_11ea_89f9_02420a39725drow3_col11 {\n",
       "            : ;\n",
       "            background-color:  yellow;\n",
       "        }    #T_01551394_d5d1_11ea_89f9_02420a39725drow4_col0 {\n",
       "            background-color:  red;\n",
       "            : ;\n",
       "        }    #T_01551394_d5d1_11ea_89f9_02420a39725drow4_col8 {\n",
       "            background-color:  red;\n",
       "            : ;\n",
       "        }    #T_01551394_d5d1_11ea_89f9_02420a39725drow4_col10 {\n",
       "            background-color:  red;\n",
       "            : ;\n",
       "        }    #T_01551394_d5d1_11ea_89f9_02420a39725drow5_col1 {\n",
       "            background-color:  red;\n",
       "            : ;\n",
       "        }    #T_01551394_d5d1_11ea_89f9_02420a39725drow5_col2 {\n",
       "            background-color:  red;\n",
       "            : ;\n",
       "        }    #T_01551394_d5d1_11ea_89f9_02420a39725drow5_col3 {\n",
       "            background-color:  red;\n",
       "            : ;\n",
       "        }    #T_01551394_d5d1_11ea_89f9_02420a39725drow5_col5 {\n",
       "            background-color:  red;\n",
       "            : ;\n",
       "        }    #T_01551394_d5d1_11ea_89f9_02420a39725drow5_col6 {\n",
       "            background-color:  red;\n",
       "            : ;\n",
       "        }    #T_01551394_d5d1_11ea_89f9_02420a39725drow5_col7 {\n",
       "            background-color:  red;\n",
       "            : ;\n",
       "        }    #T_01551394_d5d1_11ea_89f9_02420a39725drow5_col9 {\n",
       "            background-color:  red;\n",
       "            : ;\n",
       "        }    #T_01551394_d5d1_11ea_89f9_02420a39725drow5_col11 {\n",
       "            background-color:  red;\n",
       "            : ;\n",
       "        }    #T_01551394_d5d1_11ea_89f9_02420a39725drow7_col6 {\n",
       "            background-color:  red;\n",
       "            : ;\n",
       "        }    #T_01551394_d5d1_11ea_89f9_02420a39725drow7_col7 {\n",
       "            background-color:  red;\n",
       "            : ;\n",
       "        }    #T_01551394_d5d1_11ea_89f9_02420a39725drow7_col8 {\n",
       "            : ;\n",
       "            background-color:  yellow;\n",
       "        }</style><table id=\"T_01551394_d5d1_11ea_89f9_02420a39725d\" ><thead>    <tr>        <th class=\"blank level0\" ></th>        <th class=\"col_heading level0 col0\" colspan=4>eu_sales</th>        <th class=\"col_heading level0 col4\" colspan=4>jp_sales</th>        <th class=\"col_heading level0 col8\" colspan=4>na_sales</th>    </tr>    <tr>        <th class=\"index_name level1\" >year_of_release</th>        <th class=\"col_heading level1 col0\" >2013</th>        <th class=\"col_heading level1 col1\" >2014</th>        <th class=\"col_heading level1 col2\" >2015</th>        <th class=\"col_heading level1 col3\" >2016</th>        <th class=\"col_heading level1 col4\" >2013</th>        <th class=\"col_heading level1 col5\" >2014</th>        <th class=\"col_heading level1 col6\" >2015</th>        <th class=\"col_heading level1 col7\" >2016</th>        <th class=\"col_heading level1 col8\" >2013</th>        <th class=\"col_heading level1 col9\" >2014</th>        <th class=\"col_heading level1 col10\" >2015</th>        <th class=\"col_heading level1 col11\" >2016</th>    </tr>    <tr>        <th class=\"index_name level0\" >platform</th>        <th class=\"blank\" ></th>        <th class=\"blank\" ></th>        <th class=\"blank\" ></th>        <th class=\"blank\" ></th>        <th class=\"blank\" ></th>        <th class=\"blank\" ></th>        <th class=\"blank\" ></th>        <th class=\"blank\" ></th>        <th class=\"blank\" ></th>        <th class=\"blank\" ></th>        <th class=\"blank\" ></th>        <th class=\"blank\" ></th>    </tr></thead><tbody>\n",
       "                <tr>\n",
       "                        <th id=\"T_01551394_d5d1_11ea_89f9_02420a39725dlevel0_row0\" class=\"row_heading level0 row0\" >3DS</th>\n",
       "                        <td id=\"T_01551394_d5d1_11ea_89f9_02420a39725drow0_col0\" class=\"data row0 col0\" >14.84</td>\n",
       "                        <td id=\"T_01551394_d5d1_11ea_89f9_02420a39725drow0_col1\" class=\"data row0 col1\" >8.73</td>\n",
       "                        <td id=\"T_01551394_d5d1_11ea_89f9_02420a39725drow0_col2\" class=\"data row0 col2\" >5.06</td>\n",
       "                        <td id=\"T_01551394_d5d1_11ea_89f9_02420a39725drow0_col3\" class=\"data row0 col3\" >2.33</td>\n",
       "                        <td id=\"T_01551394_d5d1_11ea_89f9_02420a39725drow0_col4\" class=\"data row0 col4\" >23.57</td>\n",
       "                        <td id=\"T_01551394_d5d1_11ea_89f9_02420a39725drow0_col5\" class=\"data row0 col5\" >20.69</td>\n",
       "                        <td id=\"T_01551394_d5d1_11ea_89f9_02420a39725drow0_col6\" class=\"data row0 col6\" >15.52</td>\n",
       "                        <td id=\"T_01551394_d5d1_11ea_89f9_02420a39725drow0_col7\" class=\"data row0 col7\" >8.03</td>\n",
       "                        <td id=\"T_01551394_d5d1_11ea_89f9_02420a39725drow0_col8\" class=\"data row0 col8\" >15.56</td>\n",
       "                        <td id=\"T_01551394_d5d1_11ea_89f9_02420a39725drow0_col9\" class=\"data row0 col9\" >12.33</td>\n",
       "                        <td id=\"T_01551394_d5d1_11ea_89f9_02420a39725drow0_col10\" class=\"data row0 col10\" >6.17</td>\n",
       "                        <td id=\"T_01551394_d5d1_11ea_89f9_02420a39725drow0_col11\" class=\"data row0 col11\" >4.14</td>\n",
       "            </tr>\n",
       "            <tr>\n",
       "                        <th id=\"T_01551394_d5d1_11ea_89f9_02420a39725dlevel0_row1\" class=\"row_heading level0 row1\" >PC</th>\n",
       "                        <td id=\"T_01551394_d5d1_11ea_89f9_02420a39725drow1_col0\" class=\"data row1 col0\" >7.64</td>\n",
       "                        <td id=\"T_01551394_d5d1_11ea_89f9_02420a39725drow1_col1\" class=\"data row1 col1\" >8.87</td>\n",
       "                        <td id=\"T_01551394_d5d1_11ea_89f9_02420a39725drow1_col2\" class=\"data row1 col2\" >5.57</td>\n",
       "                        <td id=\"T_01551394_d5d1_11ea_89f9_02420a39725drow1_col3\" class=\"data row1 col3\" >3.53</td>\n",
       "                        <td id=\"T_01551394_d5d1_11ea_89f9_02420a39725drow1_col4\" class=\"data row1 col4\" >0.00</td>\n",
       "                        <td id=\"T_01551394_d5d1_11ea_89f9_02420a39725drow1_col5\" class=\"data row1 col5\" >0.00</td>\n",
       "                        <td id=\"T_01551394_d5d1_11ea_89f9_02420a39725drow1_col6\" class=\"data row1 col6\" >0.00</td>\n",
       "                        <td id=\"T_01551394_d5d1_11ea_89f9_02420a39725drow1_col7\" class=\"data row1 col7\" >0.00</td>\n",
       "                        <td id=\"T_01551394_d5d1_11ea_89f9_02420a39725drow1_col8\" class=\"data row1 col8\" >3.94</td>\n",
       "                        <td id=\"T_01551394_d5d1_11ea_89f9_02420a39725drow1_col9\" class=\"data row1 col9\" >3.51</td>\n",
       "                        <td id=\"T_01551394_d5d1_11ea_89f9_02420a39725drow1_col10\" class=\"data row1 col10\" >2.36</td>\n",
       "                        <td id=\"T_01551394_d5d1_11ea_89f9_02420a39725drow1_col11\" class=\"data row1 col11\" >1.36</td>\n",
       "            </tr>\n",
       "            <tr>\n",
       "                        <th id=\"T_01551394_d5d1_11ea_89f9_02420a39725dlevel0_row2\" class=\"row_heading level0 row2\" >PS3</th>\n",
       "                        <td id=\"T_01551394_d5d1_11ea_89f9_02420a39725drow2_col0\" class=\"data row2 col0\" >42.27</td>\n",
       "                        <td id=\"T_01551394_d5d1_11ea_89f9_02420a39725drow2_col1\" class=\"data row2 col1\" >18.24</td>\n",
       "                        <td id=\"T_01551394_d5d1_11ea_89f9_02420a39725drow2_col2\" class=\"data row2 col2\" >6.04</td>\n",
       "                        <td id=\"T_01551394_d5d1_11ea_89f9_02420a39725drow2_col3\" class=\"data row2 col3\" >1.26</td>\n",
       "                        <td id=\"T_01551394_d5d1_11ea_89f9_02420a39725drow2_col4\" class=\"data row2 col4\" >12.13</td>\n",
       "                        <td id=\"T_01551394_d5d1_11ea_89f9_02420a39725drow2_col5\" class=\"data row2 col5\" >6.25</td>\n",
       "                        <td id=\"T_01551394_d5d1_11ea_89f9_02420a39725drow2_col6\" class=\"data row2 col6\" >3.67</td>\n",
       "                        <td id=\"T_01551394_d5d1_11ea_89f9_02420a39725drow2_col7\" class=\"data row2 col7\" >1.30</td>\n",
       "                        <td id=\"T_01551394_d5d1_11ea_89f9_02420a39725drow2_col8\" class=\"data row2 col8\" >41.45</td>\n",
       "                        <td id=\"T_01551394_d5d1_11ea_89f9_02420a39725drow2_col9\" class=\"data row2 col9\" >16.39</td>\n",
       "                        <td id=\"T_01551394_d5d1_11ea_89f9_02420a39725drow2_col10\" class=\"data row2 col10\" >4.99</td>\n",
       "                        <td id=\"T_01551394_d5d1_11ea_89f9_02420a39725drow2_col11\" class=\"data row2 col11\" >0.67</td>\n",
       "            </tr>\n",
       "            <tr>\n",
       "                        <th id=\"T_01551394_d5d1_11ea_89f9_02420a39725dlevel0_row3\" class=\"row_heading level0 row3\" >PS4</th>\n",
       "                        <td id=\"T_01551394_d5d1_11ea_89f9_02420a39725drow3_col0\" class=\"data row3 col0\" >11.05</td>\n",
       "                        <td id=\"T_01551394_d5d1_11ea_89f9_02420a39725drow3_col1\" class=\"data row3 col1\" >46.50</td>\n",
       "                        <td id=\"T_01551394_d5d1_11ea_89f9_02420a39725drow3_col2\" class=\"data row3 col2\" >51.76</td>\n",
       "                        <td id=\"T_01551394_d5d1_11ea_89f9_02420a39725drow3_col3\" class=\"data row3 col3\" >31.78</td>\n",
       "                        <td id=\"T_01551394_d5d1_11ea_89f9_02420a39725drow3_col4\" class=\"data row3 col4\" >0.94</td>\n",
       "                        <td id=\"T_01551394_d5d1_11ea_89f9_02420a39725drow3_col5\" class=\"data row3 col5\" >2.97</td>\n",
       "                        <td id=\"T_01551394_d5d1_11ea_89f9_02420a39725drow3_col6\" class=\"data row3 col6\" >6.31</td>\n",
       "                        <td id=\"T_01551394_d5d1_11ea_89f9_02420a39725drow3_col7\" class=\"data row3 col7\" >5.74</td>\n",
       "                        <td id=\"T_01551394_d5d1_11ea_89f9_02420a39725drow3_col8\" class=\"data row3 col8\" >10.13</td>\n",
       "                        <td id=\"T_01551394_d5d1_11ea_89f9_02420a39725drow3_col9\" class=\"data row3 col9\" >34.75</td>\n",
       "                        <td id=\"T_01551394_d5d1_11ea_89f9_02420a39725drow3_col10\" class=\"data row3 col10\" >42.37</td>\n",
       "                        <td id=\"T_01551394_d5d1_11ea_89f9_02420a39725drow3_col11\" class=\"data row3 col11\" >21.49</td>\n",
       "            </tr>\n",
       "            <tr>\n",
       "                        <th id=\"T_01551394_d5d1_11ea_89f9_02420a39725dlevel0_row4\" class=\"row_heading level0 row4\" >PSV</th>\n",
       "                        <td id=\"T_01551394_d5d1_11ea_89f9_02420a39725drow4_col0\" class=\"data row4 col0\" >2.57</td>\n",
       "                        <td id=\"T_01551394_d5d1_11ea_89f9_02420a39725drow4_col1\" class=\"data row4 col1\" >2.45</td>\n",
       "                        <td id=\"T_01551394_d5d1_11ea_89f9_02420a39725drow4_col2\" class=\"data row4 col2\" >0.69</td>\n",
       "                        <td id=\"T_01551394_d5d1_11ea_89f9_02420a39725drow4_col3\" class=\"data row4 col3\" >0.39</td>\n",
       "                        <td id=\"T_01551394_d5d1_11ea_89f9_02420a39725drow4_col4\" class=\"data row4 col4\" >4.05</td>\n",
       "                        <td id=\"T_01551394_d5d1_11ea_89f9_02420a39725drow4_col5\" class=\"data row4 col5\" >6.13</td>\n",
       "                        <td id=\"T_01551394_d5d1_11ea_89f9_02420a39725drow4_col6\" class=\"data row4 col6\" >4.85</td>\n",
       "                        <td id=\"T_01551394_d5d1_11ea_89f9_02420a39725drow4_col7\" class=\"data row4 col7\" >3.56</td>\n",
       "                        <td id=\"T_01551394_d5d1_11ea_89f9_02420a39725drow4_col8\" class=\"data row4 col8\" >2.52</td>\n",
       "                        <td id=\"T_01551394_d5d1_11ea_89f9_02420a39725drow4_col9\" class=\"data row4 col9\" >1.98</td>\n",
       "                        <td id=\"T_01551394_d5d1_11ea_89f9_02420a39725drow4_col10\" class=\"data row4 col10\" >0.39</td>\n",
       "                        <td id=\"T_01551394_d5d1_11ea_89f9_02420a39725drow4_col11\" class=\"data row4 col11\" >0.15</td>\n",
       "            </tr>\n",
       "            <tr>\n",
       "                        <th id=\"T_01551394_d5d1_11ea_89f9_02420a39725dlevel0_row5\" class=\"row_heading level0 row5\" >Wii</th>\n",
       "                        <td id=\"T_01551394_d5d1_11ea_89f9_02420a39725drow5_col0\" class=\"data row5 col0\" >3.34</td>\n",
       "                        <td id=\"T_01551394_d5d1_11ea_89f9_02420a39725drow5_col1\" class=\"data row5 col1\" >1.86</td>\n",
       "                        <td id=\"T_01551394_d5d1_11ea_89f9_02420a39725drow5_col2\" class=\"data row5 col2\" >0.62</td>\n",
       "                        <td id=\"T_01551394_d5d1_11ea_89f9_02420a39725drow5_col3\" class=\"data row5 col3\" >0.11</td>\n",
       "                        <td id=\"T_01551394_d5d1_11ea_89f9_02420a39725drow5_col4\" class=\"data row5 col4\" >0.05</td>\n",
       "                        <td id=\"T_01551394_d5d1_11ea_89f9_02420a39725drow5_col5\" class=\"data row5 col5\" >0.00</td>\n",
       "                        <td id=\"T_01551394_d5d1_11ea_89f9_02420a39725drow5_col6\" class=\"data row5 col6\" >0.00</td>\n",
       "                        <td id=\"T_01551394_d5d1_11ea_89f9_02420a39725drow5_col7\" class=\"data row5 col7\" >0.00</td>\n",
       "                        <td id=\"T_01551394_d5d1_11ea_89f9_02420a39725drow5_col8\" class=\"data row5 col8\" >4.48</td>\n",
       "                        <td id=\"T_01551394_d5d1_11ea_89f9_02420a39725drow5_col9\" class=\"data row5 col9\" >1.59</td>\n",
       "                        <td id=\"T_01551394_d5d1_11ea_89f9_02420a39725drow5_col10\" class=\"data row5 col10\" >0.43</td>\n",
       "                        <td id=\"T_01551394_d5d1_11ea_89f9_02420a39725drow5_col11\" class=\"data row5 col11\" >0.06</td>\n",
       "            </tr>\n",
       "            <tr>\n",
       "                        <th id=\"T_01551394_d5d1_11ea_89f9_02420a39725dlevel0_row6\" class=\"row_heading level0 row6\" >WiiU</th>\n",
       "                        <td id=\"T_01551394_d5d1_11ea_89f9_02420a39725drow6_col0\" class=\"data row6 col0\" >6.70</td>\n",
       "                        <td id=\"T_01551394_d5d1_11ea_89f9_02420a39725drow6_col1\" class=\"data row6 col1\" >6.66</td>\n",
       "                        <td id=\"T_01551394_d5d1_11ea_89f9_02420a39725drow6_col2\" class=\"data row6 col2\" >5.01</td>\n",
       "                        <td id=\"T_01551394_d5d1_11ea_89f9_02420a39725drow6_col3\" class=\"data row6 col3\" >1.48</td>\n",
       "                        <td id=\"T_01551394_d5d1_11ea_89f9_02420a39725drow6_col4\" class=\"data row6 col4\" >3.57</td>\n",
       "                        <td id=\"T_01551394_d5d1_11ea_89f9_02420a39725drow6_col5\" class=\"data row6 col5\" >3.19</td>\n",
       "                        <td id=\"T_01551394_d5d1_11ea_89f9_02420a39725drow6_col6\" class=\"data row6 col6\" >3.45</td>\n",
       "                        <td id=\"T_01551394_d5d1_11ea_89f9_02420a39725drow6_col7\" class=\"data row6 col7\" >0.67</td>\n",
       "                        <td id=\"T_01551394_d5d1_11ea_89f9_02420a39725drow6_col8\" class=\"data row6 col8\" >9.85</td>\n",
       "                        <td id=\"T_01551394_d5d1_11ea_89f9_02420a39725drow6_col9\" class=\"data row6 col9\" >10.50</td>\n",
       "                        <td id=\"T_01551394_d5d1_11ea_89f9_02420a39725drow6_col10\" class=\"data row6 col10\" >6.76</td>\n",
       "                        <td id=\"T_01551394_d5d1_11ea_89f9_02420a39725drow6_col11\" class=\"data row6 col11\" >2.10</td>\n",
       "            </tr>\n",
       "            <tr>\n",
       "                        <th id=\"T_01551394_d5d1_11ea_89f9_02420a39725dlevel0_row7\" class=\"row_heading level0 row7\" >X360</th>\n",
       "                        <td id=\"T_01551394_d5d1_11ea_89f9_02420a39725drow7_col0\" class=\"data row7 col0\" >27.03</td>\n",
       "                        <td id=\"T_01551394_d5d1_11ea_89f9_02420a39725drow7_col1\" class=\"data row7 col1\" >11.28</td>\n",
       "                        <td id=\"T_01551394_d5d1_11ea_89f9_02420a39725drow7_col2\" class=\"data row7 col2\" >3.50</td>\n",
       "                        <td id=\"T_01551394_d5d1_11ea_89f9_02420a39725drow7_col3\" class=\"data row7 col3\" >0.71</td>\n",
       "                        <td id=\"T_01551394_d5d1_11ea_89f9_02420a39725drow7_col4\" class=\"data row7 col4\" >0.43</td>\n",
       "                        <td id=\"T_01551394_d5d1_11ea_89f9_02420a39725drow7_col5\" class=\"data row7 col5\" >0.08</td>\n",
       "                        <td id=\"T_01551394_d5d1_11ea_89f9_02420a39725drow7_col6\" class=\"data row7 col6\" >0.00</td>\n",
       "                        <td id=\"T_01551394_d5d1_11ea_89f9_02420a39725drow7_col7\" class=\"data row7 col7\" >0.00</td>\n",
       "                        <td id=\"T_01551394_d5d1_11ea_89f9_02420a39725drow7_col8\" class=\"data row7 col8\" >53.36</td>\n",
       "                        <td id=\"T_01551394_d5d1_11ea_89f9_02420a39725drow7_col9\" class=\"data row7 col9\" >20.25</td>\n",
       "                        <td id=\"T_01551394_d5d1_11ea_89f9_02420a39725drow7_col10\" class=\"data row7 col10\" >7.36</td>\n",
       "                        <td id=\"T_01551394_d5d1_11ea_89f9_02420a39725drow7_col11\" class=\"data row7 col11\" >0.69</td>\n",
       "            </tr>\n",
       "            <tr>\n",
       "                        <th id=\"T_01551394_d5d1_11ea_89f9_02420a39725dlevel0_row8\" class=\"row_heading level0 row8\" >XOne</th>\n",
       "                        <td id=\"T_01551394_d5d1_11ea_89f9_02420a39725drow8_col0\" class=\"data row8 col0\" >5.34</td>\n",
       "                        <td id=\"T_01551394_d5d1_11ea_89f9_02420a39725drow8_col1\" class=\"data row8 col1\" >18.15</td>\n",
       "                        <td id=\"T_01551394_d5d1_11ea_89f9_02420a39725drow8_col2\" class=\"data row8 col2\" >18.47</td>\n",
       "                        <td id=\"T_01551394_d5d1_11ea_89f9_02420a39725drow8_col3\" class=\"data row8 col3\" >9.63</td>\n",
       "                        <td id=\"T_01551394_d5d1_11ea_89f9_02420a39725drow8_col4\" class=\"data row8 col4\" >0.02</td>\n",
       "                        <td id=\"T_01551394_d5d1_11ea_89f9_02420a39725drow8_col5\" class=\"data row8 col5\" >0.14</td>\n",
       "                        <td id=\"T_01551394_d5d1_11ea_89f9_02420a39725drow8_col6\" class=\"data row8 col6\" >0.17</td>\n",
       "                        <td id=\"T_01551394_d5d1_11ea_89f9_02420a39725drow8_col7\" class=\"data row8 col7\" >0.01</td>\n",
       "                        <td id=\"T_01551394_d5d1_11ea_89f9_02420a39725drow8_col8\" class=\"data row8 col8\" >11.85</td>\n",
       "                        <td id=\"T_01551394_d5d1_11ea_89f9_02420a39725drow8_col9\" class=\"data row8 col9\" >30.97</td>\n",
       "                        <td id=\"T_01551394_d5d1_11ea_89f9_02420a39725drow8_col10\" class=\"data row8 col10\" >36.03</td>\n",
       "                        <td id=\"T_01551394_d5d1_11ea_89f9_02420a39725drow8_col11\" class=\"data row8 col11\" >14.27</td>\n",
       "            </tr>\n",
       "    </tbody></table>"
      ],
      "text/plain": [
       "<pandas.io.formats.style.Styler at 0x7fc29a078310>"
      ]
     },
     "execution_count": 54,
     "metadata": {},
     "output_type": "execute_result"
    }
   ],
   "source": [
    "user_prof_platform = new_data.pivot_table(index= 'platform', values=['na_sales', 'eu_sales', 'jp_sales'], columns = 'year_of_release', aggfunc='sum')\n",
    "user_prof_platform.style.format(\"{:.2f}\").apply(highlight_min).apply(highlight_max)"
   ]
  },
  {
   "cell_type": "markdown",
   "metadata": {},
   "source": [
    "Yellow color - most profitable platform  \n",
    "Red color - least profitable platform  \n",
    "I created table with sales for each platform per year for each region, as we can see by 2016 year situation are changed:\n",
    "- the most profitable platform are:\n",
    "- North America: PS4, XOne, then with a huge margin - 3DS, WiiU and PC;\n",
    "- Europe: PS4, then with a huge margin - XOne, three times least profit - PC, 3DS and WiiU;\n",
    "- Japan: 3DS, PS4, PSV, PS3, WiiU."
   ]
  },
  {
   "cell_type": "code",
   "execution_count": 55,
   "metadata": {},
   "outputs": [
    {
     "data": {
      "image/png": "[encoded data removed]",
      "text/plain": [
       "<Figure size 432x288 with 1 Axes>"
      ]
     },
     "metadata": {
      "needs_background": "light"
     },
     "output_type": "display_data"
    }
   ],
   "source": [
    "new_data.pivot_table(index= 'genre', values=['na_sales', 'eu_sales', 'jp_sales'], aggfunc='sum').plot(kind='bar')\n",
    "plt.show()"
   ]
  },
  {
   "cell_type": "markdown",
   "metadata": {},
   "source": [
    "On the past 4 years the most profitable genre are:\n",
    "- North America: Action, Shooter, Sports, Role-Playing, Misc;\n",
    "- Europe: Action, Shooter, Sport, Role-Playing, Misc;\n",
    "- Japan: Role-Playing, Action, Misc, Fighting, Shooter."
   ]
  },
  {
   "cell_type": "code",
   "execution_count": 56,
   "metadata": {},
   "outputs": [
    {
     "data": {
      "text/html": [
       "<style  type=\"text/css\" >\n",
       "    #T_01a48a00_d5d1_11ea_89f9_02420a39725drow0_col1 {\n",
       "            : ;\n",
       "            background-color:  yellow;\n",
       "        }    #T_01a48a00_d5d1_11ea_89f9_02420a39725drow5_col0 {\n",
       "            background-color:  red;\n",
       "            : ;\n",
       "        }    #T_01a48a00_d5d1_11ea_89f9_02420a39725drow5_col1 {\n",
       "            background-color:  red;\n",
       "            : ;\n",
       "        }    #T_01a48a00_d5d1_11ea_89f9_02420a39725drow5_col2 {\n",
       "            background-color:  red;\n",
       "            : ;\n",
       "        }    #T_01a48a00_d5d1_11ea_89f9_02420a39725drow8_col0 {\n",
       "            : ;\n",
       "            background-color:  yellow;\n",
       "        }    #T_01a48a00_d5d1_11ea_89f9_02420a39725drow8_col2 {\n",
       "            : ;\n",
       "            background-color:  yellow;\n",
       "        }</style><table id=\"T_01a48a00_d5d1_11ea_89f9_02420a39725d\" ><thead>    <tr>        <th class=\"blank level0\" ></th>        <th class=\"col_heading level0 col0\" >eu_sales</th>        <th class=\"col_heading level0 col1\" >jp_sales</th>        <th class=\"col_heading level0 col2\" >na_sales</th>    </tr>    <tr>        <th class=\"index_name level0\" >genre</th>        <th class=\"blank\" ></th>        <th class=\"blank\" ></th>        <th class=\"blank\" ></th>    </tr></thead><tbody>\n",
       "                <tr>\n",
       "                        <th id=\"T_01a48a00_d5d1_11ea_89f9_02420a39725dlevel0_row0\" class=\"row_heading level0 row0\" >Action</th>\n",
       "                        <td id=\"T_01a48a00_d5d1_11ea_89f9_02420a39725drow0_col0\" class=\"data row0 col0\" >10.68</td>\n",
       "                        <td id=\"T_01a48a00_d5d1_11ea_89f9_02420a39725drow0_col1\" class=\"data row0 col1\" >7.07</td>\n",
       "                        <td id=\"T_01a48a00_d5d1_11ea_89f9_02420a39725drow0_col2\" class=\"data row0 col2\" >9.29</td>\n",
       "            </tr>\n",
       "            <tr>\n",
       "                        <th id=\"T_01a48a00_d5d1_11ea_89f9_02420a39725dlevel0_row1\" class=\"row_heading level0 row1\" >Adventure</th>\n",
       "                        <td id=\"T_01a48a00_d5d1_11ea_89f9_02420a39725drow1_col0\" class=\"data row1 col0\" >1.32</td>\n",
       "                        <td id=\"T_01a48a00_d5d1_11ea_89f9_02420a39725drow1_col1\" class=\"data row1 col1\" >1.18</td>\n",
       "                        <td id=\"T_01a48a00_d5d1_11ea_89f9_02420a39725drow1_col2\" class=\"data row1 col2\" >0.95</td>\n",
       "            </tr>\n",
       "            <tr>\n",
       "                        <th id=\"T_01a48a00_d5d1_11ea_89f9_02420a39725dlevel0_row2\" class=\"row_heading level0 row2\" >Fighting</th>\n",
       "                        <td id=\"T_01a48a00_d5d1_11ea_89f9_02420a39725drow2_col0\" class=\"data row2 col0\" >1.34</td>\n",
       "                        <td id=\"T_01a48a00_d5d1_11ea_89f9_02420a39725drow2_col1\" class=\"data row2 col1\" >0.75</td>\n",
       "                        <td id=\"T_01a48a00_d5d1_11ea_89f9_02420a39725drow2_col2\" class=\"data row2 col2\" >1.84</td>\n",
       "            </tr>\n",
       "            <tr>\n",
       "                        <th id=\"T_01a48a00_d5d1_11ea_89f9_02420a39725dlevel0_row3\" class=\"row_heading level0 row3\" >Misc</th>\n",
       "                        <td id=\"T_01a48a00_d5d1_11ea_89f9_02420a39725drow3_col0\" class=\"data row3 col0\" >0.66</td>\n",
       "                        <td id=\"T_01a48a00_d5d1_11ea_89f9_02420a39725drow3_col1\" class=\"data row3 col1\" >1.04</td>\n",
       "                        <td id=\"T_01a48a00_d5d1_11ea_89f9_02420a39725drow3_col2\" class=\"data row3 col2\" >0.76</td>\n",
       "            </tr>\n",
       "            <tr>\n",
       "                        <th id=\"T_01a48a00_d5d1_11ea_89f9_02420a39725dlevel0_row4\" class=\"row_heading level0 row4\" >Platform</th>\n",
       "                        <td id=\"T_01a48a00_d5d1_11ea_89f9_02420a39725drow4_col0\" class=\"data row4 col0\" >1.39</td>\n",
       "                        <td id=\"T_01a48a00_d5d1_11ea_89f9_02420a39725drow4_col1\" class=\"data row4 col1\" >0.11</td>\n",
       "                        <td id=\"T_01a48a00_d5d1_11ea_89f9_02420a39725drow4_col2\" class=\"data row4 col2\" >1.29</td>\n",
       "            </tr>\n",
       "            <tr>\n",
       "                        <th id=\"T_01a48a00_d5d1_11ea_89f9_02420a39725dlevel0_row5\" class=\"row_heading level0 row5\" >Puzzle</th>\n",
       "                        <td id=\"T_01a48a00_d5d1_11ea_89f9_02420a39725drow5_col0\" class=\"data row5 col0\" >0.01</td>\n",
       "                        <td id=\"T_01a48a00_d5d1_11ea_89f9_02420a39725drow5_col1\" class=\"data row5 col1\" >0.00</td>\n",
       "                        <td id=\"T_01a48a00_d5d1_11ea_89f9_02420a39725drow5_col2\" class=\"data row5 col2\" >0.00</td>\n",
       "            </tr>\n",
       "            <tr>\n",
       "                        <th id=\"T_01a48a00_d5d1_11ea_89f9_02420a39725dlevel0_row6\" class=\"row_heading level0 row6\" >Racing</th>\n",
       "                        <td id=\"T_01a48a00_d5d1_11ea_89f9_02420a39725drow6_col0\" class=\"data row6 col0\" >1.77</td>\n",
       "                        <td id=\"T_01a48a00_d5d1_11ea_89f9_02420a39725drow6_col1\" class=\"data row6 col1\" >0.01</td>\n",
       "                        <td id=\"T_01a48a00_d5d1_11ea_89f9_02420a39725drow6_col2\" class=\"data row6 col2\" >0.73</td>\n",
       "            </tr>\n",
       "            <tr>\n",
       "                        <th id=\"T_01a48a00_d5d1_11ea_89f9_02420a39725dlevel0_row7\" class=\"row_heading level0 row7\" >Role-Playing</th>\n",
       "                        <td id=\"T_01a48a00_d5d1_11ea_89f9_02420a39725drow7_col0\" class=\"data row7 col0\" >4.28</td>\n",
       "                        <td id=\"T_01a48a00_d5d1_11ea_89f9_02420a39725drow7_col1\" class=\"data row7 col1\" >6.61</td>\n",
       "                        <td id=\"T_01a48a00_d5d1_11ea_89f9_02420a39725drow7_col2\" class=\"data row7 col2\" >5.89</td>\n",
       "            </tr>\n",
       "            <tr>\n",
       "                        <th id=\"T_01a48a00_d5d1_11ea_89f9_02420a39725dlevel0_row8\" class=\"row_heading level0 row8\" >Shooter</th>\n",
       "                        <td id=\"T_01a48a00_d5d1_11ea_89f9_02420a39725drow8_col0\" class=\"data row8 col0\" >15.90</td>\n",
       "                        <td id=\"T_01a48a00_d5d1_11ea_89f9_02420a39725drow8_col1\" class=\"data row8 col1\" >1.06</td>\n",
       "                        <td id=\"T_01a48a00_d5d1_11ea_89f9_02420a39725drow8_col2\" class=\"data row8 col2\" >16.24</td>\n",
       "            </tr>\n",
       "            <tr>\n",
       "                        <th id=\"T_01a48a00_d5d1_11ea_89f9_02420a39725dlevel0_row9\" class=\"row_heading level0 row9\" >Simulation</th>\n",
       "                        <td id=\"T_01a48a00_d5d1_11ea_89f9_02420a39725drow9_col0\" class=\"data row9 col0\" >1.27</td>\n",
       "                        <td id=\"T_01a48a00_d5d1_11ea_89f9_02420a39725drow9_col1\" class=\"data row9 col1\" >0.33</td>\n",
       "                        <td id=\"T_01a48a00_d5d1_11ea_89f9_02420a39725drow9_col2\" class=\"data row9 col2\" >0.16</td>\n",
       "            </tr>\n",
       "            <tr>\n",
       "                        <th id=\"T_01a48a00_d5d1_11ea_89f9_02420a39725dlevel0_row10\" class=\"row_heading level0 row10\" >Sports</th>\n",
       "                        <td id=\"T_01a48a00_d5d1_11ea_89f9_02420a39725drow10_col0\" class=\"data row10 col0\" >12.01</td>\n",
       "                        <td id=\"T_01a48a00_d5d1_11ea_89f9_02420a39725drow10_col1\" class=\"data row10 col1\" >0.92</td>\n",
       "                        <td id=\"T_01a48a00_d5d1_11ea_89f9_02420a39725drow10_col2\" class=\"data row10 col2\" >7.54</td>\n",
       "            </tr>\n",
       "            <tr>\n",
       "                        <th id=\"T_01a48a00_d5d1_11ea_89f9_02420a39725dlevel0_row11\" class=\"row_heading level0 row11\" >Strategy</th>\n",
       "                        <td id=\"T_01a48a00_d5d1_11ea_89f9_02420a39725drow11_col0\" class=\"data row11 col0\" >0.59</td>\n",
       "                        <td id=\"T_01a48a00_d5d1_11ea_89f9_02420a39725drow11_col1\" class=\"data row11 col1\" >0.23</td>\n",
       "                        <td id=\"T_01a48a00_d5d1_11ea_89f9_02420a39725drow11_col2\" class=\"data row11 col2\" >0.24</td>\n",
       "            </tr>\n",
       "    </tbody></table>"
      ],
      "text/plain": [
       "<pandas.io.formats.style.Styler at 0x7fc2ac1e93d0>"
      ]
     },
     "execution_count": 56,
     "metadata": {},
     "output_type": "execute_result"
    }
   ],
   "source": [
    "user_prof_genre = new_data.query('year_of_release == 2016').pivot_table(index= 'genre', values=['na_sales', 'eu_sales', 'jp_sales'], aggfunc='sum')\n",
    "user_prof_genre.style.format(\"{:.2f}\").apply(highlight_min).apply(highlight_max)"
   ]
  },
  {
   "cell_type": "markdown",
   "metadata": {},
   "source": [
    "Yellow color - most profitable platform  \n",
    "Red color - least profitable platform  \n",
    "I created table with sales for each genre for each region, as we can see by 2016 year situation are changed:\n",
    "- the most profitable genres are:\n",
    "- North America: Shooter, Action, Sports, Role-playing and Fighting; \n",
    "- Europe: Shooter, Action, Sports, Role-playing and Racing;\n",
    "- Japan: Action, Role-playing, Adventure, Shooter and Misc."
   ]
  },
  {
   "cell_type": "code",
   "execution_count": 57,
   "metadata": {},
   "outputs": [
    {
     "data": {
      "image/png": "[encoded data removed]",
      "text/plain": [
       "<Figure size 432x288 with 1 Axes>"
      ]
     },
     "metadata": {
      "needs_background": "light"
     },
     "output_type": "display_data"
    }
   ],
   "source": [
    "new_data.pivot_table(index= 'rating', values=['na_sales', 'eu_sales', 'jp_sales'], aggfunc='sum').plot(kind='bar')\n",
    "plt.show()"
   ]
  },
  {
   "cell_type": "markdown",
   "metadata": {},
   "source": [
    "Games with rating M (17+) are most profitable in North America and Europe, E10+ - least, difference between sales per ratings are significant.  \n",
    "Games with rating T (13+) are most profitable in Japan, difference between sales per ratings are not significant."
   ]
  },
  {
   "cell_type": "markdown",
   "metadata": {},
   "source": [
    "[Back to the Table of Contents](#contents)"
   ]
  },
  {
   "cell_type": "markdown",
   "metadata": {},
   "source": [
    "### Conclusion <a class=\"anchor\" id=\"chapter11\"></a>"
   ]
  },
  {
   "cell_type": "markdown",
   "metadata": {},
   "source": [
    "**In this step I found:**\n",
    "- market shares for each region;\n",
    "- most profitable platforms and genre for each region;\n",
    "- ESRB ratings affect sales in North America and Europe."
   ]
  },
  {
   "cell_type": "markdown",
   "metadata": {},
   "source": [
    "[Back to the Table of Contents](#contents)"
   ]
  },
  {
   "cell_type": "markdown",
   "metadata": {},
   "source": [
    "### 5. Testing hypotheses <a class=\"anchor\" id=\"chapter12\"></a>"
   ]
  },
  {
   "cell_type": "markdown",
   "metadata": {},
   "source": [
    "We need to check if the **average user ratings of the Xbox One and PC platforms are the same.**  \n",
    "\n",
    "First I need to formulate hypotheses:  \n",
    "- H0 - average user ratings of the Xbox One and PC platforms are equal;\n",
    "- H1 - user ratings of the Xbox One and PC platforms are not equal."
   ]
  },
  {
   "cell_type": "markdown",
   "metadata": {},
   "source": [
    "For testing hypotheses I want to use t-test.  \n",
    "**Why?**\n",
    "- t-test a statistic method used to determine if there is a significant difference between the means of two groups based on a sample of data;\n",
    "- t-test with two samples is commonly used with small sample sizes.  \n",
    "  \n",
    "**T-Test conditions and criteria:**\n",
    "- the populations (where the samples come from) follow the normal distribution (normality criterion);\n",
    "- the variances of the populations are also the same (variety criterion).  \n",
    "\n",
    "In case if both criteria are True - I can use Student's t test for testing hypoteseses;  \n",
    "In case if we have different variance I can use Welchh's t-test;  \n",
    "In case if we have not normal distribution I can use The Mann Whitney U test, but it might be the case that sample data is large enough to apply Student's/Welch's t-test although the normality criterion is violated.  "
   ]
  },
  {
   "cell_type": "code",
   "execution_count": 58,
   "metadata": {},
   "outputs": [
    {
     "data": {
      "image/png": "[encoded data removed]",
      "text/plain": [
       "<Figure size 432x288 with 1 Axes>"
      ]
     },
     "metadata": {
      "needs_background": "light"
     },
     "output_type": "display_data"
    },
    {
     "name": "stdout",
     "output_type": "stream",
     "text": [
      "Xbox One\n",
      "count    182.000000\n",
      "mean       6.521429\n",
      "std        1.380941\n",
      "min        1.600000\n",
      "25%        5.800000\n",
      "50%        6.800000\n",
      "75%        7.500000\n",
      "max        9.200000\n",
      "Name: user_score, dtype: float64\n",
      "\n",
      "Skewness coefficient: -0.86\n",
      "Variance: 1.90\n",
      "\n",
      "PC\n",
      "count    156.000000\n",
      "mean       6.283974\n",
      "std        1.745908\n",
      "min        1.400000\n",
      "25%        5.300000\n",
      "50%        6.800000\n",
      "75%        7.600000\n",
      "max        9.300000\n",
      "Name: user_score, dtype: float64\n",
      "\n",
      "Skewness coefficient: -0.75\n",
      "Variance: 3.03\n"
     ]
    }
   ],
   "source": [
    "XOne_user_score = new_data.query('platform == \"XOne\" & user_score >= 0')['user_score'].copy()\n",
    "PC_user_score = new_data.query('platform == \"PC\" & user_score >= 0')['user_score'].copy()\n",
    "XOne_user_score.hist(density=True)\n",
    "PC_user_score.hist(density=True, alpha=0.5)\n",
    "plt.show()\n",
    "print('Xbox One')\n",
    "print(XOne_user_score.describe())\n",
    "print()\n",
    "print('Skewness coefficient: {:.2f}'.format(XOne_user_score.skew()))\n",
    "print( 'Variance: {:.2f}'.format(np.var(XOne_user_score)))\n",
    "print()\n",
    "print('PC')\n",
    "print(PC_user_score.describe())\n",
    "print()\n",
    "print('Skewness coefficient: {:.2f}'.format(PC_user_score.skew()))\n",
    "print( 'Variance: {:.2f}'.format(np.var(PC_user_score)))"
   ]
  },
  {
   "cell_type": "markdown",
   "metadata": {},
   "source": [
    "I found that in the sample's group distribution is not normal and variance is different.  \n",
    "I will check the normality and variance criteria for groups in data set:"
   ]
  },
  {
   "cell_type": "markdown",
   "metadata": {},
   "source": [
    "To test for normality, I will use the **Shapiro-Wilk test.**  \n",
    "H0- the sample was drawn from a normal (Gaussian) distribution;  \n",
    "H1- the sample wasn't drawn from a normal (Gaussian) distribution."
   ]
  },
  {
   "cell_type": "code",
   "execution_count": 59,
   "metadata": {},
   "outputs": [
    {
     "name": "stdout",
     "output_type": "stream",
     "text": [
      "Statistics: 0.955055296421051, p: 1.524856543255737e-05\n",
      "We reject the null hypothesis\n"
     ]
    }
   ],
   "source": [
    "#testing hypotheses\n",
    "stat, p = st.shapiro(XOne_user_score)\n",
    "print('Statistics: {}, p: {}'. format(stat, p))\n",
    "# interpret\n",
    "alpha = 0.05\n",
    "if p < alpha:\n",
    "    print(\"We reject the null hypothesis\")\n",
    "else:\n",
    "    print(\"We can't reject the null hypothesis\") "
   ]
  },
  {
   "cell_type": "code",
   "execution_count": 60,
   "metadata": {
    "scrolled": true
   },
   "outputs": [
    {
     "name": "stdout",
     "output_type": "stream",
     "text": [
      "Statistics: 0.9412239789962769, p: 4.413459919305751e-06\n",
      "We reject the null hypothesis\n"
     ]
    }
   ],
   "source": [
    "#testing hypotheses\n",
    "stat, p = st.shapiro(PC_user_score)\n",
    "print('Statistics: {}, p: {}'. format(stat, p))\n",
    "# interpret\n",
    "alpha = 0.05\n",
    "if p < alpha:\n",
    "    print(\"We reject the null hypothesis\")\n",
    "else:\n",
    "    print(\"We can't reject the null hypothesis\")"
   ]
  },
  {
   "cell_type": "markdown",
   "metadata": {},
   "source": [
    "**Conclusion:**  \n",
    "Since p < alpha for sample, and p value is so small - we have high probability that the data set wasn't drawn from a normal distribution."
   ]
  },
  {
   "cell_type": "markdown",
   "metadata": {},
   "source": [
    "To test for variance, I will use **the Levene test.**  \n",
    "H0- the variances of the data set are the same for both groups;  \n",
    "H1- the variance of the data set are not the same."
   ]
  },
  {
   "cell_type": "code",
   "execution_count": 61,
   "metadata": {},
   "outputs": [
    {
     "name": "stdout",
     "output_type": "stream",
     "text": [
      "Statistics: 8.601515189469591, p: 0.0035894229358260526\n",
      "We reject the null hypothesis\n"
     ]
    }
   ],
   "source": [
    "#testing hypotheses\n",
    "stat, p = st.levene(XOne_user_score, PC_user_score)\n",
    "print('Statistics: {}, p: {}'. format(stat, p))\n",
    "alpha = 0.05\n",
    "if p < alpha:\n",
    "    print(\"We reject the null hypothesis\")\n",
    "else:\n",
    "    print(\"We can't reject the null hypothesis\") "
   ]
  },
  {
   "cell_type": "markdown",
   "metadata": {},
   "source": [
    "**Conclusion:**  \n",
    "Since p < alpha, and p value is so small - we have high probability that the data sets's dispersion are not the same."
   ]
  },
  {
   "cell_type": "markdown",
   "metadata": {},
   "source": [
    "Since we found that population have different variances and not normal distributions, better to do Mann Whitney tests to check if the average user ratings of the Xbox One and PC platforms are the same.  \n",
    "But I admit that it might be the case that sample data is large enough to apply Welch's t-test and as I know I this case the methods of the scipy library can make the t-distribution normal automatically.  \n",
    "Therefore I will do both tests."
   ]
  },
  {
   "cell_type": "code",
   "execution_count": 62,
   "metadata": {},
   "outputs": [
    {
     "name": "stdout",
     "output_type": "stream",
     "text": [
      "Welch's test result:\n",
      "p-value: 0.17156613829336056\n",
      "We can't reject the null hypothesis\n"
     ]
    }
   ],
   "source": [
    "#testing hypotheses\n",
    "print(\"Welch's test result:\")\n",
    "\n",
    "alpha = 0.05\n",
    "\n",
    "results = st.ttest_ind(XOne_user_score, PC_user_score, equal_var = False)\n",
    "\n",
    "print('p-value:', results.pvalue)\n",
    "\n",
    "if (results.pvalue < alpha):\n",
    "    print(\"We reject the null hypothesis\")\n",
    "else:\n",
    "    print(\"We can't reject the null hypothesis\")"
   ]
  },
  {
   "cell_type": "code",
   "execution_count": 63,
   "metadata": {},
   "outputs": [
    {
     "name": "stdout",
     "output_type": "stream",
     "text": [
      "Mann Whitney's U tests result:\n",
      "p-value: 0.5655160339922649\n",
      "We can't reject the null hypothesis\n"
     ]
    }
   ],
   "source": [
    "#testing hypotheses\n",
    "print(\"Mann Whitney's U tests result:\")\n",
    "alpha = 0.05\n",
    "\n",
    "from scipy.stats import mannwhitneyu\n",
    "\n",
    "results = mannwhitneyu(XOne_user_score, PC_user_score, alternative='two-sided')\n",
    "\n",
    "print('p-value:', results.pvalue)\n",
    "\n",
    "if (results.pvalue < alpha):\n",
    "    print(\"We reject the null hypothesis\")\n",
    "else:\n",
    "    print(\"We can't reject the null hypothesis\")"
   ]
  },
  {
   "cell_type": "markdown",
   "metadata": {},
   "source": [
    "**Conclusion:**  \n",
    "Result from both tests: We can't reject the null hypothesis.  \n",
    "The p-value is big, it strongly suggests that the average user ratings of the Xbox One and PC platforms are the same."
   ]
  },
  {
   "cell_type": "markdown",
   "metadata": {},
   "source": [
    "We need to check if the **average user ratings for the Action and Sports genres are different.**  \n",
    "\n",
    "First I need to formulate hypotheses:  \n",
    "- H0 - average user ratings for the Action and Sports genres are equal  (H0 is always stated with an equal sign);\n",
    "- H1 - user ratings for the Action and Sports genres are not equal (according to the task)."
   ]
  },
  {
   "cell_type": "code",
   "execution_count": 64,
   "metadata": {},
   "outputs": [
    {
     "data": {
      "image/png": "[encoded data removed]",
      "text/plain": [
       "<Figure size 432x288 with 1 Axes>"
      ]
     },
     "metadata": {
      "needs_background": "light"
     },
     "output_type": "display_data"
    },
    {
     "name": "stdout",
     "output_type": "stream",
     "text": [
      "Action\n",
      "count    389.000000\n",
      "mean       6.847044\n",
      "std        1.328794\n",
      "min        2.000000\n",
      "25%        6.300000\n",
      "50%        7.100000\n",
      "75%        7.800000\n",
      "max        9.100000\n",
      "Name: user_score, dtype: float64\n",
      "\n",
      "Skewness coefficient: -1.23\n",
      "Variance: 1.76\n",
      "\n",
      "Sports\n",
      "count    159.000000\n",
      "mean       5.249686\n",
      "std        1.783038\n",
      "min        0.200000\n",
      "25%        4.100000\n",
      "50%        5.500000\n",
      "75%        6.500000\n",
      "max        8.800000\n",
      "Name: user_score, dtype: float64\n",
      "\n",
      "Skewness coefficient: -0.38\n",
      "Variance: 3.16\n"
     ]
    }
   ],
   "source": [
    "action_user_score = new_data.query('genre == \"Action\" & user_score >= 0')['user_score'].copy()\n",
    "sports_user_score = new_data.query('genre == \"Sports\" & user_score >= 0')['user_score'].copy()\n",
    "XOne_user_score.hist(density=True)\n",
    "PC_user_score.hist(density=True, alpha=0.5)\n",
    "plt.show()\n",
    "print('Action')\n",
    "print(action_user_score.describe())\n",
    "print()\n",
    "print('Skewness coefficient: {:.2f}'.format(action_user_score.skew()))\n",
    "print( 'Variance: {:.2f}'.format(np.var(action_user_score)))\n",
    "print()\n",
    "print('Sports')\n",
    "print(sports_user_score.describe())\n",
    "print()\n",
    "print('Skewness coefficient: {:.2f}'.format(sports_user_score.skew()))\n",
    "print( 'Variance: {:.2f}'.format(np.var(sports_user_score)))"
   ]
  },
  {
   "cell_type": "markdown",
   "metadata": {},
   "source": [
    "I found that in the sample's group distribution is not normal and variance is different.  \n",
    "I will check the normality and variance criteria for groups in data set:"
   ]
  },
  {
   "cell_type": "markdown",
   "metadata": {},
   "source": [
    "To test for normality, I will use the **Shapiro-Wilk test.**  \n",
    "H0- the sample was drawn from a normal (Gaussian) distribution;  \n",
    "H1- the sample wasn't drawn from a normal (Gaussian) distribution."
   ]
  },
  {
   "cell_type": "code",
   "execution_count": 65,
   "metadata": {},
   "outputs": [
    {
     "name": "stdout",
     "output_type": "stream",
     "text": [
      "Statistics: 0.9063152074813843, p: 9.011459011995255e-15\n",
      "We reject the null hypothesis\n"
     ]
    }
   ],
   "source": [
    "#testing hypotheses\n",
    "stat, p = st.shapiro(action_user_score)\n",
    "print('Statistics: {}, p: {}'. format(stat, p))\n",
    "# interpret\n",
    "alpha = 0.05\n",
    "if p < alpha:\n",
    "    print(\"We reject the null hypothesis\")\n",
    "else:\n",
    "    print(\"We can't reject the null hypothesis\") "
   ]
  },
  {
   "cell_type": "code",
   "execution_count": 66,
   "metadata": {},
   "outputs": [
    {
     "name": "stdout",
     "output_type": "stream",
     "text": [
      "Statistics: 0.9811745882034302, p: 0.028929850086569786\n",
      "We reject the null hypothesis\n"
     ]
    }
   ],
   "source": [
    "#testing hypotheses\n",
    "stat, p = st.shapiro(sports_user_score)\n",
    "print('Statistics: {}, p: {}'. format(stat, p))\n",
    "# interpret\n",
    "alpha = 0.05\n",
    "if p < alpha:\n",
    "    print(\"We reject the null hypothesis\")\n",
    "else:\n",
    "    print(\"We can't reject the null hypothesis\") "
   ]
  },
  {
   "cell_type": "markdown",
   "metadata": {},
   "source": [
    "**Conclusion:**  \n",
    "Since p < alpha for sample, and p value is so small - we reject H0, the data set wasn't drawn from a normal distribution."
   ]
  },
  {
   "cell_type": "markdown",
   "metadata": {},
   "source": [
    "To test for variance, I will use **the Levene test.**  \n",
    "H0- the variances of the data set are the same for both groups;  \n",
    "H1- the variance of the data set are not the same."
   ]
  },
  {
   "cell_type": "code",
   "execution_count": 67,
   "metadata": {},
   "outputs": [
    {
     "name": "stdout",
     "output_type": "stream",
     "text": [
      "Statistics: 25.944256045012096, p: 4.847402302472985e-07\n",
      "We reject the null hypothesis\n"
     ]
    }
   ],
   "source": [
    "#testing hypotheses\n",
    "stat, p = st.levene(action_user_score, sports_user_score)\n",
    "print('Statistics: {}, p: {}'. format(stat, p))\n",
    "alpha = 0.05\n",
    "if p < alpha:\n",
    "    print(\"We reject the null hypothesis\")\n",
    "else:\n",
    "    print(\"We can't reject the null hypothesis\") "
   ]
  },
  {
   "cell_type": "markdown",
   "metadata": {},
   "source": [
    "**Conclusion:**  \n",
    "Since p < alpha, and p value is so small - we have high probability that the data sets's dispersion are not the same."
   ]
  },
  {
   "cell_type": "markdown",
   "metadata": {},
   "source": [
    "Since we found that population have different variances and not normal distributions, better to do Mann Whitney tests to check if the average user ratings for the Action and Sports genres are different.  \n",
    "But I admit that it might be the case that sample data is large enough to apply Welch's t-test and as I know I this case the methods of the scipy library can make the t-distribution normal automatically.  \n",
    "Therefore I will do both tests."
   ]
  },
  {
   "cell_type": "code",
   "execution_count": 68,
   "metadata": {},
   "outputs": [
    {
     "name": "stdout",
     "output_type": "stream",
     "text": [
      "Welch's test result:\n",
      "p-value: 1.9829262296274313e-20\n",
      "We reject the null hypothesis\n"
     ]
    }
   ],
   "source": [
    "#testing hypotheses\n",
    "print(\"Welch's test result:\")\n",
    "\n",
    "alpha = 0.05\n",
    "\n",
    "results = st.ttest_ind(action_user_score, sports_user_score, equal_var = False)\n",
    "\n",
    "print('p-value:', results.pvalue)\n",
    "\n",
    "if (results.pvalue < alpha):\n",
    "    print(\"We reject the null hypothesis\")\n",
    "else:\n",
    "    print(\"We can't reject the null hypothesis\")"
   ]
  },
  {
   "cell_type": "code",
   "execution_count": 69,
   "metadata": {},
   "outputs": [
    {
     "name": "stdout",
     "output_type": "stream",
     "text": [
      "Mann Whitney's U tests result:\n",
      "p-value: 1.6953572885619884e-23\n",
      "We reject the null hypothesis\n"
     ]
    }
   ],
   "source": [
    "#testing hypotheses\n",
    "print(\"Mann Whitney's U tests result:\")\n",
    "alpha = 0.05\n",
    "\n",
    "from scipy.stats import mannwhitneyu\n",
    "\n",
    "results = mannwhitneyu(action_user_score, sports_user_score, alternative='two-sided')\n",
    "\n",
    "print('p-value:', results.pvalue)\n",
    "\n",
    "if (results.pvalue < alpha):\n",
    "    print(\"We reject the null hypothesis\")\n",
    "else:\n",
    "    print(\"We can't reject the null hypothesis\")"
   ]
  },
  {
   "cell_type": "markdown",
   "metadata": {},
   "source": [
    "**Conclusion:**  \n",
    "Result from both tests: We reject the null hypothesis.  \n",
    "The p-value is so small, it strongly suggests that the average user ratings for the Action and Sports genres are different."
   ]
  },
  {
   "cell_type": "markdown",
   "metadata": {},
   "source": [
    "[Back to the Table of Contents](#contents)"
   ]
  },
  {
   "cell_type": "markdown",
   "metadata": {},
   "source": [
    "### Conclusion <a class=\"anchor\" id=\"chapter13\"></a>"
   ]
  },
  {
   "cell_type": "markdown",
   "metadata": {},
   "source": [
    "**In this step I found:**\n",
    "- high probability that the average user ratings of the Xbox One and PC platforms are the same;\n",
    "- high probability the average user ratings for the Action and Sports genres are different."
   ]
  },
  {
   "cell_type": "markdown",
   "metadata": {},
   "source": [
    "[Back to the Table of Contents](#contents)"
   ]
  },
  {
   "cell_type": "markdown",
   "metadata": {},
   "source": [
    "### Overall conclusion <a class=\"anchor\" id=\"chapter14\"></a>"
   ]
  },
  {
   "cell_type": "markdown",
   "metadata": {},
   "source": [
    "I analyzed games on 9 platform that were released 2013-2016.  \n",
    "Patterns that were identified:\n",
    "\n",
    "1. In average platforms have sales during 8 years;\n",
    "\n",
    "---\n",
    "\n",
    "2. Potential profitable platforms in general and per region (1-highest possible profit, 9-lowest possible profit):\n",
    "\n",
    "| Platform  | in general | NA_region | EU_region | JP_region |\n",
    "| :--- | :--- | :--- | :--- | :--- |\n",
    "| PS4 | 1 | 1 | 1 | 2 |\n",
    "| XOne | 2 | 2 | 2 | 6 |\n",
    "| 3DS | 3 | 3 | 4 | 1 |\n",
    "| PC | 4 | 5 | 3 | - |\n",
    "| PSV | 5 | 8 | 8 | 3 |\n",
    "| WiiU | 6 | 4 | 5 | 5 |\n",
    "| PS3 | 7 | 7 | 6 | 4 |\n",
    "| X360 | 8 | 6 | 7 | - |\n",
    "| Wii | 9 | 9 | 9 | - |\n",
    "\n",
    "*(-) - no sales in 2016*\n",
    "\n",
    "---\n",
    "\n",
    "3. Top 5 potential profitable genres in general and per region (in descending order):\n",
    "\n",
    "    - In general: Shooter, Action, Sports, Role-playing, Fighting; \n",
    "    - North America: Shooter, Action, Sports, Role-playing, Fighting; \n",
    "    - Europe: Shooter, Action, Sports, Role-playing and Racing;\n",
    "    - Japan: Action, Role-playing, Adventure, Shooter and Misc."
   ]
  }
 ],
 "metadata": {
  "kernelspec": {
   "display_name": "Python 3",
   "language": "python",
   "name": "python3"
  },
  "language_info": {
   "codemirror_mode": {
    "name": "ipython",
    "version": 3
   },
   "file_extension": ".py",
   "mimetype": "text/x-python",
   "name": "python",
   "nbconvert_exporter": "python",
   "pygments_lexer": "ipython3",
   "version": "3.7.6"
  }
 },
 "nbformat": 4,
 "nbformat_minor": 4
}
